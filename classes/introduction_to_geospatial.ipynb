{
 "cells": [
  {
   "cell_type": "code",
   "execution_count": 1,
   "id": "2eaab456",
   "metadata": {},
   "outputs": [],
   "source": [
    "import warnings\n",
    "\n",
    "warnings.filterwarnings(\"ignore\")"
   ]
  },
  {
   "cell_type": "markdown",
   "id": "220113da-29c8-40bf-8db7-508dbf32d496",
   "metadata": {},
   "source": [
    "# <font color=\"#229966\">Introducción a la Estadística Espacial</font>"
   ]
  },
  {
   "attachments": {
    "fc382cee-0a51-4d69-adca-8007204b2651.png": {
     "image/png": "[encoded data removed]"
    }
   },
   "cell_type": "markdown",
   "id": "b23c0515-cfb6-4d72-b912-6e434fc92a6d",
   "metadata": {},
   "source": [
    "![imagen.png](attachment:fc382cee-0a51-4d69-adca-8007204b2651.png)\n"
   ]
  },
  {
   "cell_type": "markdown",
   "id": "9303e78a-e67c-431a-871e-972b682b46fd",
   "metadata": {},
   "source": [
    "## <font color=\"#229966\">Gráficos y mapas en Python con geopandas y matplotlib</font>\n",
    "\n",
    "Aprenderemos cómo cargar, manipular y visualizar datos espaciales. En algunos sentidos, los datos espaciales se han vuelto tan omnipresentes que hoy en día, por lo general, se incluyen simplemente como \"una columna más\" en una tabla. Sin embargo, el espacio es especial a veces y hay algunos aspectos en los que los datos geográficos difieren de las tablas numéricas estándar. \n",
    "\n",
    "En esta práctica de laboratorio aprenderá a hacer mapas pulidos como este con solo unos pocos comandos:\n",
    "\n",
    "## <font color=\"#229966\">AYUDA</font>\n",
    "\n",
    "La biblioteca principal empleada para todo esto es <font color=\"#229966\">**geopandas**</font>, que es una extensión geoespacial de la biblioteca de pandas.\n",
    "\n",
    "Geopandas admite exactamente la misma funcionalidad que pandas (de hecho, ya que está construida encima, por lo que la mayoría de los objetos subyacentes son de pandas), más una amplia gama de contrapartes espaciales que hacen manipulación general de datos espaciales tan fácil como tablas no-espaciales. \n",
    "\n",
    "\n",
    "Como las mamushkas, geopandas es una muñeca rusa que adentro contiene pandas."
   ]
  },
  {
   "cell_type": "code",
   "execution_count": 2,
   "id": "e4a9479e-1f45-4838-99ef-7591a40f7c0f",
   "metadata": {},
   "outputs": [],
   "source": [
    "# importamos las librerías que veníamos trabajando\n",
    "import pandas as pd\n",
    "import numpy as np\n",
    "import seaborn as sns\n",
    "\n",
    "# y sumamos las que vamos a necesitar\n",
    "import geopandas as gpd\n",
    "import shapely"
   ]
  },
  {
   "cell_type": "code",
   "execution_count": 3,
   "id": "a20e3616",
   "metadata": {},
   "outputs": [],
   "source": [
    "from pathlib import Path\n",
    "\n",
    "DATA_PATH = Path().cwd().parent.absolute() / \"data\""
   ]
  },
  {
   "cell_type": "code",
   "execution_count": 4,
   "id": "563b9b71-5f9c-4e41-b405-21035f49972d",
   "metadata": {},
   "outputs": [
    {
     "data": {
      "text/html": [
       "<div>\n",
       "<style scoped>\n",
       "    .dataframe tbody tr th:only-of-type {\n",
       "        vertical-align: middle;\n",
       "    }\n",
       "\n",
       "    .dataframe tbody tr th {\n",
       "        vertical-align: top;\n",
       "    }\n",
       "\n",
       "    .dataframe thead th {\n",
       "        text-align: right;\n",
       "    }\n",
       "</style>\n",
       "<table border=\"1\" class=\"dataframe\">\n",
       "  <thead>\n",
       "    <tr style=\"text-align: right;\">\n",
       "      <th></th>\n",
       "      <th>ID</th>\n",
       "      <th>ESTACION</th>\n",
       "      <th>LINEA</th>\n",
       "      <th>geometry</th>\n",
       "    </tr>\n",
       "  </thead>\n",
       "  <tbody>\n",
       "    <tr>\n",
       "      <th>0</th>\n",
       "      <td>1.0</td>\n",
       "      <td>CASEROS</td>\n",
       "      <td>H</td>\n",
       "      <td>POINT (105902.351 99279.282)</td>\n",
       "    </tr>\n",
       "    <tr>\n",
       "      <th>1</th>\n",
       "      <td>2.0</td>\n",
       "      <td>INCLAN</td>\n",
       "      <td>H</td>\n",
       "      <td>POINT (105715.554 99986.549)</td>\n",
       "    </tr>\n",
       "    <tr>\n",
       "      <th>2</th>\n",
       "      <td>3.0</td>\n",
       "      <td>HUMBERTO 1°</td>\n",
       "      <td>H</td>\n",
       "      <td>POINT (105591.888 100683.658)</td>\n",
       "    </tr>\n",
       "    <tr>\n",
       "      <th>3</th>\n",
       "      <td>4.0</td>\n",
       "      <td>VENEZUELA</td>\n",
       "      <td>H</td>\n",
       "      <td>POINT (105371.474 101554.635)</td>\n",
       "    </tr>\n",
       "    <tr>\n",
       "      <th>4</th>\n",
       "      <td>5.0</td>\n",
       "      <td>ONCE - 30 DE DICIEMBRE</td>\n",
       "      <td>H</td>\n",
       "      <td>POINT (105252.211 102254.351)</td>\n",
       "    </tr>\n",
       "  </tbody>\n",
       "</table>\n",
       "</div>"
      ],
      "text/plain": [
       "    ID                ESTACION LINEA                       geometry\n",
       "0  1.0                 CASEROS     H   POINT (105902.351 99279.282)\n",
       "1  2.0                  INCLAN     H   POINT (105715.554 99986.549)\n",
       "2  3.0             HUMBERTO 1°     H  POINT (105591.888 100683.658)\n",
       "3  4.0               VENEZUELA     H  POINT (105371.474 101554.635)\n",
       "4  5.0  ONCE - 30 DE DICIEMBRE     H  POINT (105252.211 102254.351)"
      ]
     },
     "execution_count": 4,
     "metadata": {},
     "output_type": "execute_result"
    }
   ],
   "source": [
    "# Abrimos nuestro dataset espacial a partir de un archivo en el formato mas tradicional: ESRI shapefile \n",
    "estaciones = gpd.read_file(DATA_PATH / \"subte/estaciones_de_subte.shp\")\n",
    "# y visualizamos las primeras líneas\n",
    "estaciones.head()"
   ]
  },
  {
   "cell_type": "code",
   "execution_count": 5,
   "id": "9a089f7b-04f1-4393-b121-83bd20f2eb6f",
   "metadata": {},
   "outputs": [
    {
     "data": {
      "text/plain": [
       "geopandas.geodataframe.GeoDataFrame"
      ]
     },
     "execution_count": 5,
     "metadata": {},
     "output_type": "execute_result"
    }
   ],
   "source": [
    "#es muy similiar a pandas dataframe. vemos su tipo y vemos que es una especia de data frame\n",
    "type(estaciones)"
   ]
  },
  {
   "cell_type": "code",
   "execution_count": 6,
   "id": "36967c97-fd1c-449d-9e99-a924315113c9",
   "metadata": {},
   "outputs": [
    {
     "data": {
      "text/plain": [
       "(86, 4)"
      ]
     },
     "execution_count": 6,
     "metadata": {},
     "output_type": "execute_result"
    }
   ],
   "source": [
    "#tiene las mismas propiedades\n",
    "estaciones.shape"
   ]
  },
  {
   "cell_type": "code",
   "execution_count": 7,
   "id": "b3ef97b7-6f96-4ec3-8333-a2b3f3211bae",
   "metadata": {},
   "outputs": [
    {
     "name": "stdout",
     "output_type": "stream",
     "text": [
      "<class 'geopandas.geodataframe.GeoDataFrame'>\n",
      "RangeIndex: 86 entries, 0 to 85\n",
      "Data columns (total 4 columns):\n",
      " #   Column    Non-Null Count  Dtype   \n",
      "---  ------    --------------  -----   \n",
      " 0   ID        86 non-null     float64 \n",
      " 1   ESTACION  86 non-null     object  \n",
      " 2   LINEA     86 non-null     object  \n",
      " 3   geometry  86 non-null     geometry\n",
      "dtypes: float64(1), geometry(1), object(2)\n",
      "memory usage: 2.8+ KB\n"
     ]
    }
   ],
   "source": [
    "# podemos también pedir la información de qué almacena este dataset\n",
    "estaciones.info()"
   ]
  },
  {
   "cell_type": "code",
   "execution_count": 8,
   "id": "dd30984c-d3b7-4b2d-b23a-1d5e5734791a",
   "metadata": {},
   "outputs": [
    {
     "data": {
      "text/plain": [
       "RangeIndex(start=0, stop=86, step=1)"
      ]
     },
     "execution_count": 8,
     "metadata": {},
     "output_type": "execute_result"
    }
   ],
   "source": [
    "# podemos inspeccionar los índices es decir la cantidad de filas de la base\n",
    "estaciones.index"
   ]
  },
  {
   "cell_type": "code",
   "execution_count": 9,
   "id": "6207ad88-03d8-4bc7-873c-8bc07d3ce857",
   "metadata": {},
   "outputs": [
    {
     "data": {
      "text/plain": [
       "Index(['ID', 'ESTACION', 'LINEA', 'geometry'], dtype='object')"
      ]
     },
     "execution_count": 9,
     "metadata": {},
     "output_type": "execute_result"
    }
   ],
   "source": [
    "# También podemos inspeccionar cuáles son las columnas de la base\n",
    "estaciones.columns"
   ]
  },
  {
   "cell_type": "markdown",
   "id": "f2d6afab-90e2-40fe-8bc0-b814c983e587",
   "metadata": {},
   "source": [
    "### En las columnas vemos ya el elemento que hace a este data frame algo diferente a los de pandas: el campo geometry"
   ]
  },
  {
   "cell_type": "code",
   "execution_count": 10,
   "id": "8d5842e0-c861-44e5-933a-0fd359366f9b",
   "metadata": {},
   "outputs": [
    {
     "data": {
      "text/plain": [
       "0     POINT (105902.351 99279.282)\n",
       "1     POINT (105715.554 99986.549)\n",
       "2    POINT (105591.888 100683.658)\n",
       "3    POINT (105371.474 101554.635)\n",
       "4    POINT (105252.211 102254.351)\n",
       "Name: geometry, dtype: geometry"
      ]
     },
     "execution_count": 10,
     "metadata": {},
     "output_type": "execute_result"
    }
   ],
   "source": [
    "#Inspeccionamos la geometría que provee la base\n",
    "estaciones.geometry.head()"
   ]
  },
  {
   "cell_type": "markdown",
   "id": "2acbbb74-e867-4923-ba48-5709dd11b264",
   "metadata": {},
   "source": [
    "Pero a pesar de ser el elemento que diferencia un DataFrame de un GeoDataFrame, guarda similitud con un objeto conocido de Pandas\n",
    ", **geometry** es una **geoseries**, similar a una serie de pandas."
   ]
  },
  {
   "cell_type": "code",
   "execution_count": 11,
   "id": "1e0f4bad-2ddb-4c19-8eb2-4b9b1f0dc20f",
   "metadata": {},
   "outputs": [
    {
     "data": {
      "text/plain": [
       "geopandas.geoseries.GeoSeries"
      ]
     },
     "execution_count": 11,
     "metadata": {},
     "output_type": "execute_result"
    }
   ],
   "source": [
    "# consulamos el tipo de variable que es geometry\n",
    "type(estaciones.geometry)"
   ]
  },
  {
   "cell_type": "code",
   "execution_count": 12,
   "id": "85926295-5795-4faa-9087-1508f5267743",
   "metadata": {},
   "outputs": [
    {
     "data": {
      "text/plain": [
       "0    POINT (105902.351 99279.282)\n",
       "1    POINT (105715.554 99986.549)\n",
       "Name: geometry, dtype: geometry"
      ]
     },
     "execution_count": 12,
     "metadata": {},
     "output_type": "execute_result"
    }
   ],
   "source": [
    "#es una geoSerie de que? que elementos la componen?\n",
    "estaciones.geometry.iloc[0:2]"
   ]
  },
  {
   "cell_type": "code",
   "execution_count": 13,
   "id": "ff02fad4-cff0-4002-8024-2a18279a68a6",
   "metadata": {},
   "outputs": [
    {
     "name": "stdout",
     "output_type": "stream",
     "text": [
      "POINT (105902.35136369725 99279.28209795424)\n"
     ]
    }
   ],
   "source": [
    "# ahora veamos cómo accedemos al primer objeto de la geometría\n",
    "print(estaciones.geometry.iloc[0])"
   ]
  },
  {
   "cell_type": "code",
   "execution_count": 14,
   "id": "911b8f66-efbe-4bbd-ac59-249806c298b3",
   "metadata": {},
   "outputs": [
    {
     "data": {
      "text/plain": [
       "shapely.geometry.point.Point"
      ]
     },
     "execution_count": 14,
     "metadata": {},
     "output_type": "execute_result"
    }
   ],
   "source": [
    "# Es un objeto Shapely. La librería que funciona por debajo de GeoPandas \n",
    "type(estaciones.geometry.iloc[0])"
   ]
  },
  {
   "cell_type": "markdown",
   "id": "c3627b68-32b5-49cc-953a-2852c3f97634",
   "metadata": {},
   "source": [
    "# <font color=\"#229966\">Shapely</font >\n",
    "\n",
    "Las GeoSeries de Geopandas son una Series que adentro contiene objetos que no son ni string, ni numeros. \n",
    "\n",
    "Son objetos particulares, como los datetime, pero cuyas propiedades específicas son geográficas. \n",
    "\n",
    "En lugar de extraer horas o días de la semana, vamos a poder obtener propiedades geográficas como distancias de un punto a otro. O coordenadas."
   ]
  },
  {
   "cell_type": "markdown",
   "id": "e414e678-e9c3-4708-b2ad-ff6263c3192c",
   "metadata": {},
   "source": [
    "# <font color=\"#229966\">Coordenadas</font>\n",
    "\n",
    "Es lo fundamental los GeoDatos, no dejan de ser los datos que trabajamos cotidianamente, pero con alguna referencia a su <font color=\"#229966\">**ubicación en el espacio**</font>, que creemos relevante por lo cual la introducimos en el análisis. \n",
    "\n",
    "Esa referencia al espacio debe corporizarse en algun tipo de objeto geografico, de los cuales utilizaremos 3 básicos:\n",
    "\n",
    " - Punto\n",
    " - Línea\n",
    " - Polígono\n",
    "\n",
    " - \n",
    "En este primer ejemplo, la estaciones de subte son puntos.\n",
    "\n",
    "El puntos es el elemento geográfico más sencillo. \n",
    "\n",
    "En la geometría euclidiana, o de dos dimensiones, un punto se define por dos valores: sus coordenadas x e y.\n"
   ]
  },
  {
   "cell_type": "markdown",
   "id": "4d7abd5d-6030-44ce-90cb-6d8d33ab5012",
   "metadata": {},
   "source": [
    "### Un punto está constituido por dos coordenadas en el espacio"
   ]
  },
  {
   "cell_type": "code",
   "execution_count": 15,
   "id": "26bd08ef-0239-4cee-ba41-c9771c1371c6",
   "metadata": {},
   "outputs": [
    {
     "name": "stdout",
     "output_type": "stream",
     "text": [
      "x = 105902.35136369725 y = 99279.28209795424\n"
     ]
    }
   ],
   "source": [
    "# vamos a acceder a las dos coordenadas del punto\n",
    "print(\"x =\", estaciones.geometry.iloc[0].x, \"y =\", estaciones.geometry.iloc[0].y)"
   ]
  },
  {
   "cell_type": "code",
   "execution_count": 16,
   "id": "6ca23fa8-6a3d-48a8-ad7b-62b439ec0834",
   "metadata": {},
   "outputs": [
    {
     "name": "stdout",
     "output_type": "stream",
     "text": [
      "x = 105902.35 y = 99279.28\n"
     ]
    }
   ],
   "source": [
    "# Para no ver tantos decimales\n",
    "print(\n",
    "    \"x =\",\n",
    "    estaciones.geometry.iloc[0].x.round(2),\n",
    "    \"y =\",\n",
    "    estaciones.geometry.iloc[0].y.round(2),\n",
    ")\n"
   ]
  },
  {
   "cell_type": "markdown",
   "id": "da72991f-fe98-4c9f-a65f-ecb67c909463",
   "metadata": {},
   "source": [
    "# <font color=\"darkred\">**Ojo** que lo que siempre en matematica se llama x y y en ese orden</font>\n",
    "\n",
    "En geografia siempre se llamo latlong, pero **x es long** y **y es lat**. El orden cambia! latlong\n",
    "\n",
    "La latitud (expresada como Y) proporciona la localización de un lugar en dirección Norte o Sur desde el Ecuador.\n",
    "\n",
    "La longitud (expresada com X) proporciona la localización de un lugar en dirección Este u Oeste desde el Meridiano de Greenwich."
   ]
  },
  {
   "cell_type": "markdown",
   "id": "4cff6342-5f73-4738-a4ea-d6ffd47de156",
   "metadata": {},
   "source": [
    " - Pero es algo diferente a lo que siempre conocimos como latlong. \n",
    "\n",
    " - En general estamos acostumbrados en mapas de Buenos Aires a ver valores como -34 y -58. \n",
    "\n",
    " - La diferencia se explica por la llamada proyeccion de coordenadas que da cuenta de la transformación de un objeto en 3 dimensiones (como el planeta Tierra) en un plano de 2 dimensiones (el mapa). \n",
    "\n",
    "\n",
    " - Esta proyección también regula las unidades de medidas de los ejes donde proyectamos. Puede estar en grados o en metros.\n",
    "\n",
    " - Podemos acceder a la proyeccion de coordenadas de un GeoDataFrame de manera sencilla."
   ]
  },
  {
   "cell_type": "code",
   "execution_count": 17,
   "id": "a9ab261a-f464-478a-b866-992e69e07a60",
   "metadata": {},
   "outputs": [
    {
     "data": {
      "text/plain": [
       "<Projected CRS: PROJCS[\"Argentina_GKBsAs\",GEOGCS[\"Campo Inchauspe\" ...>\n",
       "Name: Argentina_GKBsAs\n",
       "Axis Info [cartesian]:\n",
       "- [east]: Easting (metre)\n",
       "- [north]: Northing (metre)\n",
       "Area of Use:\n",
       "- undefined\n",
       "Coordinate Operation:\n",
       "- name: unnamed\n",
       "- method: Transverse Mercator\n",
       "Datum: Campo Inchauspe\n",
       "- Ellipsoid: International 1924\n",
       "- Prime Meridian: Greenwich"
      ]
     },
     "execution_count": 17,
     "metadata": {},
     "output_type": "execute_result"
    }
   ],
   "source": [
    "#con el metodo o funcion crs vemos la proyeccion de nuestro objeto\n",
    "estaciones.crs"
   ]
  },
  {
   "cell_type": "markdown",
   "id": "d40a1f75-7b5e-407f-8af8-e1a35147a279",
   "metadata": {},
   "source": [
    "La proyeccion de este GeoDataFrame está en un formato de coordenadas especifica SR-ORG:7124: Gauss-Kruger Bs.As. P\n",
    "\n",
    "Queremos reproyectarla en EPSG 4326 cuya unidad de medida es grados.\n",
    "\n",
    "\n",
    "Afortunadamente GeoPandas implementa esto de una manera muy sencilla. "
   ]
  },
  {
   "cell_type": "code",
   "execution_count": 18,
   "id": "7b0aae5a-71ae-403e-abcc-397bca2da52a",
   "metadata": {},
   "outputs": [
    {
     "data": {
      "text/html": [
       "<div>\n",
       "<style scoped>\n",
       "    .dataframe tbody tr th:only-of-type {\n",
       "        vertical-align: middle;\n",
       "    }\n",
       "\n",
       "    .dataframe tbody tr th {\n",
       "        vertical-align: top;\n",
       "    }\n",
       "\n",
       "    .dataframe thead th {\n",
       "        text-align: right;\n",
       "    }\n",
       "</style>\n",
       "<table border=\"1\" class=\"dataframe\">\n",
       "  <thead>\n",
       "    <tr style=\"text-align: right;\">\n",
       "      <th></th>\n",
       "      <th>ID</th>\n",
       "      <th>ESTACION</th>\n",
       "      <th>LINEA</th>\n",
       "      <th>geometry</th>\n",
       "    </tr>\n",
       "  </thead>\n",
       "  <tbody>\n",
       "    <tr>\n",
       "      <th>0</th>\n",
       "      <td>1.0</td>\n",
       "      <td>CASEROS</td>\n",
       "      <td>H</td>\n",
       "      <td>POINT (-58.39893 -34.63575)</td>\n",
       "    </tr>\n",
       "    <tr>\n",
       "      <th>1</th>\n",
       "      <td>2.0</td>\n",
       "      <td>INCLAN</td>\n",
       "      <td>H</td>\n",
       "      <td>POINT (-58.40097 -34.62938)</td>\n",
       "    </tr>\n",
       "    <tr>\n",
       "      <th>2</th>\n",
       "      <td>3.0</td>\n",
       "      <td>HUMBERTO 1°</td>\n",
       "      <td>H</td>\n",
       "      <td>POINT (-58.40232 -34.62309)</td>\n",
       "    </tr>\n",
       "    <tr>\n",
       "      <th>3</th>\n",
       "      <td>4.0</td>\n",
       "      <td>VENEZUELA</td>\n",
       "      <td>H</td>\n",
       "      <td>POINT (-58.40473 -34.61524)</td>\n",
       "    </tr>\n",
       "    <tr>\n",
       "      <th>4</th>\n",
       "      <td>5.0</td>\n",
       "      <td>ONCE - 30 DE DICIEMBRE</td>\n",
       "      <td>H</td>\n",
       "      <td>POINT (-58.40604 -34.60894)</td>\n",
       "    </tr>\n",
       "  </tbody>\n",
       "</table>\n",
       "</div>"
      ],
      "text/plain": [
       "    ID                ESTACION LINEA                     geometry\n",
       "0  1.0                 CASEROS     H  POINT (-58.39893 -34.63575)\n",
       "1  2.0                  INCLAN     H  POINT (-58.40097 -34.62938)\n",
       "2  3.0             HUMBERTO 1°     H  POINT (-58.40232 -34.62309)\n",
       "3  4.0               VENEZUELA     H  POINT (-58.40473 -34.61524)\n",
       "4  5.0  ONCE - 30 DE DICIEMBRE     H  POINT (-58.40604 -34.60894)"
      ]
     },
     "execution_count": 18,
     "metadata": {},
     "output_type": "execute_result"
    }
   ],
   "source": [
    "# Cambiamos al formato tradicional de latlong\n",
    "estaciones = estaciones.to_crs(\"epsg:4326\")\n",
    "estaciones.head()"
   ]
  },
  {
   "cell_type": "code",
   "execution_count": 19,
   "id": "95514ffb-79b3-4af3-9e06-af62fdb93ac1",
   "metadata": {},
   "outputs": [
    {
     "data": {
      "text/plain": [
       "<Geographic 2D CRS: EPSG:4326>\n",
       "Name: WGS 84\n",
       "Axis Info [ellipsoidal]:\n",
       "- Lat[north]: Geodetic latitude (degree)\n",
       "- Lon[east]: Geodetic longitude (degree)\n",
       "Area of Use:\n",
       "- name: World.\n",
       "- bounds: (-180.0, -90.0, 180.0, 90.0)\n",
       "Datum: World Geodetic System 1984 ensemble\n",
       "- Ellipsoid: WGS 84\n",
       "- Prime Meridian: Greenwich"
      ]
     },
     "execution_count": 19,
     "metadata": {},
     "output_type": "execute_result"
    }
   ],
   "source": [
    "estaciones.crs"
   ]
  },
  {
   "cell_type": "code",
   "execution_count": 20,
   "id": "adcda0fd-e21d-4878-b02a-a0aeb8476063",
   "metadata": {},
   "outputs": [
    {
     "name": "stdout",
     "output_type": "stream",
     "text": [
      "POINT (-58.39892758536007 -34.63575018034302)\n"
     ]
    }
   ],
   "source": [
    "print(estaciones.geometry.iloc[0])"
   ]
  },
  {
   "cell_type": "markdown",
   "id": "5a0c89a5-7c72-4b4d-bcd2-9600fb1940e5",
   "metadata": {},
   "source": [
    "Ya podemos ver que ***las coordenadas de nuestros puntos se asemejan a los valores que intuitivamente conocíamos*** para Buenos Aires. \n",
    "\n",
    "A partir de este momento, intentaremos ***visualizar todos los procesos que realizamos en un mapa***. \n",
    "\n",
    "\n",
    "Para esto necesitamos la librería de Python que administra los gráficos: **matplotlib**"
   ]
  },
  {
   "cell_type": "code",
   "execution_count": 21,
   "id": "e8a0b8e9-c289-4554-b6f1-abb5e20ca5a7",
   "metadata": {},
   "outputs": [],
   "source": [
    "# Sumamos la libreria que nos permite visualizar co alias plt\n",
    "import matplotlib.pyplot as plt"
   ]
  },
  {
   "cell_type": "code",
   "execution_count": 22,
   "id": "b55a0764-7a5d-442c-925d-45f6c5fca159",
   "metadata": {},
   "outputs": [],
   "source": [
    "#Definimos una función que extrae la coordenada x de un punto\n",
    "\n",
    "def extraer_x(coord):\n",
    "    return coord.x"
   ]
  },
  {
   "cell_type": "code",
   "execution_count": 23,
   "id": "e5d6376a-13e7-4163-be8e-68ee57f74235",
   "metadata": {},
   "outputs": [
    {
     "data": {
      "text/html": [
       "<div>\n",
       "<style scoped>\n",
       "    .dataframe tbody tr th:only-of-type {\n",
       "        vertical-align: middle;\n",
       "    }\n",
       "\n",
       "    .dataframe tbody tr th {\n",
       "        vertical-align: top;\n",
       "    }\n",
       "\n",
       "    .dataframe thead th {\n",
       "        text-align: right;\n",
       "    }\n",
       "</style>\n",
       "<table border=\"1\" class=\"dataframe\">\n",
       "  <thead>\n",
       "    <tr style=\"text-align: right;\">\n",
       "      <th></th>\n",
       "      <th>ID</th>\n",
       "      <th>ESTACION</th>\n",
       "      <th>LINEA</th>\n",
       "      <th>geometry</th>\n",
       "      <th>x</th>\n",
       "      <th>x_2</th>\n",
       "    </tr>\n",
       "  </thead>\n",
       "  <tbody>\n",
       "    <tr>\n",
       "      <th>0</th>\n",
       "      <td>1.0</td>\n",
       "      <td>CASEROS</td>\n",
       "      <td>H</td>\n",
       "      <td>POINT (-58.39893 -34.63575)</td>\n",
       "      <td>-58.398928</td>\n",
       "      <td>-58.398928</td>\n",
       "    </tr>\n",
       "    <tr>\n",
       "      <th>1</th>\n",
       "      <td>2.0</td>\n",
       "      <td>INCLAN</td>\n",
       "      <td>H</td>\n",
       "      <td>POINT (-58.40097 -34.62938)</td>\n",
       "      <td>-58.400970</td>\n",
       "      <td>-58.400970</td>\n",
       "    </tr>\n",
       "    <tr>\n",
       "      <th>2</th>\n",
       "      <td>3.0</td>\n",
       "      <td>HUMBERTO 1°</td>\n",
       "      <td>H</td>\n",
       "      <td>POINT (-58.40232 -34.62309)</td>\n",
       "      <td>-58.402323</td>\n",
       "      <td>-58.402323</td>\n",
       "    </tr>\n",
       "    <tr>\n",
       "      <th>3</th>\n",
       "      <td>4.0</td>\n",
       "      <td>VENEZUELA</td>\n",
       "      <td>H</td>\n",
       "      <td>POINT (-58.40473 -34.61524)</td>\n",
       "      <td>-58.404732</td>\n",
       "      <td>-58.404732</td>\n",
       "    </tr>\n",
       "    <tr>\n",
       "      <th>4</th>\n",
       "      <td>5.0</td>\n",
       "      <td>ONCE - 30 DE DICIEMBRE</td>\n",
       "      <td>H</td>\n",
       "      <td>POINT (-58.40604 -34.60894)</td>\n",
       "      <td>-58.406036</td>\n",
       "      <td>-58.406036</td>\n",
       "    </tr>\n",
       "  </tbody>\n",
       "</table>\n",
       "</div>"
      ],
      "text/plain": [
       "    ID                ESTACION LINEA                     geometry          x  \\\n",
       "0  1.0                 CASEROS     H  POINT (-58.39893 -34.63575) -58.398928   \n",
       "1  2.0                  INCLAN     H  POINT (-58.40097 -34.62938) -58.400970   \n",
       "2  3.0             HUMBERTO 1°     H  POINT (-58.40232 -34.62309) -58.402323   \n",
       "3  4.0               VENEZUELA     H  POINT (-58.40473 -34.61524) -58.404732   \n",
       "4  5.0  ONCE - 30 DE DICIEMBRE     H  POINT (-58.40604 -34.60894) -58.406036   \n",
       "\n",
       "         x_2  \n",
       "0 -58.398928  \n",
       "1 -58.400970  \n",
       "2 -58.402323  \n",
       "3 -58.404732  \n",
       "4 -58.406036  "
      ]
     },
     "execution_count": 23,
     "metadata": {},
     "output_type": "execute_result"
    }
   ],
   "source": [
    "# utilizando el metodo map, puedo extraer para cada punto sus coordenadas en x\n",
    "estaciones[\"x\"] = estaciones.geometry.map(lambda g: g.x)\n",
    "\n",
    "# puedo usar la función definida recientemente\n",
    "estaciones[\"x_2\"] = estaciones.geometry.map(extraer_x)\n",
    "\n",
    "# Visualicemos qué hizo\n",
    "estaciones.head()"
   ]
  },
  {
   "cell_type": "code",
   "execution_count": 24,
   "id": "8351145c-cc6f-465b-a29a-1477477ba41b",
   "metadata": {},
   "outputs": [
    {
     "data": {
      "text/html": [
       "<div>\n",
       "<style scoped>\n",
       "    .dataframe tbody tr th:only-of-type {\n",
       "        vertical-align: middle;\n",
       "    }\n",
       "\n",
       "    .dataframe tbody tr th {\n",
       "        vertical-align: top;\n",
       "    }\n",
       "\n",
       "    .dataframe thead th {\n",
       "        text-align: right;\n",
       "    }\n",
       "</style>\n",
       "<table border=\"1\" class=\"dataframe\">\n",
       "  <thead>\n",
       "    <tr style=\"text-align: right;\">\n",
       "      <th></th>\n",
       "      <th>ID</th>\n",
       "      <th>ESTACION</th>\n",
       "      <th>LINEA</th>\n",
       "      <th>geometry</th>\n",
       "      <th>x</th>\n",
       "    </tr>\n",
       "  </thead>\n",
       "  <tbody>\n",
       "    <tr>\n",
       "      <th>0</th>\n",
       "      <td>1.0</td>\n",
       "      <td>CASEROS</td>\n",
       "      <td>H</td>\n",
       "      <td>POINT (-58.39893 -34.63575)</td>\n",
       "      <td>-58.398928</td>\n",
       "    </tr>\n",
       "    <tr>\n",
       "      <th>1</th>\n",
       "      <td>2.0</td>\n",
       "      <td>INCLAN</td>\n",
       "      <td>H</td>\n",
       "      <td>POINT (-58.40097 -34.62938)</td>\n",
       "      <td>-58.400970</td>\n",
       "    </tr>\n",
       "    <tr>\n",
       "      <th>2</th>\n",
       "      <td>3.0</td>\n",
       "      <td>HUMBERTO 1°</td>\n",
       "      <td>H</td>\n",
       "      <td>POINT (-58.40232 -34.62309)</td>\n",
       "      <td>-58.402323</td>\n",
       "    </tr>\n",
       "    <tr>\n",
       "      <th>3</th>\n",
       "      <td>4.0</td>\n",
       "      <td>VENEZUELA</td>\n",
       "      <td>H</td>\n",
       "      <td>POINT (-58.40473 -34.61524)</td>\n",
       "      <td>-58.404732</td>\n",
       "    </tr>\n",
       "    <tr>\n",
       "      <th>4</th>\n",
       "      <td>5.0</td>\n",
       "      <td>ONCE - 30 DE DICIEMBRE</td>\n",
       "      <td>H</td>\n",
       "      <td>POINT (-58.40604 -34.60894)</td>\n",
       "      <td>-58.406036</td>\n",
       "    </tr>\n",
       "  </tbody>\n",
       "</table>\n",
       "</div>"
      ],
      "text/plain": [
       "    ID                ESTACION LINEA                     geometry          x\n",
       "0  1.0                 CASEROS     H  POINT (-58.39893 -34.63575) -58.398928\n",
       "1  2.0                  INCLAN     H  POINT (-58.40097 -34.62938) -58.400970\n",
       "2  3.0             HUMBERTO 1°     H  POINT (-58.40232 -34.62309) -58.402323\n",
       "3  4.0               VENEZUELA     H  POINT (-58.40473 -34.61524) -58.404732\n",
       "4  5.0  ONCE - 30 DE DICIEMBRE     H  POINT (-58.40604 -34.60894) -58.406036"
      ]
     },
     "execution_count": 24,
     "metadata": {},
     "output_type": "execute_result"
    }
   ],
   "source": [
    "# Dado que ambas instrucciones produjeron el mismo resultado, por simplicidad eliminamos la columna duplicada\n",
    "estaciones.drop(\"x_2\", axis=1, inplace=True)\n",
    "\n",
    "# visualicemos la base actualizada\n",
    "estaciones.head()"
   ]
  },
  {
   "cell_type": "markdown",
   "id": "7c22ae95-b6b9-4dfa-b992-05636dc07ba5",
   "metadata": {},
   "source": [
    "Afortunadamente, los desarolladores de GeoPandas entendieron que esto es una tarea cotidiana y pusieron como método propio de las geoSeries extraer las coordenadas"
   ]
  },
  {
   "cell_type": "code",
   "execution_count": 25,
   "id": "6c997ec9-bd2b-40b0-b5ee-1334f876123a",
   "metadata": {},
   "outputs": [
    {
     "data": {
      "text/html": [
       "<div>\n",
       "<style scoped>\n",
       "    .dataframe tbody tr th:only-of-type {\n",
       "        vertical-align: middle;\n",
       "    }\n",
       "\n",
       "    .dataframe tbody tr th {\n",
       "        vertical-align: top;\n",
       "    }\n",
       "\n",
       "    .dataframe thead th {\n",
       "        text-align: right;\n",
       "    }\n",
       "</style>\n",
       "<table border=\"1\" class=\"dataframe\">\n",
       "  <thead>\n",
       "    <tr style=\"text-align: right;\">\n",
       "      <th></th>\n",
       "      <th>ID</th>\n",
       "      <th>ESTACION</th>\n",
       "      <th>LINEA</th>\n",
       "      <th>geometry</th>\n",
       "      <th>x</th>\n",
       "      <th>y</th>\n",
       "    </tr>\n",
       "  </thead>\n",
       "  <tbody>\n",
       "    <tr>\n",
       "      <th>0</th>\n",
       "      <td>1.0</td>\n",
       "      <td>CASEROS</td>\n",
       "      <td>H</td>\n",
       "      <td>POINT (-58.39893 -34.63575)</td>\n",
       "      <td>-58.398928</td>\n",
       "      <td>-34.635750</td>\n",
       "    </tr>\n",
       "    <tr>\n",
       "      <th>1</th>\n",
       "      <td>2.0</td>\n",
       "      <td>INCLAN</td>\n",
       "      <td>H</td>\n",
       "      <td>POINT (-58.40097 -34.62938)</td>\n",
       "      <td>-58.400970</td>\n",
       "      <td>-34.629376</td>\n",
       "    </tr>\n",
       "    <tr>\n",
       "      <th>2</th>\n",
       "      <td>3.0</td>\n",
       "      <td>HUMBERTO 1°</td>\n",
       "      <td>H</td>\n",
       "      <td>POINT (-58.40232 -34.62309)</td>\n",
       "      <td>-58.402323</td>\n",
       "      <td>-34.623092</td>\n",
       "    </tr>\n",
       "    <tr>\n",
       "      <th>3</th>\n",
       "      <td>4.0</td>\n",
       "      <td>VENEZUELA</td>\n",
       "      <td>H</td>\n",
       "      <td>POINT (-58.40473 -34.61524)</td>\n",
       "      <td>-58.404732</td>\n",
       "      <td>-34.615242</td>\n",
       "    </tr>\n",
       "    <tr>\n",
       "      <th>4</th>\n",
       "      <td>5.0</td>\n",
       "      <td>ONCE - 30 DE DICIEMBRE</td>\n",
       "      <td>H</td>\n",
       "      <td>POINT (-58.40604 -34.60894)</td>\n",
       "      <td>-58.406036</td>\n",
       "      <td>-34.608935</td>\n",
       "    </tr>\n",
       "  </tbody>\n",
       "</table>\n",
       "</div>"
      ],
      "text/plain": [
       "    ID                ESTACION LINEA                     geometry          x  \\\n",
       "0  1.0                 CASEROS     H  POINT (-58.39893 -34.63575) -58.398928   \n",
       "1  2.0                  INCLAN     H  POINT (-58.40097 -34.62938) -58.400970   \n",
       "2  3.0             HUMBERTO 1°     H  POINT (-58.40232 -34.62309) -58.402323   \n",
       "3  4.0               VENEZUELA     H  POINT (-58.40473 -34.61524) -58.404732   \n",
       "4  5.0  ONCE - 30 DE DICIEMBRE     H  POINT (-58.40604 -34.60894) -58.406036   \n",
       "\n",
       "           y  \n",
       "0 -34.635750  \n",
       "1 -34.629376  \n",
       "2 -34.623092  \n",
       "3 -34.615242  \n",
       "4 -34.608935  "
      ]
     },
     "execution_count": 25,
     "metadata": {},
     "output_type": "execute_result"
    }
   ],
   "source": [
    "estaciones[\"y\"] = estaciones.geometry.y\n",
    "estaciones.head()"
   ]
  },
  {
   "cell_type": "markdown",
   "id": "b93bd1d5-ce19-4cd7-8dbf-c4fa8c592237",
   "metadata": {},
   "source": [
    "Utilizando estas coordenadas podemos visualizar la ubicacion de nuestras estaciones en un mapa, visualizandolas sobre el eje de coordenadas utilizando su posicion en x e y"
   ]
  },
  {
   "attachments": {
    "4e583881-b453-483c-a667-b978f9b7f08e.png": {
     "image/png": "[encoded data removed]"
    }
   },
   "cell_type": "markdown",
   "id": "9bb9403e-6f11-4f04-8807-2fb5f715b5a2",
   "metadata": {},
   "source": [
    "Este es el mapa de la red de subterráneos de Buenos Aires\n",
    "\n",
    "![imagen.png](attachment:4e583881-b453-483c-a667-b978f9b7f08e.png)"
   ]
  },
  {
   "cell_type": "code",
   "execution_count": 26,
   "id": "99a66a8e-6634-4984-a0e0-e3a22571e6f9",
   "metadata": {},
   "outputs": [
    {
     "data": {
      "text/plain": [
       "<matplotlib.collections.PathCollection at 0x176a64a50>"
      ]
     },
     "execution_count": 26,
     "metadata": {},
     "output_type": "execute_result"
    },
    {
     "data": {
      "image/png": "[encoded data removed]",
      "text/plain": [
       "<Figure size 600x600 with 1 Axes>"
      ]
     },
     "metadata": {},
     "output_type": "display_data"
    }
   ],
   "source": [
    "# establecemos el tamaño de la figura\n",
    "fig = plt.figure(figsize=(6, 6))\n",
    "\n",
    "# le agregamos un gráfico\n",
    "ax = fig.add_subplot(1, 1, 1)\n",
    "\n",
    "# definimos un scatter plot donde la x y la y son las coordenadas geográficas de las estaciones, color azul oscuro con estrellitas como símbolos\n",
    "ax.scatter(estaciones.x, estaciones.y, color=\"darkblue\", s=30, marker=\"*\")"
   ]
  },
  {
   "cell_type": "markdown",
   "id": "4a4c35fd-7f5d-44e8-ad7c-e49a3a123484",
   "metadata": {},
   "source": [
    "Al igual que los DataFrames de Pandas, los **GeoDataFrames** tienen un **método (o función) plot** que permite visualizar los objetos espaciales."
   ]
  },
  {
   "cell_type": "code",
   "execution_count": 27,
   "id": "b13c5131-165a-495b-a61a-61d218ef89e8",
   "metadata": {},
   "outputs": [
    {
     "data": {
      "text/plain": [
       "<Axes: >"
      ]
     },
     "execution_count": 27,
     "metadata": {},
     "output_type": "execute_result"
    },
    {
     "data": {
      "image/png": "[encoded data removed]",
      "text/plain": [
       "<Figure size 640x480 with 1 Axes>"
      ]
     },
     "metadata": {},
     "output_type": "display_data"
    }
   ],
   "source": [
    "# Con la función drop() se eliminan las columnas 'x' y 'y'  # del DataFrame estaciones a lo largo del eje 1 (las columnas).\n",
    "# Luego de eliminar esas columnas, se está llamando al método plot()\n",
    "\n",
    "estaciones.drop([\"x\", \"y\"], axis=1).plot(color=\"darkred\", marker=\"o\")"
   ]
  },
  {
   "cell_type": "code",
   "execution_count": 28,
   "id": "bf55019b",
   "metadata": {},
   "outputs": [
    {
     "data": {
      "text/html": [
       "<div>\n",
       "<style scoped>\n",
       "    .dataframe tbody tr th:only-of-type {\n",
       "        vertical-align: middle;\n",
       "    }\n",
       "\n",
       "    .dataframe tbody tr th {\n",
       "        vertical-align: top;\n",
       "    }\n",
       "\n",
       "    .dataframe thead th {\n",
       "        text-align: right;\n",
       "    }\n",
       "</style>\n",
       "<table border=\"1\" class=\"dataframe\">\n",
       "  <thead>\n",
       "    <tr style=\"text-align: right;\">\n",
       "      <th></th>\n",
       "      <th>ID</th>\n",
       "      <th>ESTACION</th>\n",
       "      <th>LINEA</th>\n",
       "      <th>geometry</th>\n",
       "      <th>x</th>\n",
       "      <th>y</th>\n",
       "    </tr>\n",
       "  </thead>\n",
       "  <tbody>\n",
       "    <tr>\n",
       "      <th>0</th>\n",
       "      <td>1.0</td>\n",
       "      <td>CASEROS</td>\n",
       "      <td>H</td>\n",
       "      <td>POINT (-58.39893 -34.63575)</td>\n",
       "      <td>-58.398928</td>\n",
       "      <td>-34.635750</td>\n",
       "    </tr>\n",
       "    <tr>\n",
       "      <th>1</th>\n",
       "      <td>2.0</td>\n",
       "      <td>INCLAN</td>\n",
       "      <td>H</td>\n",
       "      <td>POINT (-58.40097 -34.62938)</td>\n",
       "      <td>-58.400970</td>\n",
       "      <td>-34.629376</td>\n",
       "    </tr>\n",
       "    <tr>\n",
       "      <th>2</th>\n",
       "      <td>3.0</td>\n",
       "      <td>HUMBERTO 1°</td>\n",
       "      <td>H</td>\n",
       "      <td>POINT (-58.40232 -34.62309)</td>\n",
       "      <td>-58.402323</td>\n",
       "      <td>-34.623092</td>\n",
       "    </tr>\n",
       "    <tr>\n",
       "      <th>3</th>\n",
       "      <td>4.0</td>\n",
       "      <td>VENEZUELA</td>\n",
       "      <td>H</td>\n",
       "      <td>POINT (-58.40473 -34.61524)</td>\n",
       "      <td>-58.404732</td>\n",
       "      <td>-34.615242</td>\n",
       "    </tr>\n",
       "    <tr>\n",
       "      <th>4</th>\n",
       "      <td>5.0</td>\n",
       "      <td>ONCE - 30 DE DICIEMBRE</td>\n",
       "      <td>H</td>\n",
       "      <td>POINT (-58.40604 -34.60894)</td>\n",
       "      <td>-58.406036</td>\n",
       "      <td>-34.608935</td>\n",
       "    </tr>\n",
       "  </tbody>\n",
       "</table>\n",
       "</div>"
      ],
      "text/plain": [
       "    ID                ESTACION LINEA                     geometry          x  \\\n",
       "0  1.0                 CASEROS     H  POINT (-58.39893 -34.63575) -58.398928   \n",
       "1  2.0                  INCLAN     H  POINT (-58.40097 -34.62938) -58.400970   \n",
       "2  3.0             HUMBERTO 1°     H  POINT (-58.40232 -34.62309) -58.402323   \n",
       "3  4.0               VENEZUELA     H  POINT (-58.40473 -34.61524) -58.404732   \n",
       "4  5.0  ONCE - 30 DE DICIEMBRE     H  POINT (-58.40604 -34.60894) -58.406036   \n",
       "\n",
       "           y  \n",
       "0 -34.635750  \n",
       "1 -34.629376  \n",
       "2 -34.623092  \n",
       "3 -34.615242  \n",
       "4 -34.608935  "
      ]
     },
     "execution_count": 28,
     "metadata": {},
     "output_type": "execute_result"
    }
   ],
   "source": [
    "estaciones.head()"
   ]
  },
  {
   "cell_type": "markdown",
   "id": "0c0b94bd-12c1-4ac9-ac98-7d483a43fd4c",
   "metadata": {},
   "source": [
    "# <font color=\"#229966\">Procesos de seleccion en geopandas</font>"
   ]
  },
  {
   "cell_type": "code",
   "execution_count": 29,
   "id": "b16fac63-ac76-4410-9232-3f0113fe9352",
   "metadata": {},
   "outputs": [
    {
     "data": {
      "text/plain": [
       "<Axes: >"
      ]
     },
     "execution_count": 29,
     "metadata": {},
     "output_type": "execute_result"
    },
    {
     "data": {
      "image/png": "[encoded data removed]",
      "text/plain": [
       "<Figure size 640x480 with 1 Axes>"
      ]
     },
     "metadata": {},
     "output_type": "display_data"
    }
   ],
   "source": [
    "# Podemos seleccionar por ejemplo una línea de subte, elegimos la línea A (filtramos las filas correspondientes!)\n",
    "\n",
    "estaciones.loc[estaciones.LINEA == \"A\", :].plot(color=\"darkgreen\")"
   ]
  },
  {
   "cell_type": "code",
   "execution_count": 30,
   "id": "43a4d5c2-875f-4813-b5fc-551f0114ed59",
   "metadata": {},
   "outputs": [
    {
     "data": {
      "text/html": [
       "<div>\n",
       "<style scoped>\n",
       "    .dataframe tbody tr th:only-of-type {\n",
       "        vertical-align: middle;\n",
       "    }\n",
       "\n",
       "    .dataframe tbody tr th {\n",
       "        vertical-align: top;\n",
       "    }\n",
       "\n",
       "    .dataframe thead th {\n",
       "        text-align: right;\n",
       "    }\n",
       "</style>\n",
       "<table border=\"1\" class=\"dataframe\">\n",
       "  <thead>\n",
       "    <tr style=\"text-align: right;\">\n",
       "      <th></th>\n",
       "      <th>ID</th>\n",
       "      <th>ESTACION</th>\n",
       "      <th>LINEA</th>\n",
       "      <th>geometry</th>\n",
       "      <th>x</th>\n",
       "      <th>y</th>\n",
       "    </tr>\n",
       "  </thead>\n",
       "  <tbody>\n",
       "    <tr>\n",
       "      <th>30</th>\n",
       "      <td>31.0</td>\n",
       "      <td>PERU</td>\n",
       "      <td>A</td>\n",
       "      <td>POINT (-58.37427 -34.60856)</td>\n",
       "      <td>-58.374268</td>\n",
       "      <td>-34.608559</td>\n",
       "    </tr>\n",
       "    <tr>\n",
       "      <th>31</th>\n",
       "      <td>32.0</td>\n",
       "      <td>PIEDRAS</td>\n",
       "      <td>A</td>\n",
       "      <td>POINT (-58.37909 -34.60888)</td>\n",
       "      <td>-58.379085</td>\n",
       "      <td>-34.608882</td>\n",
       "    </tr>\n",
       "    <tr>\n",
       "      <th>32</th>\n",
       "      <td>33.0</td>\n",
       "      <td>LIMA</td>\n",
       "      <td>A</td>\n",
       "      <td>POINT (-58.38223 -34.60910)</td>\n",
       "      <td>-58.382232</td>\n",
       "      <td>-34.609100</td>\n",
       "    </tr>\n",
       "    <tr>\n",
       "      <th>33</th>\n",
       "      <td>34.0</td>\n",
       "      <td>SAENZ PEÑA</td>\n",
       "      <td>A</td>\n",
       "      <td>POINT (-58.38678 -34.60941)</td>\n",
       "      <td>-58.386777</td>\n",
       "      <td>-34.609413</td>\n",
       "    </tr>\n",
       "    <tr>\n",
       "      <th>34</th>\n",
       "      <td>35.0</td>\n",
       "      <td>CONGRESO</td>\n",
       "      <td>A</td>\n",
       "      <td>POINT (-58.39267 -34.60923)</td>\n",
       "      <td>-58.392669</td>\n",
       "      <td>-34.609226</td>\n",
       "    </tr>\n",
       "    <tr>\n",
       "      <th>35</th>\n",
       "      <td>36.0</td>\n",
       "      <td>PASCO</td>\n",
       "      <td>A</td>\n",
       "      <td>POINT (-58.39843 -34.60965)</td>\n",
       "      <td>-58.398427</td>\n",
       "      <td>-34.609646</td>\n",
       "    </tr>\n",
       "    <tr>\n",
       "      <th>36</th>\n",
       "      <td>37.0</td>\n",
       "      <td>ALBERTI</td>\n",
       "      <td>A</td>\n",
       "      <td>POINT (-58.40121 -34.60983)</td>\n",
       "      <td>-58.401208</td>\n",
       "      <td>-34.609834</td>\n",
       "    </tr>\n",
       "    <tr>\n",
       "      <th>37</th>\n",
       "      <td>38.0</td>\n",
       "      <td>PLAZA DE MISERERE</td>\n",
       "      <td>A</td>\n",
       "      <td>POINT (-58.40671 -34.60982)</td>\n",
       "      <td>-58.406707</td>\n",
       "      <td>-34.609817</td>\n",
       "    </tr>\n",
       "    <tr>\n",
       "      <th>38</th>\n",
       "      <td>39.0</td>\n",
       "      <td>LORIA</td>\n",
       "      <td>A</td>\n",
       "      <td>POINT (-58.41519 -34.61078)</td>\n",
       "      <td>-58.415186</td>\n",
       "      <td>-34.610782</td>\n",
       "    </tr>\n",
       "    <tr>\n",
       "      <th>39</th>\n",
       "      <td>40.0</td>\n",
       "      <td>CASTRO BARROS</td>\n",
       "      <td>A</td>\n",
       "      <td>POINT (-58.42182 -34.61177)</td>\n",
       "      <td>-58.421816</td>\n",
       "      <td>-34.611770</td>\n",
       "    </tr>\n",
       "    <tr>\n",
       "      <th>40</th>\n",
       "      <td>41.0</td>\n",
       "      <td>RIO DE JANEIRO</td>\n",
       "      <td>A</td>\n",
       "      <td>POINT (-58.42950 -34.61521)</td>\n",
       "      <td>-58.429500</td>\n",
       "      <td>-34.615206</td>\n",
       "    </tr>\n",
       "    <tr>\n",
       "      <th>41</th>\n",
       "      <td>42.0</td>\n",
       "      <td>ACOYTE</td>\n",
       "      <td>A</td>\n",
       "      <td>POINT (-58.43643 -34.61828)</td>\n",
       "      <td>-58.436429</td>\n",
       "      <td>-34.618280</td>\n",
       "    </tr>\n",
       "    <tr>\n",
       "      <th>42</th>\n",
       "      <td>43.0</td>\n",
       "      <td>PRIMERA JUNTA</td>\n",
       "      <td>A</td>\n",
       "      <td>POINT (-58.44118 -34.62041)</td>\n",
       "      <td>-58.441178</td>\n",
       "      <td>-34.620405</td>\n",
       "    </tr>\n",
       "    <tr>\n",
       "      <th>69</th>\n",
       "      <td>70.0</td>\n",
       "      <td>PLAZA DE MAYO</td>\n",
       "      <td>A</td>\n",
       "      <td>POINT (-58.37097 -34.60881)</td>\n",
       "      <td>-58.370968</td>\n",
       "      <td>-34.608810</td>\n",
       "    </tr>\n",
       "    <tr>\n",
       "      <th>74</th>\n",
       "      <td>75.0</td>\n",
       "      <td>CARABOBO</td>\n",
       "      <td>A</td>\n",
       "      <td>POINT (-58.45671 -34.62667)</td>\n",
       "      <td>-58.456710</td>\n",
       "      <td>-34.626667</td>\n",
       "    </tr>\n",
       "    <tr>\n",
       "      <th>75</th>\n",
       "      <td>76.0</td>\n",
       "      <td>PUAN</td>\n",
       "      <td>A</td>\n",
       "      <td>POINT (-58.44865 -34.62353)</td>\n",
       "      <td>-58.448648</td>\n",
       "      <td>-34.623529</td>\n",
       "    </tr>\n",
       "    <tr>\n",
       "      <th>81</th>\n",
       "      <td>83.0</td>\n",
       "      <td>SAN PEDRITO</td>\n",
       "      <td>A</td>\n",
       "      <td>POINT (-58.46964 -34.63071)</td>\n",
       "      <td>-58.469640</td>\n",
       "      <td>-34.630707</td>\n",
       "    </tr>\n",
       "    <tr>\n",
       "      <th>82</th>\n",
       "      <td>82.0</td>\n",
       "      <td>SAN JOSÉ DE FLORES</td>\n",
       "      <td>A</td>\n",
       "      <td>POINT (-58.46354 -34.62909)</td>\n",
       "      <td>-58.463541</td>\n",
       "      <td>-34.629087</td>\n",
       "    </tr>\n",
       "  </tbody>\n",
       "</table>\n",
       "</div>"
      ],
      "text/plain": [
       "      ID            ESTACION LINEA                     geometry          x  \\\n",
       "30  31.0                PERU     A  POINT (-58.37427 -34.60856) -58.374268   \n",
       "31  32.0             PIEDRAS     A  POINT (-58.37909 -34.60888) -58.379085   \n",
       "32  33.0                LIMA     A  POINT (-58.38223 -34.60910) -58.382232   \n",
       "33  34.0          SAENZ PEÑA     A  POINT (-58.38678 -34.60941) -58.386777   \n",
       "34  35.0            CONGRESO     A  POINT (-58.39267 -34.60923) -58.392669   \n",
       "35  36.0               PASCO     A  POINT (-58.39843 -34.60965) -58.398427   \n",
       "36  37.0             ALBERTI     A  POINT (-58.40121 -34.60983) -58.401208   \n",
       "37  38.0   PLAZA DE MISERERE     A  POINT (-58.40671 -34.60982) -58.406707   \n",
       "38  39.0               LORIA     A  POINT (-58.41519 -34.61078) -58.415186   \n",
       "39  40.0       CASTRO BARROS     A  POINT (-58.42182 -34.61177) -58.421816   \n",
       "40  41.0      RIO DE JANEIRO     A  POINT (-58.42950 -34.61521) -58.429500   \n",
       "41  42.0              ACOYTE     A  POINT (-58.43643 -34.61828) -58.436429   \n",
       "42  43.0       PRIMERA JUNTA     A  POINT (-58.44118 -34.62041) -58.441178   \n",
       "69  70.0       PLAZA DE MAYO     A  POINT (-58.37097 -34.60881) -58.370968   \n",
       "74  75.0            CARABOBO     A  POINT (-58.45671 -34.62667) -58.456710   \n",
       "75  76.0                PUAN     A  POINT (-58.44865 -34.62353) -58.448648   \n",
       "81  83.0         SAN PEDRITO     A  POINT (-58.46964 -34.63071) -58.469640   \n",
       "82  82.0  SAN JOSÉ DE FLORES     A  POINT (-58.46354 -34.62909) -58.463541   \n",
       "\n",
       "            y  \n",
       "30 -34.608559  \n",
       "31 -34.608882  \n",
       "32 -34.609100  \n",
       "33 -34.609413  \n",
       "34 -34.609226  \n",
       "35 -34.609646  \n",
       "36 -34.609834  \n",
       "37 -34.609817  \n",
       "38 -34.610782  \n",
       "39 -34.611770  \n",
       "40 -34.615206  \n",
       "41 -34.618280  \n",
       "42 -34.620405  \n",
       "69 -34.608810  \n",
       "74 -34.626667  \n",
       "75 -34.623529  \n",
       "81 -34.630707  \n",
       "82 -34.629087  "
      ]
     },
     "execution_count": 30,
     "metadata": {},
     "output_type": "execute_result"
    }
   ],
   "source": [
    "import matplotlib.pyplot as plt\n",
    "import pandas as pd\n",
    "\n",
    "# Guardamos en una nueva base las estaciones correspondientes a la línea A\n",
    "\n",
    "linea_A = estaciones.loc[estaciones.LINEA == \"A\", :]\n",
    "linea_A"
   ]
  },
  {
   "cell_type": "markdown",
   "id": "011f51bc-8a5a-4e35-99dd-c83fc12e82d6",
   "metadata": {},
   "source": [
    "# <font color=\"#229966\">Ejercicio 1</font>\n",
    "\n",
    "a) Seleccionar la línea B y guardar en un archivo sus estaciones.\n",
    "\n",
    "b) Inspeccionar en esta nueva base las filas y columnas, el tipo de datos, mostrar algunas filas.\n",
    "\n",
    "c) Representar las estaciones de esta línea con un color y símbolo a elección\n"
   ]
  },
  {
   "cell_type": "code",
   "execution_count": null,
   "id": "0c5ed147-0f81-49e2-80ae-a88ca23eb996",
   "metadata": {},
   "outputs": [],
   "source": []
  },
  {
   "cell_type": "code",
   "execution_count": 31,
   "id": "fdd82ce7-ebb5-4e81-a317-f1afa7f23407",
   "metadata": {},
   "outputs": [
    {
     "data": {
      "image/png": "[encoded data removed]",
      "text/plain": [
       "<Figure size 640x480 with 1 Axes>"
      ]
     },
     "metadata": {},
     "output_type": "display_data"
    }
   ],
   "source": [
    "import matplotlib.pyplot as plt\n",
    "\n",
    "# Vamos a agregar etiquetas con los nombres de las estaciones de esta línea.\n",
    "\n",
    "# Datos de la línea B\n",
    "linea_B = estaciones.loc[estaciones.LINEA == \"B\", :]\n",
    "\n",
    "# Crear el gráfico\n",
    "fig, ax = plt.subplots()\n",
    "\n",
    "# Graficar cada punto\n",
    "ax.scatter(linea_B[\"x\"], linea_B[\"y\"], color=\"blue\")\n",
    "\n",
    "# Añadir etiquetas a los puntos con offsets variables para evitar superposición\n",
    "for idx, row in linea_B.iterrows():\n",
    "    x_offset = 10 if idx % 2 == 0 else -10  # Alternar el offset en x\n",
    "    y_offset = 10 if idx % 2 == 0 else -10  # Alternar el offset en y\n",
    "    ax.annotate(\n",
    "        row[\"ESTACION\"],\n",
    "        (row[\"x\"], row[\"y\"]),\n",
    "        textcoords=\"offset points\",\n",
    "        xytext=(x_offset, y_offset),\n",
    "        fontsize=6,\n",
    "        rotation=35,\n",
    "        ha=\"center\",\n",
    "    )\n",
    "\n",
    "# Ajustar la visualización\n",
    "ax.set_xlabel(\"Longitud\")\n",
    "ax.set_ylabel(\"Latitud\")\n",
    "ax.set_title(\"Estaciones de la Línea B\")\n",
    "ax.grid(True)\n",
    "\n",
    "# Eliminar el borde de la gráfica\n",
    "for spine in ax.spines.values():\n",
    "    spine.set_visible(False)\n",
    "\n",
    "plt.show()"
   ]
  },
  {
   "cell_type": "code",
   "execution_count": 32,
   "id": "55809b55-ff17-454e-abed-90d36ff44b36",
   "metadata": {},
   "outputs": [
    {
     "data": {
      "text/plain": [
       "<Axes: >"
      ]
     },
     "execution_count": 32,
     "metadata": {},
     "output_type": "execute_result"
    },
    {
     "data": {
      "image/png": "[encoded data removed]",
      "text/plain": [
       "<Figure size 600x600 with 1 Axes>"
      ]
     },
     "metadata": {},
     "output_type": "display_data"
    }
   ],
   "source": [
    "fig = plt.figure(figsize=(6, 6))\n",
    "ax = fig.add_subplot(1, 1, 1)\n",
    "\n",
    "# Vamos a visualizar cada línea con un color distinto\n",
    "\n",
    "estaciones.loc[estaciones.LINEA == \"A\", :].plot(ax=ax, color=\"darkgreen\")\n",
    "estaciones.loc[estaciones.LINEA == \"B\", :].plot(ax=ax, color=\"brown\")\n",
    "estaciones.loc[estaciones.LINEA == \"C\", :].plot(ax=ax, color=\"gold\")\n",
    "estaciones.loc[estaciones.LINEA == \"D\", :].plot(ax=ax, color=\"blue\")\n",
    "estaciones.loc[estaciones.LINEA == \"E\", :].plot(ax=ax, color=\"magenta\")\n",
    "estaciones.loc[estaciones.LINEA == \"H\", :].plot(ax=ax, color=\"darkred\")\n"
   ]
  },
  {
   "cell_type": "markdown",
   "id": "254a721c-f5c4-4511-809f-bef933f2a66a",
   "metadata": {},
   "source": [
    "# <font color=\"#226699\">Distancias</font>\n",
    "\n",
    "Pero lo mejor es poder realizar procesos espaciales. \n",
    "\n",
    "Por ejemplo, podemos ver utilizar una harramienta de análisis básica y fundamental del análisis espacial para los objetos de tipo punto: la distancia euclidiana.\n",
    "\n",
    "$$d_E(P_0,P_1)=\\sqrt{(x_0-x_1)^2+(y_0-y_1)^2}$$\n",
    "\n",
    "Vamos a calcular distancias como si no hubiera implementado un método, usando simplemente el concepto de distancia euclídea."
   ]
  },
  {
   "cell_type": "code",
   "execution_count": 33,
   "id": "52e728f3-23b9-4310-a491-f2e2b337e6db",
   "metadata": {},
   "outputs": [
    {
     "data": {
      "text/plain": [
       "0.03717294468299427"
      ]
     },
     "execution_count": 33,
     "metadata": {},
     "output_type": "execute_result"
    }
   ],
   "source": [
    "import math\n",
    "\n",
    "constitucion = estaciones.loc[estaciones.ESTACION == \"CONSTITUCION\", :]\n",
    "retiro = estaciones.loc[estaciones.ESTACION == \"RETIRO\", :]\n",
    "\n",
    "# calculamos la distancia euclidea entre estas dos estaciones.\n",
    "\n",
    "math.sqrt(\n",
    "    (retiro.x.iloc[0] - constitucion.x.iloc[0]) ** 2\n",
    "    + (retiro.y.iloc[0] - constitucion.y.iloc[0]) ** 2\n",
    ")"
   ]
  },
  {
   "cell_type": "markdown",
   "id": "d7f040d3-bb80-4adb-b390-02ea597c2b97",
   "metadata": {},
   "source": [
    "Veamos algunas cosas que acaban de suceder. En primer lugar que significa 0.03? \n",
    "\n",
    "En que unidades de medidas se encuentra? \n",
    "\n",
    "Esto depende de la proyeccion de coordenadas que utilizamos"
   ]
  },
  {
   "cell_type": "code",
   "execution_count": 34,
   "id": "acea259d-5b37-45b9-8566-09c7519b154c",
   "metadata": {},
   "outputs": [
    {
     "data": {
      "text/plain": [
       "<Geographic 2D CRS: EPSG:4326>\n",
       "Name: WGS 84\n",
       "Axis Info [ellipsoidal]:\n",
       "- Lat[north]: Geodetic latitude (degree)\n",
       "- Lon[east]: Geodetic longitude (degree)\n",
       "Area of Use:\n",
       "- name: World.\n",
       "- bounds: (-180.0, -90.0, 180.0, 90.0)\n",
       "Datum: World Geodetic System 1984 ensemble\n",
       "- Ellipsoid: WGS 84\n",
       "- Prime Meridian: Greenwich"
      ]
     },
     "execution_count": 34,
     "metadata": {},
     "output_type": "execute_result"
    }
   ],
   "source": [
    "estaciones.crs"
   ]
  },
  {
   "cell_type": "markdown",
   "id": "db90a5f0-9601-4297-bb84-6f7025e9b6e9",
   "metadata": {},
   "source": [
    "La proyeccion de este GeoDataFrame está en EPSG 4326 cuya unidad de medida es grados. Hay muchas proyecciones que utilizan metros. Como la proyeción óptima depende de la ubicación en el planeta donde hagamos nuestro análisis, podemos utilizar una sencilla de alcance global como la EPSG 3857."
   ]
  },
  {
   "cell_type": "code",
   "execution_count": 35,
   "id": "a611bdc9-b9c4-48a5-8679-6c9153152b1f",
   "metadata": {},
   "outputs": [
    {
     "data": {
      "text/html": [
       "<div>\n",
       "<style scoped>\n",
       "    .dataframe tbody tr th:only-of-type {\n",
       "        vertical-align: middle;\n",
       "    }\n",
       "\n",
       "    .dataframe tbody tr th {\n",
       "        vertical-align: top;\n",
       "    }\n",
       "\n",
       "    .dataframe thead th {\n",
       "        text-align: right;\n",
       "    }\n",
       "</style>\n",
       "<table border=\"1\" class=\"dataframe\">\n",
       "  <thead>\n",
       "    <tr style=\"text-align: right;\">\n",
       "      <th></th>\n",
       "      <th>ID</th>\n",
       "      <th>ESTACION</th>\n",
       "      <th>LINEA</th>\n",
       "      <th>geometry</th>\n",
       "      <th>x</th>\n",
       "      <th>y</th>\n",
       "    </tr>\n",
       "  </thead>\n",
       "  <tbody>\n",
       "    <tr>\n",
       "      <th>0</th>\n",
       "      <td>1.0</td>\n",
       "      <td>CASEROS</td>\n",
       "      <td>H</td>\n",
       "      <td>POINT (-6500938.882 -4114490.565)</td>\n",
       "      <td>-58.398928</td>\n",
       "      <td>-34.635750</td>\n",
       "    </tr>\n",
       "    <tr>\n",
       "      <th>1</th>\n",
       "      <td>2.0</td>\n",
       "      <td>INCLAN</td>\n",
       "      <td>H</td>\n",
       "      <td>POINT (-6501166.193 -4113628.148)</td>\n",
       "      <td>-58.400970</td>\n",
       "      <td>-34.629376</td>\n",
       "    </tr>\n",
       "    <tr>\n",
       "      <th>2</th>\n",
       "      <td>3.0</td>\n",
       "      <td>HUMBERTO 1°</td>\n",
       "      <td>H</td>\n",
       "      <td>POINT (-6501316.827 -4112778.132)</td>\n",
       "      <td>-58.402323</td>\n",
       "      <td>-34.623092</td>\n",
       "    </tr>\n",
       "    <tr>\n",
       "      <th>3</th>\n",
       "      <td>4.0</td>\n",
       "      <td>VENEZUELA</td>\n",
       "      <td>H</td>\n",
       "      <td>POINT (-6501584.995 -4111716.244)</td>\n",
       "      <td>-58.404732</td>\n",
       "      <td>-34.615242</td>\n",
       "    </tr>\n",
       "    <tr>\n",
       "      <th>4</th>\n",
       "      <td>5.0</td>\n",
       "      <td>ONCE - 30 DE DICIEMBRE</td>\n",
       "      <td>H</td>\n",
       "      <td>POINT (-6501730.229 -4110863.185)</td>\n",
       "      <td>-58.406036</td>\n",
       "      <td>-34.608935</td>\n",
       "    </tr>\n",
       "    <tr>\n",
       "      <th>...</th>\n",
       "      <td>...</td>\n",
       "      <td>...</td>\n",
       "      <td>...</td>\n",
       "      <td>...</td>\n",
       "      <td>...</td>\n",
       "      <td>...</td>\n",
       "    </tr>\n",
       "    <tr>\n",
       "      <th>81</th>\n",
       "      <td>83.0</td>\n",
       "      <td>SAN PEDRITO</td>\n",
       "      <td>A</td>\n",
       "      <td>POINT (-6508810.510 -4113808.273)</td>\n",
       "      <td>-58.469640</td>\n",
       "      <td>-34.630707</td>\n",
       "    </tr>\n",
       "    <tr>\n",
       "      <th>82</th>\n",
       "      <td>82.0</td>\n",
       "      <td>SAN JOSÉ DE FLORES</td>\n",
       "      <td>A</td>\n",
       "      <td>POINT (-6508131.560 -4113589.127)</td>\n",
       "      <td>-58.463541</td>\n",
       "      <td>-34.629087</td>\n",
       "    </tr>\n",
       "    <tr>\n",
       "      <th>83</th>\n",
       "      <td>84.0</td>\n",
       "      <td>CÓRDOBA</td>\n",
       "      <td>H</td>\n",
       "      <td>POINT (-6501472.537 -4109445.808)</td>\n",
       "      <td>-58.403721</td>\n",
       "      <td>-34.598455</td>\n",
       "    </tr>\n",
       "    <tr>\n",
       "      <th>84</th>\n",
       "      <td>85.0</td>\n",
       "      <td>LAS HERAS</td>\n",
       "      <td>H</td>\n",
       "      <td>POINT (-6500748.302 -4107959.183)</td>\n",
       "      <td>-58.397216</td>\n",
       "      <td>-34.587462</td>\n",
       "    </tr>\n",
       "    <tr>\n",
       "      <th>85</th>\n",
       "      <td>86.0</td>\n",
       "      <td>SANTA FE - CARLOS JAUREGUI</td>\n",
       "      <td>H</td>\n",
       "      <td>POINT (-6501322.777 -4108914.382)</td>\n",
       "      <td>-58.402376</td>\n",
       "      <td>-34.594525</td>\n",
       "    </tr>\n",
       "  </tbody>\n",
       "</table>\n",
       "<p>86 rows × 6 columns</p>\n",
       "</div>"
      ],
      "text/plain": [
       "      ID                    ESTACION LINEA                           geometry  \\\n",
       "0    1.0                     CASEROS     H  POINT (-6500938.882 -4114490.565)   \n",
       "1    2.0                      INCLAN     H  POINT (-6501166.193 -4113628.148)   \n",
       "2    3.0                 HUMBERTO 1°     H  POINT (-6501316.827 -4112778.132)   \n",
       "3    4.0                   VENEZUELA     H  POINT (-6501584.995 -4111716.244)   \n",
       "4    5.0      ONCE - 30 DE DICIEMBRE     H  POINT (-6501730.229 -4110863.185)   \n",
       "..   ...                         ...   ...                                ...   \n",
       "81  83.0                 SAN PEDRITO     A  POINT (-6508810.510 -4113808.273)   \n",
       "82  82.0          SAN JOSÉ DE FLORES     A  POINT (-6508131.560 -4113589.127)   \n",
       "83  84.0                     CÓRDOBA     H  POINT (-6501472.537 -4109445.808)   \n",
       "84  85.0                   LAS HERAS     H  POINT (-6500748.302 -4107959.183)   \n",
       "85  86.0  SANTA FE - CARLOS JAUREGUI     H  POINT (-6501322.777 -4108914.382)   \n",
       "\n",
       "            x          y  \n",
       "0  -58.398928 -34.635750  \n",
       "1  -58.400970 -34.629376  \n",
       "2  -58.402323 -34.623092  \n",
       "3  -58.404732 -34.615242  \n",
       "4  -58.406036 -34.608935  \n",
       "..        ...        ...  \n",
       "81 -58.469640 -34.630707  \n",
       "82 -58.463541 -34.629087  \n",
       "83 -58.403721 -34.598455  \n",
       "84 -58.397216 -34.587462  \n",
       "85 -58.402376 -34.594525  \n",
       "\n",
       "[86 rows x 6 columns]"
      ]
     },
     "execution_count": 35,
     "metadata": {},
     "output_type": "execute_result"
    }
   ],
   "source": [
    "# convertirmos todo nuestro dataset a una proyeccion con unidades en metros. Luego veremos en mas detalle\n",
    "estaciones = estaciones.to_crs(epsg=3857)\n",
    "estaciones"
   ]
  },
  {
   "cell_type": "code",
   "execution_count": 36,
   "id": "bb2fe052-4d0c-4c9b-a6fc-fb36594e1363",
   "metadata": {},
   "outputs": [
    {
     "data": {
      "text/html": [
       "<div>\n",
       "<style scoped>\n",
       "    .dataframe tbody tr th:only-of-type {\n",
       "        vertical-align: middle;\n",
       "    }\n",
       "\n",
       "    .dataframe tbody tr th {\n",
       "        vertical-align: top;\n",
       "    }\n",
       "\n",
       "    .dataframe thead th {\n",
       "        text-align: right;\n",
       "    }\n",
       "</style>\n",
       "<table border=\"1\" class=\"dataframe\">\n",
       "  <thead>\n",
       "    <tr style=\"text-align: right;\">\n",
       "      <th></th>\n",
       "      <th>ID</th>\n",
       "      <th>ESTACION</th>\n",
       "      <th>LINEA</th>\n",
       "      <th>geometry</th>\n",
       "      <th>x</th>\n",
       "      <th>y</th>\n",
       "      <th>ym</th>\n",
       "      <th>xm</th>\n",
       "    </tr>\n",
       "  </thead>\n",
       "  <tbody>\n",
       "    <tr>\n",
       "      <th>0</th>\n",
       "      <td>1.0</td>\n",
       "      <td>CASEROS</td>\n",
       "      <td>H</td>\n",
       "      <td>POINT (-6500938.882 -4114490.565)</td>\n",
       "      <td>-58.398928</td>\n",
       "      <td>-34.635750</td>\n",
       "      <td>-4.114491e+06</td>\n",
       "      <td>-6.500939e+06</td>\n",
       "    </tr>\n",
       "    <tr>\n",
       "      <th>1</th>\n",
       "      <td>2.0</td>\n",
       "      <td>INCLAN</td>\n",
       "      <td>H</td>\n",
       "      <td>POINT (-6501166.193 -4113628.148)</td>\n",
       "      <td>-58.400970</td>\n",
       "      <td>-34.629376</td>\n",
       "      <td>-4.113628e+06</td>\n",
       "      <td>-6.501166e+06</td>\n",
       "    </tr>\n",
       "    <tr>\n",
       "      <th>2</th>\n",
       "      <td>3.0</td>\n",
       "      <td>HUMBERTO 1°</td>\n",
       "      <td>H</td>\n",
       "      <td>POINT (-6501316.827 -4112778.132)</td>\n",
       "      <td>-58.402323</td>\n",
       "      <td>-34.623092</td>\n",
       "      <td>-4.112778e+06</td>\n",
       "      <td>-6.501317e+06</td>\n",
       "    </tr>\n",
       "    <tr>\n",
       "      <th>3</th>\n",
       "      <td>4.0</td>\n",
       "      <td>VENEZUELA</td>\n",
       "      <td>H</td>\n",
       "      <td>POINT (-6501584.995 -4111716.244)</td>\n",
       "      <td>-58.404732</td>\n",
       "      <td>-34.615242</td>\n",
       "      <td>-4.111716e+06</td>\n",
       "      <td>-6.501585e+06</td>\n",
       "    </tr>\n",
       "    <tr>\n",
       "      <th>4</th>\n",
       "      <td>5.0</td>\n",
       "      <td>ONCE - 30 DE DICIEMBRE</td>\n",
       "      <td>H</td>\n",
       "      <td>POINT (-6501730.229 -4110863.185)</td>\n",
       "      <td>-58.406036</td>\n",
       "      <td>-34.608935</td>\n",
       "      <td>-4.110863e+06</td>\n",
       "      <td>-6.501730e+06</td>\n",
       "    </tr>\n",
       "  </tbody>\n",
       "</table>\n",
       "</div>"
      ],
      "text/plain": [
       "    ID                ESTACION LINEA                           geometry  \\\n",
       "0  1.0                 CASEROS     H  POINT (-6500938.882 -4114490.565)   \n",
       "1  2.0                  INCLAN     H  POINT (-6501166.193 -4113628.148)   \n",
       "2  3.0             HUMBERTO 1°     H  POINT (-6501316.827 -4112778.132)   \n",
       "3  4.0               VENEZUELA     H  POINT (-6501584.995 -4111716.244)   \n",
       "4  5.0  ONCE - 30 DE DICIEMBRE     H  POINT (-6501730.229 -4110863.185)   \n",
       "\n",
       "           x          y            ym            xm  \n",
       "0 -58.398928 -34.635750 -4.114491e+06 -6.500939e+06  \n",
       "1 -58.400970 -34.629376 -4.113628e+06 -6.501166e+06  \n",
       "2 -58.402323 -34.623092 -4.112778e+06 -6.501317e+06  \n",
       "3 -58.404732 -34.615242 -4.111716e+06 -6.501585e+06  \n",
       "4 -58.406036 -34.608935 -4.110863e+06 -6.501730e+06  "
      ]
     },
     "execution_count": 36,
     "metadata": {},
     "output_type": "execute_result"
    }
   ],
   "source": [
    "# Con los datos convertidos en metros realizamos una operación similar a la anterior\n",
    "\n",
    "estaciones[\"ym\"] = estaciones.geometry.y\n",
    "estaciones[\"xm\"] = estaciones.geometry.x\n",
    "estaciones.head()\n"
   ]
  },
  {
   "cell_type": "code",
   "execution_count": 37,
   "id": "dd5cd873-b7f7-49d2-ac76-2908c15951cf",
   "metadata": {},
   "outputs": [
    {
     "data": {
      "text/plain": [
       "4995.3888866514335"
      ]
     },
     "execution_count": 37,
     "metadata": {},
     "output_type": "execute_result"
    }
   ],
   "source": [
    "import math \n",
    "\n",
    "# Ahora calculamos la distancia pero el resultado estará en metros\n",
    "\n",
    "constitucion_m = estaciones.loc[estaciones.ESTACION == 'CONSTITUCION','geometry'].iloc[0]\n",
    "retiro_m = estaciones.loc[estaciones.ESTACION == 'RETIRO','geometry'].iloc[0]\n",
    "math.sqrt((retiro_m.x - constitucion_m.x)**2 + (retiro_m.y - constitucion_m.y)**2)"
   ]
  },
  {
   "cell_type": "code",
   "execution_count": 38,
   "id": "d3b5da0d-17eb-440d-ad8a-762314b29bfc",
   "metadata": {},
   "outputs": [],
   "source": [
    "# Necesitamos calcular la distancia de nuestras estaciones con respecto a algo, no existe la distancia a la nada\n",
    "from shapely.geometry import Point\n",
    "\n",
    "# definimos un punto con las coordenadas del obelisto\n",
    "\n",
    "obelisco = Point(-6499048.3, -4110245.4)\n"
   ]
  },
  {
   "attachments": {
    "40fc4b6c-6704-4830-949a-d182f3852290.png": {
     "image/png": "[encoded data removed]"
    }
   },
   "cell_type": "markdown",
   "id": "e1a4e2cd-9b5e-4fc8-bf3f-8861542015c2",
   "metadata": {},
   "source": [
    "![imagen.png](attachment:40fc4b6c-6704-4830-949a-d182f3852290.png)"
   ]
  },
  {
   "cell_type": "code",
   "execution_count": 39,
   "id": "a1c63602-0688-492d-bcf2-21263827156f",
   "metadata": {},
   "outputs": [
    {
     "data": {
      "text/plain": [
       "4995.3888866514335"
      ]
     },
     "execution_count": 39,
     "metadata": {},
     "output_type": "execute_result"
    }
   ],
   "source": [
    "# ahora calculamos la distancia de la Estación Constitución a la Estación Retiro\n",
    "constitucion_m.distance(retiro_m)"
   ]
  },
  {
   "cell_type": "code",
   "execution_count": 40,
   "id": "52b531f9-6982-49b7-90be-cc4d07b858ef",
   "metadata": {},
   "outputs": [
    {
     "data": {
      "text/html": [
       "<div>\n",
       "<style scoped>\n",
       "    .dataframe tbody tr th:only-of-type {\n",
       "        vertical-align: middle;\n",
       "    }\n",
       "\n",
       "    .dataframe tbody tr th {\n",
       "        vertical-align: top;\n",
       "    }\n",
       "\n",
       "    .dataframe thead th {\n",
       "        text-align: right;\n",
       "    }\n",
       "</style>\n",
       "<table border=\"1\" class=\"dataframe\">\n",
       "  <thead>\n",
       "    <tr style=\"text-align: right;\">\n",
       "      <th></th>\n",
       "      <th>ID</th>\n",
       "      <th>ESTACION</th>\n",
       "      <th>LINEA</th>\n",
       "      <th>geometry</th>\n",
       "      <th>x</th>\n",
       "      <th>y</th>\n",
       "      <th>ym</th>\n",
       "      <th>xm</th>\n",
       "      <th>distancia_obelisco</th>\n",
       "    </tr>\n",
       "  </thead>\n",
       "  <tbody>\n",
       "    <tr>\n",
       "      <th>0</th>\n",
       "      <td>1.0</td>\n",
       "      <td>CASEROS</td>\n",
       "      <td>H</td>\n",
       "      <td>POINT (-6500938.882 -4114490.565)</td>\n",
       "      <td>-58.398928</td>\n",
       "      <td>-34.635750</td>\n",
       "      <td>-4.114491e+06</td>\n",
       "      <td>-6.500939e+06</td>\n",
       "      <td>4647.120236</td>\n",
       "    </tr>\n",
       "    <tr>\n",
       "      <th>1</th>\n",
       "      <td>2.0</td>\n",
       "      <td>INCLAN</td>\n",
       "      <td>H</td>\n",
       "      <td>POINT (-6501166.193 -4113628.148)</td>\n",
       "      <td>-58.400970</td>\n",
       "      <td>-34.629376</td>\n",
       "      <td>-4.113628e+06</td>\n",
       "      <td>-6.501166e+06</td>\n",
       "      <td>3991.046605</td>\n",
       "    </tr>\n",
       "    <tr>\n",
       "      <th>2</th>\n",
       "      <td>3.0</td>\n",
       "      <td>HUMBERTO 1°</td>\n",
       "      <td>H</td>\n",
       "      <td>POINT (-6501316.827 -4112778.132)</td>\n",
       "      <td>-58.402323</td>\n",
       "      <td>-34.623092</td>\n",
       "      <td>-4.112778e+06</td>\n",
       "      <td>-6.501317e+06</td>\n",
       "      <td>3400.139468</td>\n",
       "    </tr>\n",
       "    <tr>\n",
       "      <th>3</th>\n",
       "      <td>4.0</td>\n",
       "      <td>VENEZUELA</td>\n",
       "      <td>H</td>\n",
       "      <td>POINT (-6501584.995 -4111716.244)</td>\n",
       "      <td>-58.404732</td>\n",
       "      <td>-34.615242</td>\n",
       "      <td>-4.111716e+06</td>\n",
       "      <td>-6.501585e+06</td>\n",
       "      <td>2932.269095</td>\n",
       "    </tr>\n",
       "    <tr>\n",
       "      <th>4</th>\n",
       "      <td>5.0</td>\n",
       "      <td>ONCE - 30 DE DICIEMBRE</td>\n",
       "      <td>H</td>\n",
       "      <td>POINT (-6501730.229 -4110863.185)</td>\n",
       "      <td>-58.406036</td>\n",
       "      <td>-34.608935</td>\n",
       "      <td>-4.110863e+06</td>\n",
       "      <td>-6.501730e+06</td>\n",
       "      <td>2752.163162</td>\n",
       "    </tr>\n",
       "  </tbody>\n",
       "</table>\n",
       "</div>"
      ],
      "text/plain": [
       "    ID                ESTACION LINEA                           geometry  \\\n",
       "0  1.0                 CASEROS     H  POINT (-6500938.882 -4114490.565)   \n",
       "1  2.0                  INCLAN     H  POINT (-6501166.193 -4113628.148)   \n",
       "2  3.0             HUMBERTO 1°     H  POINT (-6501316.827 -4112778.132)   \n",
       "3  4.0               VENEZUELA     H  POINT (-6501584.995 -4111716.244)   \n",
       "4  5.0  ONCE - 30 DE DICIEMBRE     H  POINT (-6501730.229 -4110863.185)   \n",
       "\n",
       "           x          y            ym            xm  distancia_obelisco  \n",
       "0 -58.398928 -34.635750 -4.114491e+06 -6.500939e+06         4647.120236  \n",
       "1 -58.400970 -34.629376 -4.113628e+06 -6.501166e+06         3991.046605  \n",
       "2 -58.402323 -34.623092 -4.112778e+06 -6.501317e+06         3400.139468  \n",
       "3 -58.404732 -34.615242 -4.111716e+06 -6.501585e+06         2932.269095  \n",
       "4 -58.406036 -34.608935 -4.110863e+06 -6.501730e+06         2752.163162  "
      ]
     },
     "execution_count": 40,
     "metadata": {},
     "output_type": "execute_result"
    }
   ],
   "source": [
    "# Calculemos ahora la distancia de las estaciones al obelisco\n",
    "# afortunadamente GeoPandas puede aplicar este metodo a toda la Serie\n",
    "\n",
    "estaciones[\"distancia_obelisco\"] = estaciones.geometry.distance(obelisco)\n",
    "estaciones.head()"
   ]
  },
  {
   "cell_type": "code",
   "execution_count": 41,
   "id": "167ee1b7-d771-4a11-933f-bb6d00ca2d88",
   "metadata": {},
   "outputs": [
    {
     "data": {
      "text/plain": [
       "Text(0.5, 1.0, 'Estaciones de subte y distancia al Obelisco')"
      ]
     },
     "execution_count": 41,
     "metadata": {},
     "output_type": "execute_result"
    },
    {
     "data": {
      "image/png": "[encoded data removed]",
      "text/plain": [
       "<Figure size 600x600 with 1 Axes>"
      ]
     },
     "metadata": {},
     "output_type": "display_data"
    }
   ],
   "source": [
    "from shapely.geometry import Point\n",
    "import geopandas as gpd\n",
    "\n",
    "# veamos en un mapa las estaciones representadas en función de su distancia al obelisco\n",
    "fig = plt.figure(figsize=(6, 6))\n",
    "\n",
    "ax = fig.add_subplot(1, 1, 1)\n",
    "\n",
    "estaciones.plot(\n",
    "    ax=ax, color=\"darkgrey\", markersize=(estaciones.distancia_obelisco**0.5), alpha=0.5\n",
    ")\n",
    "\n",
    "ax.set_axis_off()\n",
    "plt.axis(\"equal\")\n",
    "ax.set_title(\"Estaciones de subte y distancia al Obelisco\")"
   ]
  },
  {
   "cell_type": "markdown",
   "id": "c8400619-a792-42fc-9ee9-810f68d2e6b2",
   "metadata": {},
   "source": [
    "# <font color=\"#229966\">Ejercicio 2</font>\n",
    "\n",
    "a) Definir un punto en la estación Constitución\n",
    "\n",
    "b) Calcular la distancia de cada estación a Constitución\n",
    "\n",
    "c) Graficar en función de la distancia a Constitución\n"
   ]
  },
  {
   "cell_type": "code",
   "execution_count": 42,
   "id": "1e2366f9-5664-4638-89bd-70ed3c5543cb",
   "metadata": {},
   "outputs": [
    {
     "data": {
      "text/html": [
       "<div>\n",
       "<style scoped>\n",
       "    .dataframe tbody tr th:only-of-type {\n",
       "        vertical-align: middle;\n",
       "    }\n",
       "\n",
       "    .dataframe tbody tr th {\n",
       "        vertical-align: top;\n",
       "    }\n",
       "\n",
       "    .dataframe thead th {\n",
       "        text-align: right;\n",
       "    }\n",
       "</style>\n",
       "<table border=\"1\" class=\"dataframe\">\n",
       "  <thead>\n",
       "    <tr style=\"text-align: right;\">\n",
       "      <th></th>\n",
       "      <th>ESTACION</th>\n",
       "    </tr>\n",
       "  </thead>\n",
       "  <tbody>\n",
       "    <tr>\n",
       "      <th>0</th>\n",
       "      <td>CASEROS</td>\n",
       "    </tr>\n",
       "  </tbody>\n",
       "</table>\n",
       "</div>"
      ],
      "text/plain": [
       "  ESTACION\n",
       "0  CASEROS"
      ]
     },
     "execution_count": 42,
     "metadata": {},
     "output_type": "execute_result"
    }
   ],
   "source": [
    "# esto devuelve un data frame\n",
    "estaciones.iloc[[0], [1]]"
   ]
  },
  {
   "cell_type": "code",
   "execution_count": 43,
   "id": "c370e7f4-ef13-42bf-a620-4ec420656573",
   "metadata": {},
   "outputs": [
    {
     "data": {
      "text/html": [
       "<div>\n",
       "<style scoped>\n",
       "    .dataframe tbody tr th:only-of-type {\n",
       "        vertical-align: middle;\n",
       "    }\n",
       "\n",
       "    .dataframe tbody tr th {\n",
       "        vertical-align: top;\n",
       "    }\n",
       "\n",
       "    .dataframe thead th {\n",
       "        text-align: right;\n",
       "    }\n",
       "</style>\n",
       "<table border=\"1\" class=\"dataframe\">\n",
       "  <thead>\n",
       "    <tr style=\"text-align: right;\">\n",
       "      <th></th>\n",
       "      <th>ESTACION</th>\n",
       "      <th>LINEA</th>\n",
       "      <th>geometry</th>\n",
       "    </tr>\n",
       "  </thead>\n",
       "  <tbody>\n",
       "    <tr>\n",
       "      <th>0</th>\n",
       "      <td>CASEROS</td>\n",
       "      <td>H</td>\n",
       "      <td>POINT (-6500938.882 -4114490.565)</td>\n",
       "    </tr>\n",
       "    <tr>\n",
       "      <th>1</th>\n",
       "      <td>INCLAN</td>\n",
       "      <td>H</td>\n",
       "      <td>POINT (-6501166.193 -4113628.148)</td>\n",
       "    </tr>\n",
       "    <tr>\n",
       "      <th>2</th>\n",
       "      <td>HUMBERTO 1°</td>\n",
       "      <td>H</td>\n",
       "      <td>POINT (-6501316.827 -4112778.132)</td>\n",
       "    </tr>\n",
       "    <tr>\n",
       "      <th>3</th>\n",
       "      <td>VENEZUELA</td>\n",
       "      <td>H</td>\n",
       "      <td>POINT (-6501584.995 -4111716.244)</td>\n",
       "    </tr>\n",
       "    <tr>\n",
       "      <th>4</th>\n",
       "      <td>ONCE - 30 DE DICIEMBRE</td>\n",
       "      <td>H</td>\n",
       "      <td>POINT (-6501730.229 -4110863.185)</td>\n",
       "    </tr>\n",
       "    <tr>\n",
       "      <th>...</th>\n",
       "      <td>...</td>\n",
       "      <td>...</td>\n",
       "      <td>...</td>\n",
       "    </tr>\n",
       "    <tr>\n",
       "      <th>81</th>\n",
       "      <td>SAN PEDRITO</td>\n",
       "      <td>A</td>\n",
       "      <td>POINT (-6508810.510 -4113808.273)</td>\n",
       "    </tr>\n",
       "    <tr>\n",
       "      <th>82</th>\n",
       "      <td>SAN JOSÉ DE FLORES</td>\n",
       "      <td>A</td>\n",
       "      <td>POINT (-6508131.560 -4113589.127)</td>\n",
       "    </tr>\n",
       "    <tr>\n",
       "      <th>83</th>\n",
       "      <td>CÓRDOBA</td>\n",
       "      <td>H</td>\n",
       "      <td>POINT (-6501472.537 -4109445.808)</td>\n",
       "    </tr>\n",
       "    <tr>\n",
       "      <th>84</th>\n",
       "      <td>LAS HERAS</td>\n",
       "      <td>H</td>\n",
       "      <td>POINT (-6500748.302 -4107959.183)</td>\n",
       "    </tr>\n",
       "    <tr>\n",
       "      <th>85</th>\n",
       "      <td>SANTA FE - CARLOS JAUREGUI</td>\n",
       "      <td>H</td>\n",
       "      <td>POINT (-6501322.777 -4108914.382)</td>\n",
       "    </tr>\n",
       "  </tbody>\n",
       "</table>\n",
       "<p>86 rows × 3 columns</p>\n",
       "</div>"
      ],
      "text/plain": [
       "                      ESTACION LINEA                           geometry\n",
       "0                      CASEROS     H  POINT (-6500938.882 -4114490.565)\n",
       "1                       INCLAN     H  POINT (-6501166.193 -4113628.148)\n",
       "2                  HUMBERTO 1°     H  POINT (-6501316.827 -4112778.132)\n",
       "3                    VENEZUELA     H  POINT (-6501584.995 -4111716.244)\n",
       "4       ONCE - 30 DE DICIEMBRE     H  POINT (-6501730.229 -4110863.185)\n",
       "..                         ...   ...                                ...\n",
       "81                 SAN PEDRITO     A  POINT (-6508810.510 -4113808.273)\n",
       "82          SAN JOSÉ DE FLORES     A  POINT (-6508131.560 -4113589.127)\n",
       "83                     CÓRDOBA     H  POINT (-6501472.537 -4109445.808)\n",
       "84                   LAS HERAS     H  POINT (-6500748.302 -4107959.183)\n",
       "85  SANTA FE - CARLOS JAUREGUI     H  POINT (-6501322.777 -4108914.382)\n",
       "\n",
       "[86 rows x 3 columns]"
      ]
     },
     "execution_count": 43,
     "metadata": {},
     "output_type": "execute_result"
    }
   ],
   "source": [
    "# este es un dataframe pero ahora con todas las filas y seleccionadas 3 columnas\n",
    "estaciones.iloc[:, [1, 2, 3]]"
   ]
  },
  {
   "cell_type": "code",
   "execution_count": 44,
   "id": "8396be4d-382e-4fd6-b646-b02648884971",
   "metadata": {},
   "outputs": [
    {
     "data": {
      "text/html": [
       "<div>\n",
       "<style scoped>\n",
       "    .dataframe tbody tr th:only-of-type {\n",
       "        vertical-align: middle;\n",
       "    }\n",
       "\n",
       "    .dataframe tbody tr th {\n",
       "        vertical-align: top;\n",
       "    }\n",
       "\n",
       "    .dataframe thead th {\n",
       "        text-align: right;\n",
       "    }\n",
       "</style>\n",
       "<table border=\"1\" class=\"dataframe\">\n",
       "  <thead>\n",
       "    <tr style=\"text-align: right;\">\n",
       "      <th></th>\n",
       "      <th>ID</th>\n",
       "      <th>ESTACION</th>\n",
       "      <th>LINEA</th>\n",
       "      <th>geometry</th>\n",
       "      <th>x</th>\n",
       "      <th>y</th>\n",
       "      <th>ym</th>\n",
       "      <th>xm</th>\n",
       "      <th>distancia_obelisco</th>\n",
       "    </tr>\n",
       "  </thead>\n",
       "  <tbody>\n",
       "    <tr>\n",
       "      <th>1</th>\n",
       "      <td>2.0</td>\n",
       "      <td>INCLAN</td>\n",
       "      <td>H</td>\n",
       "      <td>POINT (-6501166.193 -4113628.148)</td>\n",
       "      <td>-58.400970</td>\n",
       "      <td>-34.629376</td>\n",
       "      <td>-4.113628e+06</td>\n",
       "      <td>-6.501166e+06</td>\n",
       "      <td>3991.046605</td>\n",
       "    </tr>\n",
       "    <tr>\n",
       "      <th>2</th>\n",
       "      <td>3.0</td>\n",
       "      <td>HUMBERTO 1°</td>\n",
       "      <td>H</td>\n",
       "      <td>POINT (-6501316.827 -4112778.132)</td>\n",
       "      <td>-58.402323</td>\n",
       "      <td>-34.623092</td>\n",
       "      <td>-4.112778e+06</td>\n",
       "      <td>-6.501317e+06</td>\n",
       "      <td>3400.139468</td>\n",
       "    </tr>\n",
       "    <tr>\n",
       "      <th>3</th>\n",
       "      <td>4.0</td>\n",
       "      <td>VENEZUELA</td>\n",
       "      <td>H</td>\n",
       "      <td>POINT (-6501584.995 -4111716.244)</td>\n",
       "      <td>-58.404732</td>\n",
       "      <td>-34.615242</td>\n",
       "      <td>-4.111716e+06</td>\n",
       "      <td>-6.501585e+06</td>\n",
       "      <td>2932.269095</td>\n",
       "    </tr>\n",
       "  </tbody>\n",
       "</table>\n",
       "</div>"
      ],
      "text/plain": [
       "    ID     ESTACION LINEA                           geometry          x  \\\n",
       "1  2.0       INCLAN     H  POINT (-6501166.193 -4113628.148) -58.400970   \n",
       "2  3.0  HUMBERTO 1°     H  POINT (-6501316.827 -4112778.132) -58.402323   \n",
       "3  4.0    VENEZUELA     H  POINT (-6501584.995 -4111716.244) -58.404732   \n",
       "\n",
       "           y            ym            xm  distancia_obelisco  \n",
       "1 -34.629376 -4.113628e+06 -6.501166e+06         3991.046605  \n",
       "2 -34.623092 -4.112778e+06 -6.501317e+06         3400.139468  \n",
       "3 -34.615242 -4.111716e+06 -6.501585e+06         2932.269095  "
      ]
     },
     "execution_count": 44,
     "metadata": {},
     "output_type": "execute_result"
    }
   ],
   "source": [
    "# este es un dataframe con todas las columnas pero sólo las primeras 3 filas\n",
    "estaciones.iloc[ [1, 2, 3],:]"
   ]
  },
  {
   "cell_type": "code",
   "execution_count": 45,
   "id": "e0723c0d-3a6c-4d3e-aa58-c5f70dbc680c",
   "metadata": {},
   "outputs": [
    {
     "name": "stdout",
     "output_type": "stream",
     "text": [
      "      ESTACION LINEA                           geometry\n",
      "0      CASEROS     H  POINT (-6500938.882 -4114490.565)\n",
      "1       INCLAN     H  POINT (-6501166.193 -4113628.148)\n",
      "2  HUMBERTO 1°     H  POINT (-6501316.827 -4112778.132)\n"
     ]
    }
   ],
   "source": [
    "# ¿qué elige este?\n",
    "\n",
    "print(estaciones.iloc[0:3, 1:4])"
   ]
  },
  {
   "cell_type": "code",
   "execution_count": 46,
   "id": "9c9cb957-a75a-4113-90b8-8760f8ac7319",
   "metadata": {},
   "outputs": [
    {
     "data": {
      "text/plain": [
       "LINEA    H\n",
       "Name: 0, dtype: object"
      ]
     },
     "execution_count": 46,
     "metadata": {},
     "output_type": "execute_result"
    }
   ],
   "source": [
    "#esto devuelve una Serie\n",
    "estaciones.iloc[0,[2]]"
   ]
  },
  {
   "cell_type": "code",
   "execution_count": 47,
   "id": "131bc238-d4ad-4ccd-9bdf-fcb8e5eac380",
   "metadata": {},
   "outputs": [
    {
     "data": {
      "text/plain": [
       "pandas.core.series.Series"
      ]
     },
     "execution_count": 47,
     "metadata": {},
     "output_type": "execute_result"
    }
   ],
   "source": [
    "# noten que al filtrar las filas, usamos una serie\n",
    "type(estaciones.ESTACION == \"CONSTITUCION\")"
   ]
  },
  {
   "cell_type": "code",
   "execution_count": 48,
   "id": "bbd158a8-d82f-4180-873d-e04e418b9162",
   "metadata": {},
   "outputs": [
    {
     "data": {
      "text/plain": [
       "'CASEROS'"
      ]
     },
     "execution_count": 48,
     "metadata": {},
     "output_type": "execute_result"
    }
   ],
   "source": [
    "#esto un numero, el contenido dentro de la celda\n",
    "estaciones.iloc[0, 1]"
   ]
  },
  {
   "cell_type": "markdown",
   "id": "99a8a84d-1e80-44e7-aab9-9f07604672b2",
   "metadata": {},
   "source": [
    "# <font color=\"#229966\">Lineas</font>\n",
    "\n",
    "Ahora vamos tratar con el siguiente objeto geografico en terminos de complejidad. <font color=\"#229966\">**La línea**</font>\n",
    "\n"
   ]
  },
  {
   "cell_type": "code",
   "execution_count": 49,
   "id": "e2c69232-3bb3-4797-9022-60d0e55f1d7f",
   "metadata": {},
   "outputs": [
    {
     "data": {
      "text/html": [
       "<div>\n",
       "<style scoped>\n",
       "    .dataframe tbody tr th:only-of-type {\n",
       "        vertical-align: middle;\n",
       "    }\n",
       "\n",
       "    .dataframe tbody tr th {\n",
       "        vertical-align: top;\n",
       "    }\n",
       "\n",
       "    .dataframe thead th {\n",
       "        text-align: right;\n",
       "    }\n",
       "</style>\n",
       "<table border=\"1\" class=\"dataframe\">\n",
       "  <thead>\n",
       "    <tr style=\"text-align: right;\">\n",
       "      <th></th>\n",
       "      <th>id</th>\n",
       "      <th>Linea</th>\n",
       "      <th>geometry</th>\n",
       "    </tr>\n",
       "  </thead>\n",
       "  <tbody>\n",
       "    <tr>\n",
       "      <th>0</th>\n",
       "      <td>1</td>\n",
       "      <td>A</td>\n",
       "      <td>LINESTRING (-58.46976 -34.63058, -58.46356 -34...</td>\n",
       "    </tr>\n",
       "    <tr>\n",
       "      <th>1</th>\n",
       "      <td>2</td>\n",
       "      <td>B</td>\n",
       "      <td>LINESTRING (-58.48656 -34.57423, -58.46657 -34...</td>\n",
       "    </tr>\n",
       "    <tr>\n",
       "      <th>2</th>\n",
       "      <td>3</td>\n",
       "      <td>C</td>\n",
       "      <td>LINESTRING (-58.38141 -34.62733, -58.37965 -34...</td>\n",
       "    </tr>\n",
       "    <tr>\n",
       "      <th>3</th>\n",
       "      <td>4</td>\n",
       "      <td>D</td>\n",
       "      <td>LINESTRING (-58.46197 -34.55594, -58.44392 -34...</td>\n",
       "    </tr>\n",
       "    <tr>\n",
       "      <th>4</th>\n",
       "      <td>5</td>\n",
       "      <td>E</td>\n",
       "      <td>LINESTRING (-58.46197 -34.64346, -58.44178 -34...</td>\n",
       "    </tr>\n",
       "    <tr>\n",
       "      <th>5</th>\n",
       "      <td>6</td>\n",
       "      <td>H</td>\n",
       "      <td>LINESTRING (-58.41256 -34.64110, -58.39911 -34...</td>\n",
       "    </tr>\n",
       "  </tbody>\n",
       "</table>\n",
       "</div>"
      ],
      "text/plain": [
       "   id Linea                                           geometry\n",
       "0   1     A  LINESTRING (-58.46976 -34.63058, -58.46356 -34...\n",
       "1   2     B  LINESTRING (-58.48656 -34.57423, -58.46657 -34...\n",
       "2   3     C  LINESTRING (-58.38141 -34.62733, -58.37965 -34...\n",
       "3   4     D  LINESTRING (-58.46197 -34.55594, -58.44392 -34...\n",
       "4   5     E  LINESTRING (-58.46197 -34.64346, -58.44178 -34...\n",
       "5   6     H  LINESTRING (-58.41256 -34.64110, -58.39911 -34..."
      ]
     },
     "execution_count": 49,
     "metadata": {},
     "output_type": "execute_result"
    }
   ],
   "source": [
    "lineas = gpd.read_file(DATA_PATH / \"subte/lineas_de_subte.shp\")\n",
    "lineas"
   ]
  },
  {
   "cell_type": "code",
   "execution_count": 50,
   "id": "ac7fa5a2-d1d7-45e6-b2e4-131a0100d842",
   "metadata": {},
   "outputs": [
    {
     "data": {
      "image/svg+xml": [
       "<svg xmlns=\"http://www.w3.org/2000/svg\" xmlns:xlink=\"http://www.w3.org/1999/xlink\" width=\"100.0\" height=\"100.0\" viewBox=\"-58.47374365545048 -34.63456238111849 0.10762855545162608 0.029667094504858937\" preserveAspectRatio=\"xMinYMin meet\"><g transform=\"matrix(1,0,0,-1,0,-69.23945766773213)\"><polyline fill=\"none\" stroke=\"#66cc99\" stroke-width=\"0.0021525711090325216\" points=\"-58.46975741265597,-34.63057613832399 -58.463560584841396,-34.62925919932813 -58.45665587405691,-34.62647842251712 -58.44886648653291,-34.623404458390084 -58.44125462841491,-34.620622724980535 -58.43541338246241,-34.618279971870194 -58.42939585338169,-34.61491244555441 -58.42196257647138,-34.61183685485863 -58.41505969422278,-34.61080990934698 -58.406741019864604,-34.60963558266745 -58.39806777721138,-34.60948494699535 -58.370101342793355,-34.60888152940814\" opacity=\"0.8\" /></g></svg>"
      ],
      "text/plain": [
       "<LINESTRING (-58.47 -34.631, -58.464 -34.629, -58.457 -34.626, -58.449 -34.6...>"
      ]
     },
     "execution_count": 50,
     "metadata": {},
     "output_type": "execute_result"
    }
   ],
   "source": [
    "# seleccionamos la línea A\n",
    "\n",
    "lineas.loc[lineas.Linea == \"A\", \"geometry\"].iloc[0]"
   ]
  },
  {
   "cell_type": "code",
   "execution_count": 51,
   "id": "a97903af-d193-4dbd-9778-d690e488c512",
   "metadata": {},
   "outputs": [],
   "source": [
    "#le cambiamos los indices a la linea\n",
    "lineas.index = lineas.Linea"
   ]
  },
  {
   "cell_type": "code",
   "execution_count": 52,
   "id": "1215b178-7c05-45e6-9747-7c49574a661d",
   "metadata": {},
   "outputs": [
    {
     "data": {
      "text/html": [
       "<div>\n",
       "<style scoped>\n",
       "    .dataframe tbody tr th:only-of-type {\n",
       "        vertical-align: middle;\n",
       "    }\n",
       "\n",
       "    .dataframe tbody tr th {\n",
       "        vertical-align: top;\n",
       "    }\n",
       "\n",
       "    .dataframe thead th {\n",
       "        text-align: right;\n",
       "    }\n",
       "</style>\n",
       "<table border=\"1\" class=\"dataframe\">\n",
       "  <thead>\n",
       "    <tr style=\"text-align: right;\">\n",
       "      <th></th>\n",
       "      <th>geometry</th>\n",
       "    </tr>\n",
       "    <tr>\n",
       "      <th>Linea</th>\n",
       "      <th></th>\n",
       "    </tr>\n",
       "  </thead>\n",
       "  <tbody>\n",
       "    <tr>\n",
       "      <th>A</th>\n",
       "      <td>LINESTRING (-58.46976 -34.63058, -58.46356 -34...</td>\n",
       "    </tr>\n",
       "    <tr>\n",
       "      <th>B</th>\n",
       "      <td>LINESTRING (-58.48656 -34.57423, -58.46657 -34...</td>\n",
       "    </tr>\n",
       "    <tr>\n",
       "      <th>C</th>\n",
       "      <td>LINESTRING (-58.38141 -34.62733, -58.37965 -34...</td>\n",
       "    </tr>\n",
       "    <tr>\n",
       "      <th>D</th>\n",
       "      <td>LINESTRING (-58.46197 -34.55594, -58.44392 -34...</td>\n",
       "    </tr>\n",
       "    <tr>\n",
       "      <th>E</th>\n",
       "      <td>LINESTRING (-58.46197 -34.64346, -58.44178 -34...</td>\n",
       "    </tr>\n",
       "    <tr>\n",
       "      <th>H</th>\n",
       "      <td>LINESTRING (-58.41256 -34.64110, -58.39911 -34...</td>\n",
       "    </tr>\n",
       "  </tbody>\n",
       "</table>\n",
       "</div>"
      ],
      "text/plain": [
       "                                                geometry\n",
       "Linea                                                   \n",
       "A      LINESTRING (-58.46976 -34.63058, -58.46356 -34...\n",
       "B      LINESTRING (-58.48656 -34.57423, -58.46657 -34...\n",
       "C      LINESTRING (-58.38141 -34.62733, -58.37965 -34...\n",
       "D      LINESTRING (-58.46197 -34.55594, -58.44392 -34...\n",
       "E      LINESTRING (-58.46197 -34.64346, -58.44178 -34...\n",
       "H      LINESTRING (-58.41256 -34.64110, -58.39911 -34..."
      ]
     },
     "execution_count": 52,
     "metadata": {},
     "output_type": "execute_result"
    }
   ],
   "source": [
    "# eliminamos variables que no nos sirven\n",
    "lineas = lineas.drop([\"id\", \"Linea\"], axis=1)\n",
    "lineas"
   ]
  },
  {
   "cell_type": "markdown",
   "id": "0b794c75-2536-475d-9322-096c1abdf146",
   "metadata": {},
   "source": [
    "Pasamos la geometría a formato EPSG:3857. \n",
    "\n",
    "Este sistema de referencia es conocido como Web Mercator, y es el sistema de proyección que utilizan la mayoría de los mapas web, \n",
    "como los de Google Maps, OpenStreetMap, y Bing Maps.\n",
    "\n",
    "El **EPSG:3857** es una **proyección cilíndrica** que presenta las **coordenadas en metros**."
   ]
  },
  {
   "cell_type": "code",
   "execution_count": 53,
   "id": "3078bc50-7dc3-4180-a27f-b997bbc77b9a",
   "metadata": {},
   "outputs": [
    {
     "data": {
      "text/html": [
       "<div>\n",
       "<style scoped>\n",
       "    .dataframe tbody tr th:only-of-type {\n",
       "        vertical-align: middle;\n",
       "    }\n",
       "\n",
       "    .dataframe tbody tr th {\n",
       "        vertical-align: top;\n",
       "    }\n",
       "\n",
       "    .dataframe thead th {\n",
       "        text-align: right;\n",
       "    }\n",
       "</style>\n",
       "<table border=\"1\" class=\"dataframe\">\n",
       "  <thead>\n",
       "    <tr style=\"text-align: right;\">\n",
       "      <th></th>\n",
       "      <th>geometry</th>\n",
       "    </tr>\n",
       "    <tr>\n",
       "      <th>Linea</th>\n",
       "      <th></th>\n",
       "    </tr>\n",
       "  </thead>\n",
       "  <tbody>\n",
       "    <tr>\n",
       "      <th>A</th>\n",
       "      <td>LINESTRING (-6508823.622 -4113790.557, -650813...</td>\n",
       "    </tr>\n",
       "    <tr>\n",
       "      <th>B</th>\n",
       "      <td>LINESTRING (-6510694.213 -4106170.108, -650846...</td>\n",
       "    </tr>\n",
       "    <tr>\n",
       "      <th>C</th>\n",
       "      <td>LINESTRING (-6498989.025 -4113351.345, -649879...</td>\n",
       "    </tr>\n",
       "    <tr>\n",
       "      <th>D</th>\n",
       "      <td>LINESTRING (-6507956.485 -4103697.440, -650594...</td>\n",
       "    </tr>\n",
       "    <tr>\n",
       "      <th>E</th>\n",
       "      <td>LINESTRING (-6507956.399 -4115533.052, -650570...</td>\n",
       "    </tr>\n",
       "    <tr>\n",
       "      <th>H</th>\n",
       "      <td>LINESTRING (-6502456.807 -4115214.826, -650095...</td>\n",
       "    </tr>\n",
       "  </tbody>\n",
       "</table>\n",
       "</div>"
      ],
      "text/plain": [
       "                                                geometry\n",
       "Linea                                                   \n",
       "A      LINESTRING (-6508823.622 -4113790.557, -650813...\n",
       "B      LINESTRING (-6510694.213 -4106170.108, -650846...\n",
       "C      LINESTRING (-6498989.025 -4113351.345, -649879...\n",
       "D      LINESTRING (-6507956.485 -4103697.440, -650594...\n",
       "E      LINESTRING (-6507956.399 -4115533.052, -650570...\n",
       "H      LINESTRING (-6502456.807 -4115214.826, -650095..."
      ]
     },
     "execution_count": 53,
     "metadata": {},
     "output_type": "execute_result"
    }
   ],
   "source": [
    "lineas = lineas.to_crs(epsg=3857)\n",
    "lineas"
   ]
  },
  {
   "cell_type": "code",
   "execution_count": 54,
   "id": "5c0e02ed-8c07-4bc5-a90c-38229d05719b",
   "metadata": {},
   "outputs": [
    {
     "data": {
      "text/plain": [
       "geometry    LINESTRING (-6508823.622 -4113790.557, -650813...\n",
       "Name: A, dtype: geometry"
      ]
     },
     "execution_count": 54,
     "metadata": {},
     "output_type": "execute_result"
    }
   ],
   "source": [
    "lineas.loc[\"A\"]"
   ]
  },
  {
   "cell_type": "code",
   "execution_count": 55,
   "id": "e04e8394-6339-48c8-aa45-8a727b52b9af",
   "metadata": {},
   "outputs": [
    {
     "data": {
      "image/svg+xml": [
       "<svg xmlns=\"http://www.w3.org/2000/svg\" xmlns:xlink=\"http://www.w3.org/1999/xlink\" width=\"300\" height=\"300\" viewBox=\"-6509267.368501158 -4114234.3038817467 11981.155987691134 3822.1304585644975\" preserveAspectRatio=\"xMinYMin meet\"><g transform=\"matrix(1,0,0,-1,0,-8224646.477304929)\"><polyline fill=\"none\" stroke=\"#66cc99\" stroke-width=\"79.87437325127422\" points=\"-6508823.621983096,-4113790.5573636843 -6508133.794266243,-4113612.392686505 -6507365.16537764,-4113236.1991272965 -6506498.054724876,-4112820.35679758 -6505650.70655519,-4112444.0603800993 -6505000.462030159,-4112127.1564013264 -6504330.59375706,-4111671.647123174 -6503503.125156479,-4111255.6427341625 -6502734.699819559,-4111116.741519291 -6501808.669225932,-4110957.908126332 -6500843.168270248,-4110937.534081866 -6497729.95903153,-4110855.9199412446\" opacity=\"0.8\" /></g></svg>"
      ],
      "text/plain": [
       "<LINESTRING (-6508823.622 -4113790.557, -6508133.794 -4113612.393, -6507365....>"
      ]
     },
     "execution_count": 55,
     "metadata": {},
     "output_type": "execute_result"
    }
   ],
   "source": [
    "#ahora veamos que es más sencillo de trabajar, sin iloc ni listas de Trues y False\n",
    "lineas.loc[\"A\",\"geometry\"]"
   ]
  },
  {
   "cell_type": "code",
   "execution_count": 56,
   "id": "05cfbfb3-0e87-48a6-822e-b5368713793f",
   "metadata": {},
   "outputs": [
    {
     "data": {
      "image/png": "[encoded data removed]",
      "text/plain": [
       "<Figure size 640x480 with 1 Axes>"
      ]
     },
     "metadata": {},
     "output_type": "display_data"
    }
   ],
   "source": [
    "# Hagámoslo con dos líneas de subte\n",
    "\n",
    "import geopandas as gpd\n",
    "import matplotlib.pyplot as plt\n",
    "\n",
    "# Supongamos que 'lineas' es tu GeoDataFrame que contiene las líneas de subte\n",
    "\n",
    "# Seleccionar las geometrías de las líneas A y B\n",
    "linea_A = lineas.loc[lineas.index == \"A\"]\n",
    "linea_B = lineas.loc[lineas.index == \"B\"]\n",
    "\n",
    "# Crear una figura y un eje\n",
    "fig, ax = plt.subplots()\n",
    "\n",
    "# Graficar la línea A\n",
    "linea_A.plot(ax=ax, color=\"blue\", label=\"Línea A\")\n",
    "\n",
    "# Graficar la línea B\n",
    "linea_B.plot(ax=ax, color=\"red\", label=\"Línea B\")\n",
    "\n",
    "# Agregar una leyenda\n",
    "ax.legend()\n",
    "\n",
    "# Mostrar el gráfico\n",
    "plt.show()"
   ]
  },
  {
   "cell_type": "markdown",
   "id": "9ebd9aef-8043-433a-a265-59ac37809851",
   "metadata": {},
   "source": [
    "# <font color=\"#229966\">Ejercicio 3</font>\n",
    "\n",
    "a) Seleccionar las geometrías de todas las líneas de subte y guardarlas con su nombre.\n",
    "\n",
    "b) Cambiando los colores graficar todos los recorridos.\n"
   ]
  },
  {
   "cell_type": "code",
   "execution_count": 57,
   "id": "ff7be6e0-a586-450c-abef-5954ef169fb6",
   "metadata": {},
   "outputs": [
    {
     "data": {
      "text/plain": [
       "Linea\n",
       "A    11717.038291\n",
       "B    14218.739778\n",
       "C     5218.620114\n",
       "D    12852.386494\n",
       "E    11545.716492\n",
       "H     8468.993329\n",
       "dtype: float64"
      ]
     },
     "execution_count": 57,
     "metadata": {},
     "output_type": "execute_result"
    }
   ],
   "source": [
    "# Podemos hallar la longitud de cada linea de subte\n",
    "lineas.geometry.length"
   ]
  },
  {
   "cell_type": "code",
   "execution_count": 58,
   "id": "68d8f15e-6616-4fe5-bbe8-05773370b863",
   "metadata": {},
   "outputs": [
    {
     "data": {
      "text/plain": [
       "shapely.geometry.linestring.LineString"
      ]
     },
     "execution_count": 58,
     "metadata": {},
     "output_type": "execute_result"
    }
   ],
   "source": [
    "# vemos que el tipo para linea de shapely es LineString\n",
    "H = lineas.loc[\"H\", \"geometry\"]\n",
    "type(H)"
   ]
  },
  {
   "cell_type": "code",
   "execution_count": 59,
   "id": "040758d6-3a2b-4bab-9dc8-f0ea6eb9d38a",
   "metadata": {},
   "outputs": [
    {
     "data": {
      "text/plain": [
       "8468.993329264278"
      ]
     },
     "execution_count": 59,
     "metadata": {},
     "output_type": "execute_result"
    }
   ],
   "source": [
    "#tiene sus propios metodos especificos a la linea\n",
    "H.length"
   ]
  },
  {
   "cell_type": "code",
   "execution_count": 60,
   "id": "1ea8a5e3-6342-46ef-9f00-3d0a05c66111",
   "metadata": {},
   "outputs": [
    {
     "data": {
      "text/plain": [
       "4"
      ]
     },
     "execution_count": 60,
     "metadata": {},
     "output_type": "execute_result"
    }
   ],
   "source": [
    "#y tiene varios pares de coordenadas\n",
    "len(H.coords)"
   ]
  },
  {
   "cell_type": "code",
   "execution_count": 61,
   "id": "888c8ef5-ff8c-48a8-8fac-118b07ea5a9d",
   "metadata": {},
   "outputs": [
    {
     "data": {
      "text/plain": [
       "[(-6502456.806748704, -4115214.8261582623),\n",
       " (-6500959.194922461, -4114441.7362974873),\n",
       " (-6501710.225146143, -4110819.2934147594),\n",
       " (-6500746.616416475, -4107889.559358372)]"
      ]
     },
     "execution_count": 61,
     "metadata": {},
     "output_type": "execute_result"
    }
   ],
   "source": [
    "list(H.coords)"
   ]
  },
  {
   "cell_type": "code",
   "execution_count": 62,
   "id": "fc102d30-70f7-416b-b9b9-54cbc4356e83",
   "metadata": {},
   "outputs": [
    {
     "data": {
      "text/plain": [
       "((-6502456.806748704, -4115214.8261582623),\n",
       " (-6500959.194922461, -4114441.7362974873))"
      ]
     },
     "execution_count": 62,
     "metadata": {},
     "output_type": "execute_result"
    }
   ],
   "source": [
    "#una linea no es más que una secuencia de puntos\n",
    "H.coords[0],H.coords[1]"
   ]
  },
  {
   "cell_type": "code",
   "execution_count": 63,
   "id": "dd13e4d3-c163-42be-af97-cb433651c44d",
   "metadata": {},
   "outputs": [
    {
     "name": "stdout",
     "output_type": "stream",
     "text": [
      "POINT (-6501370.290049282 -4111874.8379560118)\n"
     ]
    }
   ],
   "source": [
    "#podemos obtener el centroide \n",
    "#shapely se rompe para este proceso si no es 1.6.4\n",
    "print(H.centroid)"
   ]
  },
  {
   "cell_type": "code",
   "execution_count": 64,
   "id": "78d96d67-2ef0-492d-8092-a9bf03fa972f",
   "metadata": {},
   "outputs": [],
   "source": [
    "#convertimos todo a 3857\n",
    "estaciones = estaciones.to_crs(epsg=3857)\n"
   ]
  },
  {
   "cell_type": "code",
   "execution_count": 65,
   "id": "e092e79e-0987-4ffe-bd79-3740da5cd9e3",
   "metadata": {},
   "outputs": [
    {
     "data": {
      "text/html": [
       "<div>\n",
       "<style scoped>\n",
       "    .dataframe tbody tr th:only-of-type {\n",
       "        vertical-align: middle;\n",
       "    }\n",
       "\n",
       "    .dataframe tbody tr th {\n",
       "        vertical-align: top;\n",
       "    }\n",
       "\n",
       "    .dataframe thead th {\n",
       "        text-align: right;\n",
       "    }\n",
       "</style>\n",
       "<table border=\"1\" class=\"dataframe\">\n",
       "  <thead>\n",
       "    <tr style=\"text-align: right;\">\n",
       "      <th></th>\n",
       "      <th>ESTACION</th>\n",
       "      <th>geometry</th>\n",
       "    </tr>\n",
       "  </thead>\n",
       "  <tbody>\n",
       "    <tr>\n",
       "      <th>0</th>\n",
       "      <td>CASEROS</td>\n",
       "      <td>POINT (-6500938.882 -4114490.565)</td>\n",
       "    </tr>\n",
       "    <tr>\n",
       "      <th>1</th>\n",
       "      <td>INCLAN</td>\n",
       "      <td>POINT (-6501166.193 -4113628.148)</td>\n",
       "    </tr>\n",
       "    <tr>\n",
       "      <th>2</th>\n",
       "      <td>HUMBERTO 1°</td>\n",
       "      <td>POINT (-6501316.827 -4112778.132)</td>\n",
       "    </tr>\n",
       "    <tr>\n",
       "      <th>3</th>\n",
       "      <td>VENEZUELA</td>\n",
       "      <td>POINT (-6501584.995 -4111716.244)</td>\n",
       "    </tr>\n",
       "    <tr>\n",
       "      <th>4</th>\n",
       "      <td>ONCE - 30 DE DICIEMBRE</td>\n",
       "      <td>POINT (-6501730.229 -4110863.185)</td>\n",
       "    </tr>\n",
       "    <tr>\n",
       "      <th>76</th>\n",
       "      <td>CORRIENTES</td>\n",
       "      <td>POINT (-6501664.990 -4110261.997)</td>\n",
       "    </tr>\n",
       "    <tr>\n",
       "      <th>77</th>\n",
       "      <td>PARQUE PATRICIOS</td>\n",
       "      <td>POINT (-6501703.339 -4114849.892)</td>\n",
       "    </tr>\n",
       "    <tr>\n",
       "      <th>78</th>\n",
       "      <td>HOSPITALES</td>\n",
       "      <td>POINT (-6502436.971 -4115237.259)</td>\n",
       "    </tr>\n",
       "    <tr>\n",
       "      <th>83</th>\n",
       "      <td>CÓRDOBA</td>\n",
       "      <td>POINT (-6501472.537 -4109445.808)</td>\n",
       "    </tr>\n",
       "    <tr>\n",
       "      <th>84</th>\n",
       "      <td>LAS HERAS</td>\n",
       "      <td>POINT (-6500748.302 -4107959.183)</td>\n",
       "    </tr>\n",
       "    <tr>\n",
       "      <th>85</th>\n",
       "      <td>SANTA FE - CARLOS JAUREGUI</td>\n",
       "      <td>POINT (-6501322.777 -4108914.382)</td>\n",
       "    </tr>\n",
       "  </tbody>\n",
       "</table>\n",
       "</div>"
      ],
      "text/plain": [
       "                      ESTACION                           geometry\n",
       "0                      CASEROS  POINT (-6500938.882 -4114490.565)\n",
       "1                       INCLAN  POINT (-6501166.193 -4113628.148)\n",
       "2                  HUMBERTO 1°  POINT (-6501316.827 -4112778.132)\n",
       "3                    VENEZUELA  POINT (-6501584.995 -4111716.244)\n",
       "4       ONCE - 30 DE DICIEMBRE  POINT (-6501730.229 -4110863.185)\n",
       "76                  CORRIENTES  POINT (-6501664.990 -4110261.997)\n",
       "77            PARQUE PATRICIOS  POINT (-6501703.339 -4114849.892)\n",
       "78                  HOSPITALES  POINT (-6502436.971 -4115237.259)\n",
       "83                     CÓRDOBA  POINT (-6501472.537 -4109445.808)\n",
       "84                   LAS HERAS  POINT (-6500748.302 -4107959.183)\n",
       "85  SANTA FE - CARLOS JAUREGUI  POINT (-6501322.777 -4108914.382)"
      ]
     },
     "execution_count": 65,
     "metadata": {},
     "output_type": "execute_result"
    }
   ],
   "source": [
    "estaciones_H = estaciones.loc[estaciones.LINEA == \"H\", [\"ESTACION\", \"geometry\"]]\n",
    "estaciones_H"
   ]
  },
  {
   "attachments": {
    "a23bbd19-5a4f-4968-873d-b859797719a7.png": {
     "image/png": "[encoded data removed]"
    }
   },
   "cell_type": "markdown",
   "id": "096a7d38-6f4f-4fd9-8d3e-47ee5bab604e",
   "metadata": {},
   "source": [
    "# <font color=\"#226699\">LRS Lineal Referencing System</font>\n",
    "\n",
    "Este proceso es uno de los más utilizados en análisis espacial. Fundamentalmente proyecta un punto sobre una línea siguiendo la distancia más corta, y nos indica a que distancia lineal sobre esa línea se encuentra.\n",
    "\n",
    "![imagen.png](attachment:a23bbd19-5a4f-4968-873d-b859797719a7.png)"
   ]
  },
  {
   "cell_type": "code",
   "execution_count": 66,
   "id": "dec66d41-a22c-4d5b-97a2-6356a71c8008",
   "metadata": {},
   "outputs": [],
   "source": [
    "#importamos el objeto LineString\n",
    "from shapely.geometry import LineString"
   ]
  },
  {
   "cell_type": "code",
   "execution_count": 67,
   "id": "545e36ad-2e52-4f20-9898-298c73ccde5b",
   "metadata": {},
   "outputs": [
    {
     "data": {
      "image/svg+xml": [
       "<svg xmlns=\"http://www.w3.org/2000/svg\" xmlns:xlink=\"http://www.w3.org/1999/xlink\" width=\"100.0\" height=\"100.0\" viewBox=\"-0.04 -0.04 1.08 1.08\" preserveAspectRatio=\"xMinYMin meet\"><g transform=\"matrix(1,0,0,-1,0,1.0)\"><polyline fill=\"none\" stroke=\"#66cc99\" stroke-width=\"0.0216\" points=\"0.0,0.0 1.0,1.0\" opacity=\"0.8\" /></g></svg>"
      ],
      "text/plain": [
       "<LINESTRING (0 0, 1 1)>"
      ]
     },
     "execution_count": 67,
     "metadata": {},
     "output_type": "execute_result"
    }
   ],
   "source": [
    "#creamos una linea apartir de dos puntos\n",
    "lin = LineString([Point(0, 0), Point(1, 1)])\n",
    "# la mostramos\n",
    "lin"
   ]
  },
  {
   "cell_type": "markdown",
   "id": "f53ba75a-61a4-4180-a588-17907db3992c",
   "metadata": {},
   "source": [
    "# Proyecciones\n",
    "\n",
    "Proyectamos el punto con coordenadas 0.5,0.5 El método project() se utiliza para encontrar la distancia a lo largo de la línea (LineString)\n",
    "desde el comienzo de la línea hasta el punto dado.\n",
    "\n",
    "Es decir devuelve la distancia a lo largo de la línea desde el inicio hasta el punto más próximo al dado."
   ]
  },
  {
   "cell_type": "code",
   "execution_count": 68,
   "id": "90338452-c34e-439f-86e2-40eb50e48b58",
   "metadata": {},
   "outputs": [
    {
     "data": {
      "text/plain": [
       "0.7071067811865476"
      ]
     },
     "execution_count": 68,
     "metadata": {},
     "output_type": "execute_result"
    }
   ],
   "source": [
    "lin.project(Point(0.5, 0.5))"
   ]
  },
  {
   "cell_type": "code",
   "execution_count": 69,
   "id": "ee718d46-d69b-4d1f-a95f-82a498967c9c",
   "metadata": {},
   "outputs": [
    {
     "data": {
      "text/plain": [
       "0.5"
      ]
     },
     "execution_count": 69,
     "metadata": {},
     "output_type": "execute_result"
    }
   ],
   "source": [
    "# Si normalizamos la proyección, nos devuelve la fracción de la longitud total de la línea en lugar de la distancia absoluta.\n",
    "\n",
    "# desde el punto de inicio de la línea hasta la proyección del punto dado.\n",
    "\n",
    "lin.project(Point(0.5, 0.5), normalized=True)"
   ]
  },
  {
   "cell_type": "code",
   "execution_count": 70,
   "id": "658f9393-d11e-43e8-8fdc-8495a895dc4d",
   "metadata": {},
   "outputs": [
    {
     "name": "stdout",
     "output_type": "stream",
     "text": [
      "POINT (0.499924494298889 0.499924494298889)\n"
     ]
    }
   ],
   "source": [
    "#interpolamos esa distancia para ver las coordenadas del punto\n",
    "print(lin.interpolate(0.707))"
   ]
  },
  {
   "cell_type": "markdown",
   "id": "49c78d28-8ffb-4de7-9896-aa5c56db8026",
   "metadata": {},
   "source": [
    "## <font color=\"#992233\">¿Qué pasó?</font>"
   ]
  },
  {
   "cell_type": "code",
   "execution_count": 71,
   "id": "e7bada95-ffd4-498a-97f0-e321d9856ee5",
   "metadata": {},
   "outputs": [
    {
     "data": {
      "image/png": "[encoded data removed]",
      "text/plain": [
       "<Figure size 640x480 with 1 Axes>"
      ]
     },
     "metadata": {},
     "output_type": "display_data"
    }
   ],
   "source": [
    "import matplotlib.pyplot as plt\n",
    "from shapely.geometry import LineString, Point\n",
    "\n",
    "# Creamos una línea y tres puntos\n",
    "line = LineString([Point(0, 0), Point(1, 1)])\n",
    "point1 = Point(0.15, 0.15)\n",
    "point2 = Point(0.1, 0.1)\n",
    "point3 = Point(0.75, 0.75)\n",
    "\n",
    "# Proyectamos los puntos sobre la línea\n",
    "projected_distance1 = line.project(point1)\n",
    "projected_point1 = line.interpolate(projected_distance1)\n",
    "\n",
    "projected_distance2 = line.project(point2)\n",
    "projected_point2 = line.interpolate(projected_distance2)\n",
    "\n",
    "projected_distance3 = line.project(point3)\n",
    "projected_point3 = line.interpolate(projected_distance3)\n",
    "\n",
    "# Graficar la línea y los puntos proyectados\n",
    "fig, ax = plt.subplots()\n",
    "\n",
    "# Graficar la línea\n",
    "x, y = line.xy\n",
    "ax.plot(x, y, label=\"Línea\", color=\"darkblue\")\n",
    "\n",
    "# Graficar los puntos originales\n",
    "ax.plot(point1.x, point1.y, \"o\", label=\"Punto Original1\", color=\"darkred\")\n",
    "ax.plot(point2.x, point2.y, \"o\", label=\"Punto Original2\", color=\"orange\")\n",
    "ax.plot(point3.x, point3.y, \"o\", label=\"Punto Original3\", color=\"violet\")\n",
    "\n",
    "# Graficar los puntos proyectados\n",
    "ax.plot(\n",
    "    projected_point1.x,\n",
    "    projected_point1.y,\n",
    "    \"x\",\n",
    "    label=\"Punto Proyectado1\",\n",
    "    color=\"darkgreen\",\n",
    ")\n",
    "ax.plot(\n",
    "    projected_point2.x,\n",
    "    projected_point2.y,\n",
    "    \"x\",\n",
    "    label=\"Punto Proyectado1\",\n",
    "    color=\"darkcyan\",\n",
    ")\n",
    "ax.plot(\n",
    "    projected_point3.x, projected_point3.y, \"x\", label=\"Punto Proyectado1\", color=\"blue\"\n",
    ")\n",
    "\n",
    "# Ajustar la visualización\n",
    "ax.set_aspect(\"equal\")\n",
    "plt.xlabel(\"X\")\n",
    "plt.ylabel(\"Y\")\n",
    "plt.title(\"Proyección de un Punto sobre una Línea\")\n",
    "plt.legend()\n",
    "plt.grid(True)\n",
    "plt.show()\n"
   ]
  },
  {
   "cell_type": "markdown",
   "id": "b206b0d8-15cb-43c9-8969-269e4a43fff0",
   "metadata": {},
   "source": [
    "# <font color=\"#229966\">Ejercicio 4</font>\n",
    "\n",
    "a) Definir una línea que conecte los puntos (1,2) y (3,0)\n",
    "\n",
    "b) Para los puntos $P_1=(1.2,1.8)$, $P_2= (1.3,1.7)$ y $P_3=  (2.5,0.5)$, hallar sus proyecciones\n",
    "\n",
    "c) Graficar los tres puntos proyectados"
   ]
  },
  {
   "cell_type": "code",
   "execution_count": null,
   "id": "a48e169d-ba8d-4e43-adb9-df1a1f98c957",
   "metadata": {},
   "outputs": [],
   "source": []
  },
  {
   "cell_type": "markdown",
   "id": "a29decae-02c2-48a8-b897-07f2f95fbeda",
   "metadata": {},
   "source": [
    "# <font color=\"226699\">Las estaciones de subte son más próximas entre sí en el centro?</font>\n",
    "\n",
    "El análisis que queremos realizar es veríficar si las estaciones de subte se encuentran más separadas entre sí en la periferia de la red que en el centro. \n",
    "\n",
    "También queremos poder ordenar nuestras estaciones en un gráfico de barras de acuerdo al orden que siguen en la línea. Para eso nos sirve el LRS\n",
    "\n",
    "Necesitamos calcular la distancia de cada estación con la siguiente. Por eso necesitamos sabe el orden de esas estaciones."
   ]
  },
  {
   "cell_type": "code",
   "execution_count": 72,
   "id": "85d514aa-1e0f-414d-b2c6-402e845ac2a6",
   "metadata": {},
   "outputs": [
    {
     "name": "stdout",
     "output_type": "stream",
     "text": [
      "                      ESTACION                           geometry  \\\n",
      "0                   HOSPITALES  POINT (-6502436.971 -4115237.259)   \n",
      "1             PARQUE PATRICIOS  POINT (-6501703.339 -4114849.892)   \n",
      "2                      CASEROS  POINT (-6500938.882 -4114490.565)   \n",
      "3                       INCLAN  POINT (-6501166.193 -4113628.148)   \n",
      "4                  HUMBERTO 1°  POINT (-6501316.827 -4112778.132)   \n",
      "5                    VENEZUELA  POINT (-6501584.995 -4111716.244)   \n",
      "6       ONCE - 30 DE DICIEMBRE  POINT (-6501730.229 -4110863.185)   \n",
      "7                   CORRIENTES  POINT (-6501664.990 -4110261.997)   \n",
      "8                      CÓRDOBA  POINT (-6501472.537 -4109445.808)   \n",
      "9   SANTA FE - CARLOS JAUREGUI  POINT (-6501322.777 -4108914.382)   \n",
      "10                   LAS HERAS  POINT (-6500748.302 -4107959.183)   \n",
      "\n",
      "    distancia_a_inicial  \n",
      "0              0.000000  \n",
      "1            829.619463  \n",
      "2           1673.864916  \n",
      "3           2050.394280  \n",
      "4           2702.226528  \n",
      "5           3622.624853  \n",
      "6           4430.802660  \n",
      "7           5034.797967  \n",
      "8           5871.204673  \n",
      "9           6420.295998  \n",
      "10          7471.411583  \n"
     ]
    }
   ],
   "source": [
    "from shapely.geometry import Point, LineString\n",
    "import pandas as pd\n",
    "\n",
    "# Señalamos la estación inicial (HOSPITALES)\n",
    "estacion_inicial = estaciones_H[estaciones_H[\"ESTACION\"] == \"HOSPITALES\"][\n",
    "    \"geometry\"\n",
    "].iloc[0]\n",
    "\n",
    "# Calcular la distancia de cada estación a la estación inicial\n",
    "estaciones_H[\"distancia_a_inicial\"] = estaciones_H[\"geometry\"].apply(\n",
    "    lambda point: estacion_inicial.distance(point)\n",
    ")\n",
    "\n",
    "# Ordenar DataFrame por la distancia a la estación inicial\n",
    "estaciones_H = estaciones_H.sort_values(by=\"distancia_a_inicial\")\n",
    "\n",
    "# Reiniciar los índices del DataFrame\n",
    "estaciones_H = estaciones_H.reset_index(drop=True)\n",
    "\n",
    "# Mostrar el DataFrame con el orden de las estaciones\n",
    "print(estaciones_H)\n"
   ]
  },
  {
   "cell_type": "code",
   "execution_count": 73,
   "id": "61923bc2-1d58-4283-ab75-5f85409e2a3f",
   "metadata": {},
   "outputs": [
    {
     "data": {
      "text/html": [
       "<div>\n",
       "<style scoped>\n",
       "    .dataframe tbody tr th:only-of-type {\n",
       "        vertical-align: middle;\n",
       "    }\n",
       "\n",
       "    .dataframe tbody tr th {\n",
       "        vertical-align: top;\n",
       "    }\n",
       "\n",
       "    .dataframe thead th {\n",
       "        text-align: right;\n",
       "    }\n",
       "</style>\n",
       "<table border=\"1\" class=\"dataframe\">\n",
       "  <thead>\n",
       "    <tr style=\"text-align: right;\">\n",
       "      <th></th>\n",
       "      <th>ESTACION</th>\n",
       "      <th>geometry</th>\n",
       "      <th>distancia_a_inicial</th>\n",
       "      <th>Siguiente</th>\n",
       "    </tr>\n",
       "  </thead>\n",
       "  <tbody>\n",
       "    <tr>\n",
       "      <th>0</th>\n",
       "      <td>HOSPITALES</td>\n",
       "      <td>POINT (-6502436.971 -4115237.259)</td>\n",
       "      <td>0.000000</td>\n",
       "      <td>PARQUE PATRICIOS</td>\n",
       "    </tr>\n",
       "    <tr>\n",
       "      <th>1</th>\n",
       "      <td>PARQUE PATRICIOS</td>\n",
       "      <td>POINT (-6501703.339 -4114849.892)</td>\n",
       "      <td>829.619463</td>\n",
       "      <td>CASEROS</td>\n",
       "    </tr>\n",
       "    <tr>\n",
       "      <th>2</th>\n",
       "      <td>CASEROS</td>\n",
       "      <td>POINT (-6500938.882 -4114490.565)</td>\n",
       "      <td>1673.864916</td>\n",
       "      <td>INCLAN</td>\n",
       "    </tr>\n",
       "    <tr>\n",
       "      <th>3</th>\n",
       "      <td>INCLAN</td>\n",
       "      <td>POINT (-6501166.193 -4113628.148)</td>\n",
       "      <td>2050.394280</td>\n",
       "      <td>HUMBERTO 1°</td>\n",
       "    </tr>\n",
       "    <tr>\n",
       "      <th>4</th>\n",
       "      <td>HUMBERTO 1°</td>\n",
       "      <td>POINT (-6501316.827 -4112778.132)</td>\n",
       "      <td>2702.226528</td>\n",
       "      <td>VENEZUELA</td>\n",
       "    </tr>\n",
       "    <tr>\n",
       "      <th>5</th>\n",
       "      <td>VENEZUELA</td>\n",
       "      <td>POINT (-6501584.995 -4111716.244)</td>\n",
       "      <td>3622.624853</td>\n",
       "      <td>ONCE - 30 DE DICIEMBRE</td>\n",
       "    </tr>\n",
       "    <tr>\n",
       "      <th>6</th>\n",
       "      <td>ONCE - 30 DE DICIEMBRE</td>\n",
       "      <td>POINT (-6501730.229 -4110863.185)</td>\n",
       "      <td>4430.802660</td>\n",
       "      <td>CORRIENTES</td>\n",
       "    </tr>\n",
       "    <tr>\n",
       "      <th>7</th>\n",
       "      <td>CORRIENTES</td>\n",
       "      <td>POINT (-6501664.990 -4110261.997)</td>\n",
       "      <td>5034.797967</td>\n",
       "      <td>CÓRDOBA</td>\n",
       "    </tr>\n",
       "    <tr>\n",
       "      <th>8</th>\n",
       "      <td>CÓRDOBA</td>\n",
       "      <td>POINT (-6501472.537 -4109445.808)</td>\n",
       "      <td>5871.204673</td>\n",
       "      <td>SANTA FE - CARLOS JAUREGUI</td>\n",
       "    </tr>\n",
       "    <tr>\n",
       "      <th>9</th>\n",
       "      <td>SANTA FE - CARLOS JAUREGUI</td>\n",
       "      <td>POINT (-6501322.777 -4108914.382)</td>\n",
       "      <td>6420.295998</td>\n",
       "      <td>LAS HERAS</td>\n",
       "    </tr>\n",
       "    <tr>\n",
       "      <th>10</th>\n",
       "      <td>LAS HERAS</td>\n",
       "      <td>POINT (-6500748.302 -4107959.183)</td>\n",
       "      <td>7471.411583</td>\n",
       "      <td>None</td>\n",
       "    </tr>\n",
       "  </tbody>\n",
       "</table>\n",
       "</div>"
      ],
      "text/plain": [
       "                      ESTACION                           geometry  \\\n",
       "0                   HOSPITALES  POINT (-6502436.971 -4115237.259)   \n",
       "1             PARQUE PATRICIOS  POINT (-6501703.339 -4114849.892)   \n",
       "2                      CASEROS  POINT (-6500938.882 -4114490.565)   \n",
       "3                       INCLAN  POINT (-6501166.193 -4113628.148)   \n",
       "4                  HUMBERTO 1°  POINT (-6501316.827 -4112778.132)   \n",
       "5                    VENEZUELA  POINT (-6501584.995 -4111716.244)   \n",
       "6       ONCE - 30 DE DICIEMBRE  POINT (-6501730.229 -4110863.185)   \n",
       "7                   CORRIENTES  POINT (-6501664.990 -4110261.997)   \n",
       "8                      CÓRDOBA  POINT (-6501472.537 -4109445.808)   \n",
       "9   SANTA FE - CARLOS JAUREGUI  POINT (-6501322.777 -4108914.382)   \n",
       "10                   LAS HERAS  POINT (-6500748.302 -4107959.183)   \n",
       "\n",
       "    distancia_a_inicial                   Siguiente  \n",
       "0              0.000000            PARQUE PATRICIOS  \n",
       "1            829.619463                     CASEROS  \n",
       "2           1673.864916                      INCLAN  \n",
       "3           2050.394280                 HUMBERTO 1°  \n",
       "4           2702.226528                   VENEZUELA  \n",
       "5           3622.624853      ONCE - 30 DE DICIEMBRE  \n",
       "6           4430.802660                  CORRIENTES  \n",
       "7           5034.797967                     CÓRDOBA  \n",
       "8           5871.204673  SANTA FE - CARLOS JAUREGUI  \n",
       "9           6420.295998                   LAS HERAS  \n",
       "10          7471.411583                        None  "
      ]
     },
     "execution_count": 73,
     "metadata": {},
     "output_type": "execute_result"
    }
   ],
   "source": [
    "# Ahora que estan ordenadas, cuál es la siguiente estacion?\n",
    "estaciones_H[\"Siguiente\"] = estaciones_H.ESTACION.shift(-1)\n",
    "estaciones_H"
   ]
  },
  {
   "cell_type": "code",
   "execution_count": 74,
   "id": "4f5664fe-12be-44fb-aba9-0a2af8fa1e52",
   "metadata": {},
   "outputs": [
    {
     "data": {
      "text/plain": [
       "[0, 1, 2, 3, 4, 5, 6, 7, 8, 9]"
      ]
     },
     "execution_count": 74,
     "metadata": {},
     "output_type": "execute_result"
    }
   ],
   "source": [
    "# calculamos la distancia de cada estacion con respecto a su siguiente\n",
    "# sabemos que tenemos que repetir esto por cada estacion menos 1 (la ultima tiene distancia a la nada)\n",
    "list(range(len(estaciones_H) - 1))"
   ]
  },
  {
   "cell_type": "code",
   "execution_count": 75,
   "id": "a946cbb7-b5e8-4d02-a7a6-f680df654164",
   "metadata": {},
   "outputs": [
    {
     "name": "stdout",
     "output_type": "stream",
     "text": [
      "HOSPITALES\n",
      "PARQUE PATRICIOS\n",
      "CASEROS\n",
      "INCLAN\n",
      "HUMBERTO 1°\n",
      "VENEZUELA\n",
      "ONCE - 30 DE DICIEMBRE\n",
      "CORRIENTES\n",
      "CÓRDOBA\n",
      "SANTA FE - CARLOS JAUREGUI\n",
      "LAS HERAS\n"
     ]
    }
   ],
   "source": [
    "#podemos ver las estaciones recorriendo este rango\n",
    "for i in range(len(estaciones_H)):\n",
    "    print(estaciones_H.ESTACION.iloc[i])\n",
    "    "
   ]
  },
  {
   "cell_type": "code",
   "execution_count": 76,
   "id": "f22e47b9-c109-4022-80cd-a0f6b19bd0e8",
   "metadata": {},
   "outputs": [],
   "source": [
    "# no siempre tenemos que guardar todo en el data frame, en especial variables que van a ser insumo\n",
    "estacion_siguiente = estaciones_H.geometry.shift(-1)\n",
    "# usamos esto para calcular la distancia a la estación siguiente\n",
    "distancias = [\n",
    "    estaciones_H.geometry.iloc[i].distance(estacion_siguiente.iloc[i])\n",
    "    for i in range(len(estaciones_H) - 1)\n",
    "]"
   ]
  },
  {
   "cell_type": "code",
   "execution_count": 77,
   "id": "c358cd23-5b4b-4ccf-aa25-8913b5675c01",
   "metadata": {},
   "outputs": [
    {
     "data": {
      "text/html": [
       "<div>\n",
       "<style scoped>\n",
       "    .dataframe tbody tr th:only-of-type {\n",
       "        vertical-align: middle;\n",
       "    }\n",
       "\n",
       "    .dataframe tbody tr th {\n",
       "        vertical-align: top;\n",
       "    }\n",
       "\n",
       "    .dataframe thead th {\n",
       "        text-align: right;\n",
       "    }\n",
       "</style>\n",
       "<table border=\"1\" class=\"dataframe\">\n",
       "  <thead>\n",
       "    <tr style=\"text-align: right;\">\n",
       "      <th></th>\n",
       "      <th>ESTACION</th>\n",
       "      <th>geometry</th>\n",
       "      <th>distancia_a_inicial</th>\n",
       "      <th>Siguiente</th>\n",
       "      <th>distancia_siguiente</th>\n",
       "    </tr>\n",
       "  </thead>\n",
       "  <tbody>\n",
       "    <tr>\n",
       "      <th>0</th>\n",
       "      <td>HOSPITALES</td>\n",
       "      <td>POINT (-6502436.971 -4115237.259)</td>\n",
       "      <td>0.000000</td>\n",
       "      <td>PARQUE PATRICIOS</td>\n",
       "      <td>829.619463</td>\n",
       "    </tr>\n",
       "    <tr>\n",
       "      <th>1</th>\n",
       "      <td>PARQUE PATRICIOS</td>\n",
       "      <td>POINT (-6501703.339 -4114849.892)</td>\n",
       "      <td>829.619463</td>\n",
       "      <td>CASEROS</td>\n",
       "      <td>844.696193</td>\n",
       "    </tr>\n",
       "    <tr>\n",
       "      <th>2</th>\n",
       "      <td>CASEROS</td>\n",
       "      <td>POINT (-6500938.882 -4114490.565)</td>\n",
       "      <td>1673.864916</td>\n",
       "      <td>INCLAN</td>\n",
       "      <td>891.871064</td>\n",
       "    </tr>\n",
       "    <tr>\n",
       "      <th>3</th>\n",
       "      <td>INCLAN</td>\n",
       "      <td>POINT (-6501166.193 -4113628.148)</td>\n",
       "      <td>2050.394280</td>\n",
       "      <td>HUMBERTO 1°</td>\n",
       "      <td>863.259957</td>\n",
       "    </tr>\n",
       "    <tr>\n",
       "      <th>4</th>\n",
       "      <td>HUMBERTO 1°</td>\n",
       "      <td>POINT (-6501316.827 -4112778.132)</td>\n",
       "      <td>2702.226528</td>\n",
       "      <td>VENEZUELA</td>\n",
       "      <td>1095.225718</td>\n",
       "    </tr>\n",
       "    <tr>\n",
       "      <th>5</th>\n",
       "      <td>VENEZUELA</td>\n",
       "      <td>POINT (-6501584.995 -4111716.244)</td>\n",
       "      <td>3622.624853</td>\n",
       "      <td>ONCE - 30 DE DICIEMBRE</td>\n",
       "      <td>865.334388</td>\n",
       "    </tr>\n",
       "    <tr>\n",
       "      <th>6</th>\n",
       "      <td>ONCE - 30 DE DICIEMBRE</td>\n",
       "      <td>POINT (-6501730.229 -4110863.185)</td>\n",
       "      <td>4430.802660</td>\n",
       "      <td>CORRIENTES</td>\n",
       "      <td>604.717270</td>\n",
       "    </tr>\n",
       "    <tr>\n",
       "      <th>7</th>\n",
       "      <td>CORRIENTES</td>\n",
       "      <td>POINT (-6501664.990 -4110261.997)</td>\n",
       "      <td>5034.797967</td>\n",
       "      <td>CÓRDOBA</td>\n",
       "      <td>838.571944</td>\n",
       "    </tr>\n",
       "    <tr>\n",
       "      <th>8</th>\n",
       "      <td>CÓRDOBA</td>\n",
       "      <td>POINT (-6501472.537 -4109445.808)</td>\n",
       "      <td>5871.204673</td>\n",
       "      <td>SANTA FE - CARLOS JAUREGUI</td>\n",
       "      <td>552.124082</td>\n",
       "    </tr>\n",
       "    <tr>\n",
       "      <th>9</th>\n",
       "      <td>SANTA FE - CARLOS JAUREGUI</td>\n",
       "      <td>POINT (-6501322.777 -4108914.382)</td>\n",
       "      <td>6420.295998</td>\n",
       "      <td>LAS HERAS</td>\n",
       "      <td>1114.641993</td>\n",
       "    </tr>\n",
       "    <tr>\n",
       "      <th>10</th>\n",
       "      <td>LAS HERAS</td>\n",
       "      <td>POINT (-6500748.302 -4107959.183)</td>\n",
       "      <td>7471.411583</td>\n",
       "      <td>None</td>\n",
       "      <td>0.000000</td>\n",
       "    </tr>\n",
       "  </tbody>\n",
       "</table>\n",
       "</div>"
      ],
      "text/plain": [
       "                      ESTACION                           geometry  \\\n",
       "0                   HOSPITALES  POINT (-6502436.971 -4115237.259)   \n",
       "1             PARQUE PATRICIOS  POINT (-6501703.339 -4114849.892)   \n",
       "2                      CASEROS  POINT (-6500938.882 -4114490.565)   \n",
       "3                       INCLAN  POINT (-6501166.193 -4113628.148)   \n",
       "4                  HUMBERTO 1°  POINT (-6501316.827 -4112778.132)   \n",
       "5                    VENEZUELA  POINT (-6501584.995 -4111716.244)   \n",
       "6       ONCE - 30 DE DICIEMBRE  POINT (-6501730.229 -4110863.185)   \n",
       "7                   CORRIENTES  POINT (-6501664.990 -4110261.997)   \n",
       "8                      CÓRDOBA  POINT (-6501472.537 -4109445.808)   \n",
       "9   SANTA FE - CARLOS JAUREGUI  POINT (-6501322.777 -4108914.382)   \n",
       "10                   LAS HERAS  POINT (-6500748.302 -4107959.183)   \n",
       "\n",
       "    distancia_a_inicial                   Siguiente  distancia_siguiente  \n",
       "0              0.000000            PARQUE PATRICIOS           829.619463  \n",
       "1            829.619463                     CASEROS           844.696193  \n",
       "2           1673.864916                      INCLAN           891.871064  \n",
       "3           2050.394280                 HUMBERTO 1°           863.259957  \n",
       "4           2702.226528                   VENEZUELA          1095.225718  \n",
       "5           3622.624853      ONCE - 30 DE DICIEMBRE           865.334388  \n",
       "6           4430.802660                  CORRIENTES           604.717270  \n",
       "7           5034.797967                     CÓRDOBA           838.571944  \n",
       "8           5871.204673  SANTA FE - CARLOS JAUREGUI           552.124082  \n",
       "9           6420.295998                   LAS HERAS          1114.641993  \n",
       "10          7471.411583                        None             0.000000  "
      ]
     },
     "execution_count": 77,
     "metadata": {},
     "output_type": "execute_result"
    }
   ],
   "source": [
    "# asignamos 0 a la distancia de la última al siguiente\n",
    "\n",
    "estaciones_H[\"distancia_siguiente\"] = distancias + [0]\n",
    "estaciones_H"
   ]
  },
  {
   "cell_type": "code",
   "execution_count": 78,
   "id": "5d7855bd-69d2-4034-a888-38be3587f8c7",
   "metadata": {},
   "outputs": [
    {
     "data": {
      "text/plain": [
       "[<LINESTRING (-6502436.971 -4115237.259, -6501703.339 -4114849.892)>,\n",
       " <LINESTRING (-6501703.339 -4114849.892, -6500938.882 -4114490.565)>,\n",
       " <LINESTRING (-6500938.882 -4114490.565, -6501166.193 -4113628.148)>,\n",
       " <LINESTRING (-6501166.193 -4113628.148, -6501316.827 -4112778.132)>,\n",
       " <LINESTRING (-6501316.827 -4112778.132, -6501584.995 -4111716.244)>,\n",
       " <LINESTRING (-6501584.995 -4111716.244, -6501730.229 -4110863.185)>,\n",
       " <LINESTRING (-6501730.229 -4110863.185, -6501664.99 -4110261.997)>,\n",
       " <LINESTRING (-6501664.99 -4110261.997, -6501472.537 -4109445.808)>,\n",
       " <LINESTRING (-6501472.537 -4109445.808, -6501322.777 -4108914.382)>,\n",
       " <LINESTRING (-6501322.777 -4108914.382, -6500748.302 -4107959.183)>]"
      ]
     },
     "execution_count": 78,
     "metadata": {},
     "output_type": "execute_result"
    }
   ],
   "source": [
    "# siguiendo el mismo procedimiento, podemos construir una linea a partir de cada estación con la siguiente\n",
    "lineas_nuevas = [\n",
    "    LineString([estaciones_H.geometry.loc[i], estacion_siguiente.loc[i]])\n",
    "    for i in estaciones_H.index[:-1]\n",
    "]\n",
    "lineas_nuevas"
   ]
  },
  {
   "cell_type": "code",
   "execution_count": 79,
   "id": "1a632124-9ce2-447e-a121-33f4f5717ad5",
   "metadata": {},
   "outputs": [
    {
     "data": {
      "text/plain": [
       "pandas.core.frame.DataFrame"
      ]
     },
     "execution_count": 79,
     "metadata": {},
     "output_type": "execute_result"
    }
   ],
   "source": [
    "# creamos un data frame con lineas y la distancia\n",
    "nuevaH = pd.DataFrame({\"lineas\": lineas_nuevas, \"distancia\": distancias})\n",
    "type(nuevaH)\n"
   ]
  },
  {
   "cell_type": "code",
   "execution_count": 80,
   "id": "2841deec-f846-4a0b-9ebd-2a1315ddf56e",
   "metadata": {},
   "outputs": [
    {
     "data": {
      "text/html": [
       "<div>\n",
       "<style scoped>\n",
       "    .dataframe tbody tr th:only-of-type {\n",
       "        vertical-align: middle;\n",
       "    }\n",
       "\n",
       "    .dataframe tbody tr th {\n",
       "        vertical-align: top;\n",
       "    }\n",
       "\n",
       "    .dataframe thead th {\n",
       "        text-align: right;\n",
       "    }\n",
       "</style>\n",
       "<table border=\"1\" class=\"dataframe\">\n",
       "  <thead>\n",
       "    <tr style=\"text-align: right;\">\n",
       "      <th></th>\n",
       "      <th>lineas</th>\n",
       "      <th>distancia</th>\n",
       "    </tr>\n",
       "  </thead>\n",
       "  <tbody>\n",
       "    <tr>\n",
       "      <th>0</th>\n",
       "      <td>LINESTRING (-6502436.971052213 -4115237.259212...</td>\n",
       "      <td>829.619463</td>\n",
       "    </tr>\n",
       "    <tr>\n",
       "      <th>1</th>\n",
       "      <td>LINESTRING (-6501703.339403232 -4114849.892387...</td>\n",
       "      <td>844.696193</td>\n",
       "    </tr>\n",
       "    <tr>\n",
       "      <th>2</th>\n",
       "      <td>LINESTRING (-6500938.8816755405 -4114490.56518...</td>\n",
       "      <td>891.871064</td>\n",
       "    </tr>\n",
       "    <tr>\n",
       "      <th>3</th>\n",
       "      <td>LINESTRING (-6501166.192809229 -4113628.147854...</td>\n",
       "      <td>863.259957</td>\n",
       "    </tr>\n",
       "    <tr>\n",
       "      <th>4</th>\n",
       "      <td>LINESTRING (-6501316.827495229 -4112778.132004...</td>\n",
       "      <td>1095.225718</td>\n",
       "    </tr>\n",
       "    <tr>\n",
       "      <th>5</th>\n",
       "      <td>LINESTRING (-6501584.994597421 -4111716.244167...</td>\n",
       "      <td>865.334388</td>\n",
       "    </tr>\n",
       "    <tr>\n",
       "      <th>6</th>\n",
       "      <td>LINESTRING (-6501730.229190245 -4110863.184664...</td>\n",
       "      <td>604.717270</td>\n",
       "    </tr>\n",
       "    <tr>\n",
       "      <th>7</th>\n",
       "      <td>LINESTRING (-6501664.990118698 -4110261.996806...</td>\n",
       "      <td>838.571944</td>\n",
       "    </tr>\n",
       "    <tr>\n",
       "      <th>8</th>\n",
       "      <td>LINESTRING (-6501472.537415725 -4109445.807574...</td>\n",
       "      <td>552.124082</td>\n",
       "    </tr>\n",
       "    <tr>\n",
       "      <th>9</th>\n",
       "      <td>LINESTRING (-6501322.776922103 -4108914.382324...</td>\n",
       "      <td>1114.641993</td>\n",
       "    </tr>\n",
       "  </tbody>\n",
       "</table>\n",
       "</div>"
      ],
      "text/plain": [
       "                                              lineas    distancia\n",
       "0  LINESTRING (-6502436.971052213 -4115237.259212...   829.619463\n",
       "1  LINESTRING (-6501703.339403232 -4114849.892387...   844.696193\n",
       "2  LINESTRING (-6500938.8816755405 -4114490.56518...   891.871064\n",
       "3  LINESTRING (-6501166.192809229 -4113628.147854...   863.259957\n",
       "4  LINESTRING (-6501316.827495229 -4112778.132004...  1095.225718\n",
       "5  LINESTRING (-6501584.994597421 -4111716.244167...   865.334388\n",
       "6  LINESTRING (-6501730.229190245 -4110863.184664...   604.717270\n",
       "7  LINESTRING (-6501664.990118698 -4110261.996806...   838.571944\n",
       "8  LINESTRING (-6501472.537415725 -4109445.807574...   552.124082\n",
       "9  LINESTRING (-6501322.776922103 -4108914.382324...  1114.641993"
      ]
     },
     "execution_count": 80,
     "metadata": {},
     "output_type": "execute_result"
    }
   ],
   "source": [
    "nuevaH"
   ]
  },
  {
   "cell_type": "code",
   "execution_count": 81,
   "id": "b4aa09fe-292e-4ef5-b32f-f9b0f127dd54",
   "metadata": {},
   "outputs": [
    {
     "data": {
      "text/plain": [
       "geopandas.geodataframe.GeoDataFrame"
      ]
     },
     "execution_count": 81,
     "metadata": {},
     "output_type": "execute_result"
    }
   ],
   "source": [
    "# la convertirmos en GeoDataFrame\n",
    "nuevaH = gpd.GeoDataFrame(nuevaH, geometry=\"lineas\", crs={\"init\": \"epsg:3857\"})\n",
    "type(nuevaH)"
   ]
  },
  {
   "cell_type": "code",
   "execution_count": 82,
   "id": "0b0a06aa-ac07-476f-a6cb-2c7940c2a30b",
   "metadata": {},
   "outputs": [
    {
     "data": {
      "text/plain": [
       "<Axes: >"
      ]
     },
     "execution_count": 82,
     "metadata": {},
     "output_type": "execute_result"
    },
    {
     "data": {
      "image/png": "[encoded data removed]",
      "text/plain": [
       "<Figure size 640x480 with 1 Axes>"
      ]
     },
     "metadata": {},
     "output_type": "display_data"
    }
   ],
   "source": [
    "# visualizamos el resultado\n",
    "nuevaH.plot(linewidth=nuevaH.distancia / 100, color=\"darkgreen\", alpha=0.5)"
   ]
  },
  {
   "cell_type": "markdown",
   "id": "ce8fd3d7-644d-4361-812e-91c653c24a47",
   "metadata": {},
   "source": [
    "# <font color=\"#226699\">Group by- Apply</font>\n",
    "\n",
    "Ya resolvimos el problema para la línea H. Ahora solamente tenemos que aplicar el mismo método y resolverlo para todas las líneas. Podríamos hacer un for loop iterando a lo largo de todas las líneas, y poner todo el proceso en un loop, e ir guardando los resultados.\n",
    "\n",
    "Pero para esta situación donde tenemos registros en una tabla identificados por un valor en común, y queremos realizar el mismo proceso para cada grupo, existe Group By. \n",
    "\n",
    "\n",
    "\n",
    " "
   ]
  },
  {
   "cell_type": "code",
   "execution_count": 83,
   "id": "84ac69ca-3a71-413e-8aa2-f48634f98cc1",
   "metadata": {},
   "outputs": [
    {
     "data": {
      "image/svg+xml": [
       "<svg xmlns=\"http://www.w3.org/2000/svg\" xmlns:xlink=\"http://www.w3.org/1999/xlink\" width=\"300\" height=\"300\" viewBox=\"-6509267.368501158 -4114234.3038817467 11981.155987691134 3822.1304585644975\" preserveAspectRatio=\"xMinYMin meet\"><g transform=\"matrix(1,0,0,-1,0,-8224646.477304929)\"><polyline fill=\"none\" stroke=\"#66cc99\" stroke-width=\"79.87437325127422\" points=\"-6508823.621983096,-4113790.5573636843 -6508133.794266243,-4113612.392686505 -6507365.16537764,-4113236.1991272965 -6506498.054724876,-4112820.35679758 -6505650.70655519,-4112444.0603800993 -6505000.462030159,-4112127.1564013264 -6504330.59375706,-4111671.647123174 -6503503.125156479,-4111255.6427341625 -6502734.699819559,-4111116.741519291 -6501808.669225932,-4110957.908126332 -6500843.168270248,-4110937.534081866 -6497729.95903153,-4110855.9199412446\" opacity=\"0.8\" /></g></svg>"
      ],
      "text/plain": [
       "<LINESTRING (-6508823.622 -4113790.557, -6508133.794 -4113612.393, -6507365....>"
      ]
     },
     "execution_count": 83,
     "metadata": {},
     "output_type": "execute_result"
    }
   ],
   "source": [
    "dt = estaciones.loc[estaciones.LINEA == \"A\", :]\n",
    "linea = lineas.loc[\"A\", \"geometry\"]\n",
    "linea"
   ]
  },
  {
   "cell_type": "code",
   "execution_count": 84,
   "id": "c40c8f7b-67d8-43df-a3a3-de807dea3b96",
   "metadata": {},
   "outputs": [
    {
     "data": {
      "text/plain": [
       "0.9605277831993329"
      ]
     },
     "execution_count": 84,
     "metadata": {},
     "output_type": "execute_result"
    }
   ],
   "source": [
    "linea.project(dt.geometry.iloc[0], normalized=True)"
   ]
  },
  {
   "cell_type": "code",
   "execution_count": 85,
   "id": "f3a5a858-c255-4c74-882c-23889c3ac695",
   "metadata": {},
   "outputs": [
    {
     "data": {
      "text/html": [
       "<div>\n",
       "<style scoped>\n",
       "    .dataframe tbody tr th:only-of-type {\n",
       "        vertical-align: middle;\n",
       "    }\n",
       "\n",
       "    .dataframe tbody tr th {\n",
       "        vertical-align: top;\n",
       "    }\n",
       "\n",
       "    .dataframe thead th {\n",
       "        text-align: right;\n",
       "    }\n",
       "</style>\n",
       "<table border=\"1\" class=\"dataframe\">\n",
       "  <thead>\n",
       "    <tr style=\"text-align: right;\">\n",
       "      <th></th>\n",
       "      <th>ID</th>\n",
       "      <th>ESTACION</th>\n",
       "      <th>LINEA</th>\n",
       "      <th>geometry</th>\n",
       "      <th>x</th>\n",
       "      <th>y</th>\n",
       "      <th>ym</th>\n",
       "      <th>xm</th>\n",
       "      <th>distancia_obelisco</th>\n",
       "      <th>orden</th>\n",
       "    </tr>\n",
       "  </thead>\n",
       "  <tbody>\n",
       "    <tr>\n",
       "      <th>30</th>\n",
       "      <td>31.0</td>\n",
       "      <td>PERU</td>\n",
       "      <td>A</td>\n",
       "      <td>POINT (-6498193.759 -4110812.307)</td>\n",
       "      <td>-58.374268</td>\n",
       "      <td>-34.608559</td>\n",
       "      <td>-4.110812e+06</td>\n",
       "      <td>-6.498194e+06</td>\n",
       "      <td>1025.487383</td>\n",
       "      <td>11254.540816</td>\n",
       "    </tr>\n",
       "    <tr>\n",
       "      <th>31</th>\n",
       "      <td>32.0</td>\n",
       "      <td>PIEDRAS</td>\n",
       "      <td>A</td>\n",
       "      <td>POINT (-6498730.032 -4110855.946)</td>\n",
       "      <td>-58.379085</td>\n",
       "      <td>-34.608882</td>\n",
       "      <td>-4.110856e+06</td>\n",
       "      <td>-6.498730e+06</td>\n",
       "      <td>688.520629</td>\n",
       "      <td>10717.307897</td>\n",
       "    </tr>\n",
       "    <tr>\n",
       "      <th>32</th>\n",
       "      <td>33.0</td>\n",
       "      <td>LIMA</td>\n",
       "      <td>A</td>\n",
       "      <td>POINT (-6499080.382 -4110885.443)</td>\n",
       "      <td>-58.382232</td>\n",
       "      <td>-34.609100</td>\n",
       "      <td>-4.110885e+06</td>\n",
       "      <td>-6.499080e+06</td>\n",
       "      <td>640.846108</td>\n",
       "      <td>10366.305184</td>\n",
       "    </tr>\n",
       "    <tr>\n",
       "      <th>33</th>\n",
       "      <td>34.0</td>\n",
       "      <td>SAENZ PEÑA</td>\n",
       "      <td>A</td>\n",
       "      <td>POINT (-6499586.306 -4110927.747)</td>\n",
       "      <td>-58.386777</td>\n",
       "      <td>-34.609413</td>\n",
       "      <td>-4.110928e+06</td>\n",
       "      <td>-6.499586e+06</td>\n",
       "      <td>868.935154</td>\n",
       "      <td>9859.446242</td>\n",
       "    </tr>\n",
       "    <tr>\n",
       "      <th>34</th>\n",
       "      <td>35.0</td>\n",
       "      <td>CONGRESO</td>\n",
       "      <td>A</td>\n",
       "      <td>POINT (-6500242.160 -4110902.468)</td>\n",
       "      <td>-58.392669</td>\n",
       "      <td>-34.609226</td>\n",
       "      <td>-4.110902e+06</td>\n",
       "      <td>-6.500242e+06</td>\n",
       "      <td>1362.732195</td>\n",
       "      <td>9204.480654</td>\n",
       "    </tr>\n",
       "    <tr>\n",
       "      <th>35</th>\n",
       "      <td>36.0</td>\n",
       "      <td>PASCO</td>\n",
       "      <td>A</td>\n",
       "      <td>POINT (-6500883.156 -4110959.312)</td>\n",
       "      <td>-58.398427</td>\n",
       "      <td>-34.609646</td>\n",
       "      <td>-4.110959e+06</td>\n",
       "      <td>-6.500883e+06</td>\n",
       "      <td>1968.848969</td>\n",
       "      <td>8562.321320</td>\n",
       "    </tr>\n",
       "    <tr>\n",
       "      <th>36</th>\n",
       "      <td>37.0</td>\n",
       "      <td>ALBERTI</td>\n",
       "      <td>A</td>\n",
       "      <td>POINT (-6501192.684 -4110984.688)</td>\n",
       "      <td>-58.401208</td>\n",
       "      <td>-34.609834</td>\n",
       "      <td>-4.110985e+06</td>\n",
       "      <td>-6.501193e+06</td>\n",
       "      <td>2268.244055</td>\n",
       "      <td>8252.326282</td>\n",
       "    </tr>\n",
       "    <tr>\n",
       "      <th>37</th>\n",
       "      <td>38.0</td>\n",
       "      <td>PLAZA DE MISERERE</td>\n",
       "      <td>A</td>\n",
       "      <td>POINT (-6501804.895 -4110982.479)</td>\n",
       "      <td>-58.406707</td>\n",
       "      <td>-34.609817</td>\n",
       "      <td>-4.110982e+06</td>\n",
       "      <td>-6.501805e+06</td>\n",
       "      <td>2853.436840</td>\n",
       "      <td>7640.298451</td>\n",
       "    </tr>\n",
       "    <tr>\n",
       "      <th>38</th>\n",
       "      <td>39.0</td>\n",
       "      <td>LORIA</td>\n",
       "      <td>A</td>\n",
       "      <td>POINT (-6502748.728 -4111112.925)</td>\n",
       "      <td>-58.415186</td>\n",
       "      <td>-34.610782</td>\n",
       "      <td>-4.111113e+06</td>\n",
       "      <td>-6.502749e+06</td>\n",
       "      <td>3800.758394</td>\n",
       "      <td>6684.364848</td>\n",
       "    </tr>\n",
       "    <tr>\n",
       "      <th>39</th>\n",
       "      <td>40.0</td>\n",
       "      <td>CASTRO BARROS</td>\n",
       "      <td>A</td>\n",
       "      <td>POINT (-6503486.772 -4111246.631)</td>\n",
       "      <td>-58.421816</td>\n",
       "      <td>-34.611770</td>\n",
       "      <td>-4.111247e+06</td>\n",
       "      <td>-6.503487e+06</td>\n",
       "      <td>4549.999479</td>\n",
       "      <td>5934.307297</td>\n",
       "    </tr>\n",
       "    <tr>\n",
       "      <th>40</th>\n",
       "      <td>41.0</td>\n",
       "      <td>RIO DE JANEIRO</td>\n",
       "      <td>A</td>\n",
       "      <td>POINT (-6504342.223 -4111711.301)</td>\n",
       "      <td>-58.429500</td>\n",
       "      <td>-34.615206</td>\n",
       "      <td>-4.111711e+06</td>\n",
       "      <td>-6.504342e+06</td>\n",
       "      <td>5493.131234</td>\n",
       "      <td>4958.541523</td>\n",
       "    </tr>\n",
       "    <tr>\n",
       "      <th>41</th>\n",
       "      <td>42.0</td>\n",
       "      <td>ACOYTE</td>\n",
       "      <td>A</td>\n",
       "      <td>POINT (-6505113.468 -4112127.156)</td>\n",
       "      <td>-58.436429</td>\n",
       "      <td>-34.618280</td>\n",
       "      <td>-4.112127e+06</td>\n",
       "      <td>-6.505113e+06</td>\n",
       "      <td>6350.375018</td>\n",
       "      <td>4078.803680</td>\n",
       "    </tr>\n",
       "    <tr>\n",
       "      <th>42</th>\n",
       "      <td>43.0</td>\n",
       "      <td>PRIMERA JUNTA</td>\n",
       "      <td>A</td>\n",
       "      <td>POINT (-6505642.135 -4112414.637)</td>\n",
       "      <td>-58.441178</td>\n",
       "      <td>-34.620405</td>\n",
       "      <td>-4.112415e+06</td>\n",
       "      <td>-6.505642e+06</td>\n",
       "      <td>6941.487190</td>\n",
       "      <td>3477.625416</td>\n",
       "    </tr>\n",
       "    <tr>\n",
       "      <th>69</th>\n",
       "      <td>70.0</td>\n",
       "      <td>PLAZA DE MAYO</td>\n",
       "      <td>A</td>\n",
       "      <td>POINT (-6497826.490 -4110846.287)</td>\n",
       "      <td>-58.370968</td>\n",
       "      <td>-34.608810</td>\n",
       "      <td>-4.110846e+06</td>\n",
       "      <td>-6.497826e+06</td>\n",
       "      <td>1361.574129</td>\n",
       "      <td>11620.792500</td>\n",
       "    </tr>\n",
       "    <tr>\n",
       "      <th>74</th>\n",
       "      <td>75.0</td>\n",
       "      <td>CARABOBO</td>\n",
       "      <td>A</td>\n",
       "      <td>POINT (-6507371.168 -4113261.655)</td>\n",
       "      <td>-58.456710</td>\n",
       "      <td>-34.626667</td>\n",
       "      <td>-4.113262e+06</td>\n",
       "      <td>-6.507371e+06</td>\n",
       "      <td>8852.566218</td>\n",
       "      <td>1551.634058</td>\n",
       "    </tr>\n",
       "    <tr>\n",
       "      <th>75</th>\n",
       "      <td>76.0</td>\n",
       "      <td>PUAN</td>\n",
       "      <td>A</td>\n",
       "      <td>POINT (-6506473.694 -4112837.198)</td>\n",
       "      <td>-58.448648</td>\n",
       "      <td>-34.623529</td>\n",
       "      <td>-4.112837e+06</td>\n",
       "      <td>-6.506474e+06</td>\n",
       "      <td>7864.724963</td>\n",
       "      <td>2545.312905</td>\n",
       "    </tr>\n",
       "    <tr>\n",
       "      <th>81</th>\n",
       "      <td>83.0</td>\n",
       "      <td>SAN PEDRITO</td>\n",
       "      <td>A</td>\n",
       "      <td>POINT (-6508810.510 -4113808.273)</td>\n",
       "      <td>-58.469640</td>\n",
       "      <td>-34.630707</td>\n",
       "      <td>-4.113808e+06</td>\n",
       "      <td>-6.508811e+06</td>\n",
       "      <td>10392.055472</td>\n",
       "      <td>8.264851</td>\n",
       "    </tr>\n",
       "    <tr>\n",
       "      <th>82</th>\n",
       "      <td>82.0</td>\n",
       "      <td>SAN JOSÉ DE FLORES</td>\n",
       "      <td>A</td>\n",
       "      <td>POINT (-6508131.560 -4113589.127)</td>\n",
       "      <td>-58.463541</td>\n",
       "      <td>-34.629087</td>\n",
       "      <td>-4.113589e+06</td>\n",
       "      <td>-6.508132e+06</td>\n",
       "      <td>9679.158909</td>\n",
       "      <td>724.698745</td>\n",
       "    </tr>\n",
       "  </tbody>\n",
       "</table>\n",
       "</div>"
      ],
      "text/plain": [
       "      ID            ESTACION LINEA                           geometry  \\\n",
       "30  31.0                PERU     A  POINT (-6498193.759 -4110812.307)   \n",
       "31  32.0             PIEDRAS     A  POINT (-6498730.032 -4110855.946)   \n",
       "32  33.0                LIMA     A  POINT (-6499080.382 -4110885.443)   \n",
       "33  34.0          SAENZ PEÑA     A  POINT (-6499586.306 -4110927.747)   \n",
       "34  35.0            CONGRESO     A  POINT (-6500242.160 -4110902.468)   \n",
       "35  36.0               PASCO     A  POINT (-6500883.156 -4110959.312)   \n",
       "36  37.0             ALBERTI     A  POINT (-6501192.684 -4110984.688)   \n",
       "37  38.0   PLAZA DE MISERERE     A  POINT (-6501804.895 -4110982.479)   \n",
       "38  39.0               LORIA     A  POINT (-6502748.728 -4111112.925)   \n",
       "39  40.0       CASTRO BARROS     A  POINT (-6503486.772 -4111246.631)   \n",
       "40  41.0      RIO DE JANEIRO     A  POINT (-6504342.223 -4111711.301)   \n",
       "41  42.0              ACOYTE     A  POINT (-6505113.468 -4112127.156)   \n",
       "42  43.0       PRIMERA JUNTA     A  POINT (-6505642.135 -4112414.637)   \n",
       "69  70.0       PLAZA DE MAYO     A  POINT (-6497826.490 -4110846.287)   \n",
       "74  75.0            CARABOBO     A  POINT (-6507371.168 -4113261.655)   \n",
       "75  76.0                PUAN     A  POINT (-6506473.694 -4112837.198)   \n",
       "81  83.0         SAN PEDRITO     A  POINT (-6508810.510 -4113808.273)   \n",
       "82  82.0  SAN JOSÉ DE FLORES     A  POINT (-6508131.560 -4113589.127)   \n",
       "\n",
       "            x          y            ym            xm  distancia_obelisco  \\\n",
       "30 -58.374268 -34.608559 -4.110812e+06 -6.498194e+06         1025.487383   \n",
       "31 -58.379085 -34.608882 -4.110856e+06 -6.498730e+06          688.520629   \n",
       "32 -58.382232 -34.609100 -4.110885e+06 -6.499080e+06          640.846108   \n",
       "33 -58.386777 -34.609413 -4.110928e+06 -6.499586e+06          868.935154   \n",
       "34 -58.392669 -34.609226 -4.110902e+06 -6.500242e+06         1362.732195   \n",
       "35 -58.398427 -34.609646 -4.110959e+06 -6.500883e+06         1968.848969   \n",
       "36 -58.401208 -34.609834 -4.110985e+06 -6.501193e+06         2268.244055   \n",
       "37 -58.406707 -34.609817 -4.110982e+06 -6.501805e+06         2853.436840   \n",
       "38 -58.415186 -34.610782 -4.111113e+06 -6.502749e+06         3800.758394   \n",
       "39 -58.421816 -34.611770 -4.111247e+06 -6.503487e+06         4549.999479   \n",
       "40 -58.429500 -34.615206 -4.111711e+06 -6.504342e+06         5493.131234   \n",
       "41 -58.436429 -34.618280 -4.112127e+06 -6.505113e+06         6350.375018   \n",
       "42 -58.441178 -34.620405 -4.112415e+06 -6.505642e+06         6941.487190   \n",
       "69 -58.370968 -34.608810 -4.110846e+06 -6.497826e+06         1361.574129   \n",
       "74 -58.456710 -34.626667 -4.113262e+06 -6.507371e+06         8852.566218   \n",
       "75 -58.448648 -34.623529 -4.112837e+06 -6.506474e+06         7864.724963   \n",
       "81 -58.469640 -34.630707 -4.113808e+06 -6.508811e+06        10392.055472   \n",
       "82 -58.463541 -34.629087 -4.113589e+06 -6.508132e+06         9679.158909   \n",
       "\n",
       "           orden  \n",
       "30  11254.540816  \n",
       "31  10717.307897  \n",
       "32  10366.305184  \n",
       "33   9859.446242  \n",
       "34   9204.480654  \n",
       "35   8562.321320  \n",
       "36   8252.326282  \n",
       "37   7640.298451  \n",
       "38   6684.364848  \n",
       "39   5934.307297  \n",
       "40   4958.541523  \n",
       "41   4078.803680  \n",
       "42   3477.625416  \n",
       "69  11620.792500  \n",
       "74   1551.634058  \n",
       "75   2545.312905  \n",
       "81      8.264851  \n",
       "82    724.698745  "
      ]
     },
     "execution_count": 85,
     "metadata": {},
     "output_type": "execute_result"
    }
   ],
   "source": [
    "dt.loc[:, \"orden\"] = dt.geometry.map(\n",
    "    lambda estacion: linea.project(estacion, normalized=False)\n",
    ")\n",
    "dt\n"
   ]
  },
  {
   "cell_type": "code",
   "execution_count": 86,
   "id": "db3f5514-e632-4c18-a04e-6557fcc6006d",
   "metadata": {},
   "outputs": [
    {
     "data": {
      "text/html": [
       "<div>\n",
       "<style scoped>\n",
       "    .dataframe tbody tr th:only-of-type {\n",
       "        vertical-align: middle;\n",
       "    }\n",
       "\n",
       "    .dataframe tbody tr th {\n",
       "        vertical-align: top;\n",
       "    }\n",
       "\n",
       "    .dataframe thead th {\n",
       "        text-align: right;\n",
       "    }\n",
       "</style>\n",
       "<table border=\"1\" class=\"dataframe\">\n",
       "  <thead>\n",
       "    <tr style=\"text-align: right;\">\n",
       "      <th></th>\n",
       "      <th>geometry</th>\n",
       "      <th>distancia</th>\n",
       "      <th>color</th>\n",
       "    </tr>\n",
       "    <tr>\n",
       "      <th>LINEA</th>\n",
       "      <th></th>\n",
       "      <th></th>\n",
       "      <th></th>\n",
       "    </tr>\n",
       "  </thead>\n",
       "  <tbody>\n",
       "    <tr>\n",
       "      <th>A</th>\n",
       "      <td>LINESTRING (-6508810.510 -4113808.273, -650813...</td>\n",
       "      <td>713.441720</td>\n",
       "      <td>lightblue</td>\n",
       "    </tr>\n",
       "    <tr>\n",
       "      <th>A</th>\n",
       "      <td>LINESTRING (-6508131.560 -4113589.127, -650737...</td>\n",
       "      <td>827.908948</td>\n",
       "      <td>lightblue</td>\n",
       "    </tr>\n",
       "    <tr>\n",
       "      <th>A</th>\n",
       "      <td>LINESTRING (-6507371.168 -4113261.655, -650647...</td>\n",
       "      <td>992.785448</td>\n",
       "      <td>lightblue</td>\n",
       "    </tr>\n",
       "    <tr>\n",
       "      <th>A</th>\n",
       "      <td>LINESTRING (-6506473.694 -4112837.198, -650564...</td>\n",
       "      <td>932.764367</td>\n",
       "      <td>lightblue</td>\n",
       "    </tr>\n",
       "    <tr>\n",
       "      <th>A</th>\n",
       "      <td>LINESTRING (-6505642.135 -4112414.637, -650511...</td>\n",
       "      <td>601.775978</td>\n",
       "      <td>lightblue</td>\n",
       "    </tr>\n",
       "  </tbody>\n",
       "</table>\n",
       "</div>"
      ],
      "text/plain": [
       "                                                geometry   distancia  \\\n",
       "LINEA                                                                  \n",
       "A      LINESTRING (-6508810.510 -4113808.273, -650813...  713.441720   \n",
       "A      LINESTRING (-6508131.560 -4113589.127, -650737...  827.908948   \n",
       "A      LINESTRING (-6507371.168 -4113261.655, -650647...  992.785448   \n",
       "A      LINESTRING (-6506473.694 -4112837.198, -650564...  932.764367   \n",
       "A      LINESTRING (-6505642.135 -4112414.637, -650511...  601.775978   \n",
       "\n",
       "           color  \n",
       "LINEA             \n",
       "A      lightblue  \n",
       "A      lightblue  \n",
       "A      lightblue  \n",
       "A      lightblue  \n",
       "A      lightblue  "
      ]
     },
     "execution_count": 86,
     "metadata": {},
     "output_type": "execute_result"
    }
   ],
   "source": [
    "import geopandas as gpd\n",
    "from shapely.geometry import LineString\n",
    "\n",
    "\n",
    "def distancia_entre_estaciones(dt, lineas):\n",
    "    \"\"\"\n",
    "    Esta función produce un GeoDataFrame con líneas entre estaciones\n",
    "    de subte con la distancia en metros entre ellas.\n",
    "\n",
    "    Argumentos\n",
    "    ---------\n",
    "    dt     : geopandas.GeoDataFrame\n",
    "             GeoDataFrame que contiene las estaciones de subte\n",
    "    lineas : geopandas.GeoDataFrame\n",
    "             GeoDataFrame que contiene las líneas de subte\n",
    "\n",
    "    Devuelve\n",
    "    -------\n",
    "    nuevo_dt: GeoDataFrame\n",
    "             GeoDataFrame que contiene las líneas entre estaciones\n",
    "             con la distancia entre ellas en metros\n",
    "    \"\"\"\n",
    "    # Crear un diccionario con colores\n",
    "    colores = {\n",
    "        \"A\": \"lightblue\",\n",
    "        \"B\": \"red\",\n",
    "        \"C\": \"blue\",\n",
    "        \"D\": \"green\",\n",
    "        \"E\": \"purple\",\n",
    "        \"H\": \"gold\",\n",
    "    }\n",
    "\n",
    "    # Tomar la línea del subset de datos como el valor único que hay en el campo LINEA\n",
    "    linea_letra = dt.LINEA.unique()[0]\n",
    "    # Tomar el color para graficar en base a esa línea\n",
    "    color = colores[linea_letra]\n",
    "\n",
    "    # Tomar la línea de subte en su geometría para el LRS\n",
    "    linea = lineas.loc[linea_letra, \"geometry\"]\n",
    "\n",
    "    # Limpiar el subset de datos quedándome con pocas columnas\n",
    "    dt = dt.reindex(columns=[\"ESTACION\", \"LINEA\", \"geometry\"])\n",
    "\n",
    "    # Proyectar cada estación en la línea y guardarla en orden\n",
    "    dt[\"orden\"] = dt.geometry.map(\n",
    "        lambda estacion: linea.project(estacion, normalized=False)\n",
    "    )\n",
    "\n",
    "    # Ordenar por ese orden y reiniciar el índice\n",
    "    dt = dt.sort_values(by=\"orden\")\n",
    "    dt = dt.reset_index(drop=True)\n",
    "\n",
    "    # Obtener la estación siguiente con un shift\n",
    "    estacion_siguiente = dt.geometry.shift(-1)\n",
    "\n",
    "    # Calcular las distancias a la estación siguiente\n",
    "    distancias = [\n",
    "        dt.geometry.loc[i].distance(estacion_siguiente.loc[i]) for i in dt.index[:-1]\n",
    "    ]\n",
    "\n",
    "    # Construir una línea entre cada estación y la siguiente\n",
    "    lineas_nuevas = [\n",
    "        LineString([dt.geometry.loc[i], estacion_siguiente.loc[i]])\n",
    "        for i in dt.index[:-1]\n",
    "    ]\n",
    "\n",
    "    # Crear el GeoDataFrame final\n",
    "    nuevo_dt = gpd.GeoDataFrame({\"geometry\": lineas_nuevas, \"distancia\": distancias})\n",
    "    # Establecer el CRS correctamente\n",
    "    nuevo_dt.crs = lineas.crs\n",
    "\n",
    "    # Asignar el color\n",
    "    nuevo_dt[\"color\"] = color\n",
    "\n",
    "    return nuevo_dt\n",
    "\n",
    "\n",
    "# Aplicar la función distancia_entre_estaciones a cada grupo de estaciones por línea de subte\n",
    "lineas_subte = estaciones.groupby(\"LINEA\").apply(\n",
    "    lambda x: distancia_entre_estaciones(x, lineas)\n",
    ")\n",
    "# Eliminar el nivel del índice que no nos interesa\n",
    "lineas_subte.index = lineas_subte.index.droplevel(1)\n",
    "lineas_subte.head()"
   ]
  },
  {
   "cell_type": "code",
   "execution_count": 87,
   "id": "05d8ad54-f8c0-4e95-8df2-ac327da6fd80",
   "metadata": {},
   "outputs": [
    {
     "data": {
      "text/plain": [
       "<Axes: >"
      ]
     },
     "execution_count": 87,
     "metadata": {},
     "output_type": "execute_result"
    },
    {
     "data": {
      "image/png": "[encoded data removed]",
      "text/plain": [
       "<Figure size 640x480 with 1 Axes>"
      ]
     },
     "metadata": {},
     "output_type": "display_data"
    }
   ],
   "source": [
    "lineas_subte.plot()"
   ]
  },
  {
   "cell_type": "code",
   "execution_count": 88,
   "id": "d6a7320e-95b6-48f1-b6de-befb9900df66",
   "metadata": {},
   "outputs": [
    {
     "data": {
      "image/png": "[encoded data removed]",
      "text/plain": [
       "<Figure size 600x600 with 1 Axes>"
      ]
     },
     "metadata": {},
     "output_type": "display_data"
    }
   ],
   "source": [
    "# veamoslo en un mapa\n",
    "fig = plt.figure(figsize=(6, 6))\n",
    "ax = fig.add_subplot(1, 1, 1)\n",
    "\n",
    "lineas_subte.plot(\n",
    "    color=lineas_subte.color, linewidth=lineas_subte.distancia / 80, alpha=0.5, ax=ax\n",
    ")\n",
    "ax.set_axis_off()\n",
    "plt.axis(\"equal\")\n",
    "ax.set_title(\"Distancia entre estaciones de Subte\")\n",
    "fig.savefig(\"plot_distancia_lineas.png\")"
   ]
  }
 ],
 "metadata": {
  "kernelspec": {
   "display_name": "Python 3 (ipykernel)",
   "language": "python",
   "name": "python3"
  },
  "language_info": {
   "codemirror_mode": {
    "name": "ipython",
    "version": 3
   },
   "file_extension": ".py",
   "mimetype": "text/x-python",
   "name": "python",
   "nbconvert_exporter": "python",
   "pygments_lexer": "ipython3",
   "version": "3.11.7"
  }
 },
 "nbformat": 4,
 "nbformat_minor": 5
}
