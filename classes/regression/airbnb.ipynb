{
 "cells": [
  {
   "cell_type": "markdown",
   "metadata": {},
   "source": [
    "# Regresión Espacial\n",
    "\n",
    "La regresión proporciona un caso perfecto para examinar cómo la estructura espacial puede ayudar a comprender y analizar los datos. En este taller, se analiza cómo se puede utilizar la estructura espacial para validar y mejorar los algoritmos de predicción, centrándose específicamente en la regresión lineal.\n",
    "\n",
    "## *¿Qué* es la regresión espacial y *por qué* podría ser importante?\n",
    "\n",
    "Por lo general, la estructura espacial ayuda a los modelos de regresión de dos maneras.\n",
    "\n",
    "La primera forma en la que el espacio puede tener un impacto en los datos es cuando el proceso *que genera* los datos es en sí mismo explícitamente espacial. Se puede pensar en algo así como los precios de las viviendas unifamiliares. A menudo ocurre que las personas pagan una prima sobre el precio de su casa para poder vivir en un mejor distrito escolar por una casa de la misma calidad. Alternativamente, las casas más cercanas a contaminantes acústicos o químicos, como plantas de tratamiento de aguas residuales, instalaciones de reciclaje o autopistas anchas, pueden en realidad ser más baratas de lo que se anticiparía.\n",
    "\n",
    "Independientemente del caso específico en juego, aquí la *geografía es una característica* dado que ayuda directamente a hacer predicciones sobre los resultados *porque esos resultados se obtienen a partir de procesos geográficos*.\n",
    "\n",
    "Otra alternativa para incluir información en el análisis de métodos predictivos y clasificadores, a un analista le puede preocupar que el modelo prediga erróneamente *sistemáticamente* algunos tipos de observaciones. Si se sabe que el modelo rutinariamente funciona mal en un conjunto de observaciones, se podría hacer un modelo mejor si se puede identificar esto. \n",
    "\n",
    " La geografía proporciona una incorporación excepcionalmente útil para evaluar la estructura de nuestros errores. Graficar los errores de clasificación/predicción en un mapa puede ayudar a mostrar si hay o no *grupos de errores* en los datos. Si *se sabe* que los errores tienden a ser mayores en algunas áreas que en otras (o si el error es \"contagioso\" entre observaciones), entonces se podría explotar esta estructura para hacer mejores predicciones.\n",
    "\n",
    "La estructura espacial en nuestros errores puede surgir cuando la geografía *debería ser* un atributo de alguna manera, pero no se está seguro exactamente de cómo incluirla en el modelo. También podrían surgir porque hay alguna *otra* característica cuya omisión causa los patrones espaciales en el error que se observa, si se incluyera esta característica adicional, la estructura desaparecería.\n",
    "\n",
    "O podría surgir de las complejas interacciones e interdependencias entre las características que se han elegido como predictores, lo que da como resultado una estructura intrínseca en la predicción errónea.  La mayoría de los predictores que se utilizan en modelos de procesos sociales contienen información espacial *incorporada*: patrones intrínsecos a la característica que obtenemos de forma gratuita en el modelo.\n",
    "\n",
    "Si se pretende o no, el uso de un predictor con patrones espaciales en un modelo puede dar como resultado errores con patrones espaciales, usar más de uno puede amplificar este efecto. \n",
    "Por lo tanto, *independientemente de si el verdadero proceso es explícitamente geográfico o no*, información adicional sobre las relaciones espaciales entre las observaciones o más información sobre sitios cercanos puede mejorar las predicciones.\n",
    "\n",
    "En este taller, se incorpora el espacio al marco de regresión tradicional. Se comienza con un modelo de regresión lineal estándar, desprovisto de cualquier referencia geográfica. A partir de ahí, se formaliza el espacio y las relaciones espaciales de tres maneras principales: primero, codificándolo en variables exógenas, en segundo lugar, a través de la heterogeneidad espacial o como una variación sistemática de los resultados en el espacio, tercero, como dependencia, o mediante el efecto asociado a las características de los vecinos espaciales. En todo momento, centrándose en las diferencias conceptuales que implica cada enfoque más que en los detalles técnicos."
   ]
  },
  {
   "cell_type": "markdown",
   "metadata": {},
   "source": [
    "## Regresión clásica (no espacial), un repaso muy rápido\n",
    "\n",
    "Antes de discutir cómo incluir explícitamente el espacio en el marco de regresión lineal, se muestra cómo se puede llevar a cabo la regresión básica en Python y cómo se pueden comenzar a interpretar los resultados.\n",
    "\n",
    "La idea central de la regresión lineal es explicar la variación en una variable dada (*dependiente*) como una función lineal de un conjunto de otras variables (*explicatorias*). Por ejemplo, en este caso, se puede querer expresar el precio de una casa en función del número de dormitorios que tiene y de si es condominio o no. A nivel individual, se puede expresar esto como:\n",
    "\n",
    "$$\n",
    "y_i = \\alpha + \\sum_k \\beta_k \\mathbf{X}_{ik}  + \\epsilon_i\n",
    "$$\n",
    "\n",
    "Por ejemplo, en este caso, se puede querer expresar el precio de una casa en función del número de dormitorios que tiene y de si es condominio o no. A nivel individual, se puede expresar esto como:\n",
    "\n",
    "$$\n",
    "P_i = \\alpha + \\sum_k \\beta_k \\mathbf{X}_{ik}  + \\epsilon_i\n",
    "$$\n",
    "\n",
    "donde $P_i$ es el precio de Airbnb de la casa $i$, y $X$ es un conjunto de covariables que se usan para explicar dicho precio (por ejemplo, cantidad de habitaciones y variable binaria de condominio). $\\beta$ es un vector de parámetros que nos dan información sobre de qué manera y en qué medida cada variable está relacionada con el precio, y $\\alpha$, el término constante, es el precio medio de la vivienda cuando todas las demás variables son cero. El término $\\epsilon_i$ generalmente se conoce como \"error\" y captura elementos que influyen en el precio de una casa pero que no están incluidos en $X$.\n",
    "\n",
    "El objetivo cuando se entrena un modelo de regresión es estimar los parámetros $\\alpha$ y $\\beta_k$ para predecir los valores de $y$\n",
    "\n",
    "En la práctica, existen varios paquetes en Python que permiten entrenar modelos de regresión, algunos de estos son:  `statsmodels`, `scikit-learn` y `pysal`. En este taller se hace uso del módulo `spreg` en Pysal:"
   ]
  },
  {
   "cell_type": "markdown",
   "metadata": {},
   "source": [
    "## Dataset: San Diego Airbnb\n",
    "\n",
    "En este taller se examinará información sobre propiedades de Airbnb en San Diego, California en Estados Unidos. Este conjunto de datos se basa en el extracto de San Diego del 2024-03-25 de [Inside Airbnb](http://insideairbnb.com/)."
   ]
  },
  {
   "cell_type": "code",
   "execution_count": 1,
   "metadata": {},
   "outputs": [],
   "source": [
    "from pathlib import Path\n",
    "import requests\n",
    "\n",
    "DATA_PATH = Path().cwd().parent.parent.absolute() / \"data\""
   ]
  },
  {
   "cell_type": "markdown",
   "metadata": {},
   "source": [
    "Listado de propiedades:"
   ]
  },
  {
   "cell_type": "code",
   "execution_count": 2,
   "metadata": {},
   "outputs": [],
   "source": [
    "# Listings\n",
    "\n",
    "url = \"https://data.insideairbnb.com/united-states/\"\\\n",
    "    \"ca/san-diego/2024-03-25/data/listings.csv.gz\"\n",
    "\n",
    "listings_path = DATA_PATH / \"listings.csv.gz\"\n",
    "\n",
    "response = requests.get(url)\n",
    "\n",
    "with open(listings_path, \"wb\") as file:\n",
    "    file.write(response.content)"
   ]
  },
  {
   "cell_type": "markdown",
   "metadata": {},
   "source": [
    "Vecindarios"
   ]
  },
  {
   "cell_type": "code",
   "execution_count": 3,
   "metadata": {},
   "outputs": [],
   "source": [
    "url =  \"https://data.insideairbnb.com/united-states\"\\\n",
    "    \"ca/san-diego/2024-03-25/visualisations/neighbourhoods.geojson\"\n",
    "\n",
    "neighbourhoods_path = DATA_PATH / \"neighbourhoods.geojson\"\n",
    "\n",
    "response = requests.get(url)\n",
    "\n",
    "with open(neighbourhoods_path, \"wb\") as file:\n",
    "    file.write(response.content)"
   ]
  },
  {
   "cell_type": "markdown",
   "metadata": {},
   "source": [
    "Configuración de variables"
   ]
  },
  {
   "cell_type": "code",
   "execution_count": 4,
   "metadata": {},
   "outputs": [],
   "source": [
    "import ast\n",
    "import matplotlib.pyplot as plt\n",
    "import numpy as np\n",
    "import pandas as pd"
   ]
  },
  {
   "cell_type": "code",
   "execution_count": 5,
   "metadata": {},
   "outputs": [],
   "source": [
    "listings = pd.read_csv(listings_path)"
   ]
  },
  {
   "cell_type": "code",
   "execution_count": 6,
   "metadata": {},
   "outputs": [
    {
     "name": "stdout",
     "output_type": "stream",
     "text": [
      "Total columns: 75\n",
      "\n",
      "id\n",
      "listing_url\n",
      "scrape_id\n",
      "last_scraped\n",
      "source\n",
      "name\n",
      "description\n",
      "neighborhood_overview\n",
      "picture_url\n",
      "host_id\n",
      "host_url\n",
      "host_name\n",
      "host_since\n",
      "host_location\n",
      "host_about\n",
      "host_response_time\n",
      "host_response_rate\n",
      "host_acceptance_rate\n",
      "host_is_superhost\n",
      "host_thumbnail_url\n",
      "host_picture_url\n",
      "host_neighbourhood\n",
      "host_listings_count\n",
      "host_total_listings_count\n",
      "host_verifications\n",
      "host_has_profile_pic\n",
      "host_identity_verified\n",
      "neighbourhood\n",
      "neighbourhood_cleansed\n",
      "neighbourhood_group_cleansed\n",
      "latitude\n",
      "longitude\n",
      "property_type\n",
      "room_type\n",
      "accommodates\n",
      "bathrooms\n",
      "bathrooms_text\n",
      "bedrooms\n",
      "beds\n",
      "amenities\n",
      "price\n",
      "minimum_nights\n",
      "maximum_nights\n",
      "minimum_minimum_nights\n",
      "maximum_minimum_nights\n",
      "minimum_maximum_nights\n",
      "maximum_maximum_nights\n",
      "minimum_nights_avg_ntm\n",
      "maximum_nights_avg_ntm\n",
      "calendar_updated\n",
      "has_availability\n",
      "availability_30\n",
      "availability_60\n",
      "availability_90\n",
      "availability_365\n",
      "calendar_last_scraped\n",
      "number_of_reviews\n",
      "number_of_reviews_ltm\n",
      "number_of_reviews_l30d\n",
      "first_review\n",
      "last_review\n",
      "review_scores_rating\n",
      "review_scores_accuracy\n",
      "review_scores_cleanliness\n",
      "review_scores_checkin\n",
      "review_scores_communication\n",
      "review_scores_location\n",
      "review_scores_value\n",
      "license\n",
      "instant_bookable\n",
      "calculated_host_listings_count\n",
      "calculated_host_listings_count_entire_homes\n",
      "calculated_host_listings_count_private_rooms\n",
      "calculated_host_listings_count_shared_rooms\n",
      "reviews_per_month\n"
     ]
    }
   ],
   "source": [
    "print(f\"Total columns: {listings.shape[1]}\\n\")\n",
    "\n",
    "for column in listings.columns:\n",
    "    print(column)"
   ]
  },
  {
   "cell_type": "markdown",
   "metadata": {},
   "source": [
    "Columnas de interés:\n",
    "\n",
    "* accommodates: Cantidad de personas que puede acoger\n",
    "* amenities: Comodidades que ofrece el alojamiento\n",
    "* bathrooms: Cantidad de baños\n",
    "* bedrooms: Cantidad de cuantos\n",
    "* beds: Cantidad de camas disponibles\n",
    "* latitude: Latitud\n",
    "* Longitude: Longitud\n",
    "* neighbourhood_cleansed: Vecindario\n",
    "* property_type: Tipo de propiedad\n",
    "* price: Precio del alojamiento (variable objetivo)\n",
    "* room_type: Tipo de habitación"
   ]
  },
  {
   "cell_type": "code",
   "execution_count": 7,
   "metadata": {},
   "outputs": [
    {
     "name": "stdout",
     "output_type": "stream",
     "text": [
      "<class 'pandas.core.frame.DataFrame'>\n",
      "RangeIndex: 11496 entries, 0 to 11495\n",
      "Data columns (total 10 columns):\n",
      " #   Column                  Non-Null Count  Dtype  \n",
      "---  ------                  --------------  -----  \n",
      " 0   accommodates            11496 non-null  int64  \n",
      " 1   amenities               11496 non-null  object \n",
      " 2   bathrooms               11229 non-null  float64\n",
      " 3   beds                    11203 non-null  float64\n",
      " 4   latitude                11496 non-null  float64\n",
      " 5   longitude               11496 non-null  float64\n",
      " 6   neighbourhood_cleansed  11496 non-null  object \n",
      " 7   property_type           11496 non-null  object \n",
      " 8   price                   11230 non-null  object \n",
      " 9   room_type               11496 non-null  object \n",
      "dtypes: float64(4), int64(1), object(5)\n",
      "memory usage: 898.3+ KB\n"
     ]
    }
   ],
   "source": [
    "listings = listings[\n",
    "    [\n",
    "        \"accommodates\",\n",
    "        \"amenities\",\n",
    "        \"bathrooms\",\n",
    "        \"beds\",\n",
    "        \"latitude\",\n",
    "        \"longitude\",\n",
    "        \"neighbourhood_cleansed\",\n",
    "        \"property_type\",\n",
    "        \"price\",\n",
    "        \"room_type\"\n",
    "    ]\n",
    "]\n",
    "\n",
    "listings.info()"
   ]
  },
  {
   "cell_type": "markdown",
   "metadata": {},
   "source": [
    "Variable dependiente: Precio"
   ]
  },
  {
   "cell_type": "code",
   "execution_count": 8,
   "metadata": {},
   "outputs": [
    {
     "data": {
      "text/plain": [
       "0    $274.00\n",
       "1    $231.00\n",
       "2    $163.00\n",
       "3     $87.00\n",
       "4    $102.00\n",
       "5    $179.00\n",
       "6     $71.00\n",
       "7    $226.00\n",
       "8    $914.00\n",
       "9    $811.00\n",
       "Name: price, dtype: object"
      ]
     },
     "execution_count": 8,
     "metadata": {},
     "output_type": "execute_result"
    }
   ],
   "source": [
    "listings[\"price\"].head(10)"
   ]
  },
  {
   "cell_type": "code",
   "execution_count": 9,
   "metadata": {},
   "outputs": [],
   "source": [
    "listings[\"price\"] = listings[\"price\"].str.lstrip(\"$\").str.replace(\",\", \"\").astype(float)"
   ]
  },
  {
   "cell_type": "code",
   "execution_count": 10,
   "metadata": {},
   "outputs": [
    {
     "data": {
      "image/png": "[encoded data removed]",
      "text/plain": [
       "<Figure size 1200x900 with 1 Axes>"
      ]
     },
     "metadata": {},
     "output_type": "display_data"
    }
   ],
   "source": [
    "fig, ax = plt.subplots(figsize=(8, 6), dpi=150)\n",
    "ax.hist(listings[\"price\"], density=True, bins=100)\n",
    "ax.set(\n",
    "    ylabel=\"Density\",\n",
    "    xlabel=\"Price [$]\"\n",
    ")\n",
    "plt.show()"
   ]
  },
  {
   "cell_type": "markdown",
   "metadata": {},
   "source": [
    "En Machine Learning, se puede utilizar tranformación de las variables para normalizar datos, reducir el impacto de valores atípicos y hacer que los datos sean más adecuados para ciertos tipos de análisis. En este caso, se aplica una transformación logarítmica para reducir la escala del precio."
   ]
  },
  {
   "cell_type": "code",
   "execution_count": 11,
   "metadata": {},
   "outputs": [],
   "source": [
    "listings[\"log_price\"] = np.log(listings[\"price\"])"
   ]
  },
  {
   "cell_type": "code",
   "execution_count": 12,
   "metadata": {},
   "outputs": [
    {
     "data": {
      "image/png": "[encoded data removed]",
      "text/plain": [
       "<Figure size 1200x900 with 1 Axes>"
      ]
     },
     "metadata": {},
     "output_type": "display_data"
    }
   ],
   "source": [
    "fig, ax = plt.subplots(figsize=(8, 6), dpi=150)\n",
    "ax.hist(listings[\"log_price\"], density=True, bins=50)\n",
    "ax.set(\n",
    "    ylabel=\"Density\",\n",
    "    xlabel=\"Log Price\"\n",
    ")\n",
    "plt.show()"
   ]
  },
  {
   "cell_type": "markdown",
   "metadata": {},
   "source": [
    "Amenities"
   ]
  },
  {
   "cell_type": "code",
   "execution_count": 13,
   "metadata": {},
   "outputs": [
    {
     "name": "stdout",
     "output_type": "stream",
     "text": [
      "[\"Free dryer \\u2013 In unit\", \"Cooking basics\", \"Children\\u2019s dinnerware\", \"Laundromat nearby\", \"Oven\", \"Coffee\", \"Ethernet connection\", \"Fire pit\", \"Baby monitor\", \"Blender\", \"Children's playroom\", \"Wine glasses\", \"Private backyard \\u2013 Fully fenced\", \"Central air conditioning\", \"Dishes and silverware\", \"Private entrance\", \"Bed linens\", \"Smoke alarm\", \"Coffee maker: Keurig coffee machine, pour-over coffee\", \"Toaster\", \"Wifi\", \"Free parking on premises\", \"Ceiling fan\", \"Luggage dropoff allowed\", \"Cleaning products\", \"Shower gel\", \"Children\\u2019s bikes\", \"Portable fans\", \"Extra pillows and blankets\", \"Children\\u2019s books and toys\", \"Self check-in\", \"Essentials\", \"Iron\", \"Microwave\", \"First aid kit\", \"75\\\" HDTV with Amazon Prime Video, Apple TV, Disney+, HBO Max, Hulu, Netflix\", \"Pack \\u2019n play/Travel crib - available upon request\", \"Dishwasher\", \"Freezer\", \"Heating\", \"Hot water\", \"Barbecue utensils\", \"Bathtub\", \"Hair dryer\", \"Books and reading material\", \"Pets allowed\", \"Crib\", \"Dedicated workspace\", \"Beach essentials\", \"Security cameras on property\", \"Carbon monoxide alarm\", \"Dining table\", \"Conditioner\", \"High chair\", \"Shampoo\", \"Exercise equipment: free weights, stationary bike\", \"Fireplace guards\", \"Babysitter recommendations\", \"Board games\", \"Baking sheet\", \"LG refrigerator\", \"Keypad\", \"Kitchen\", \"GE gas stove\", \"Free washer \\u2013 In unit\", \"Free street parking\", \"Game console: Xbox One\", \"Fire extinguisher\", \"Outdoor furniture\", \"Body soap\", \"Mini fridge\", \"Hangers\", \"Private BBQ grill: gas\"]\n",
      "[\"Heating\", \"Hot water\", \"Pack \\u2019n play/Travel crib\", \"Washer\", \"Hair dryer\", \"Patio or balcony\", \"Kitchen\", \"TV with standard cable\", \"Long term stays allowed\", \"Dryer\", \"Fire extinguisher\", \"Essentials\", \"Iron\", \"Carbon monoxide alarm\", \"First aid kit\", \"Free parking on premises\", \"Shampoo\", \"Smoke alarm\", \"Hangers\", \"Wifi\"]\n",
      "[\"GE refrigerator\", \"Cooking basics\", \"Laundromat nearby\", \"Coffee\", \"Private patio or balcony\", \"Blender\", \"Exercise equipment: free weights, yoga mat\", \"Outdoor shower\", \"Hangers\", \"Central heating\", \"Dishes and silverware\", \"Cuisinart Chef's Convection Toaster Oven:  bake-roast-dual cook, leftovers. Outdoor setup only electric stove\", \"Cuisinart, Ninja Outdoor Grill, Ninja Air Fryer stainless steel oven\", \"Wine glasses\", \"Private entrance\", \"Bed linens\", \"Private backyard \\u2013 Fully fenced\", \"Kirkland conditioner\", \"Garden view\", \"Smoke alarm\", \"Coffee maker: Keurig coffee machine\", \"Outdoor dining area\", \"Ceiling fan\", \"Luggage dropoff allowed\", \"Cleaning products\", \"Clothing storage: closet and dresser\", \"Courtyard view\", \"Hot water kettle\", \"Neutrogena RainBath body soap\", \"Shower gel\", \"32\\\" HDTV with Amazon Prime Video, Fire TV, Hulu, Netflix, premium cable, Roku\", \"Fast wifi \\u2013 333 Mbps\", \"Extra pillows and blankets\", \"Long term stays allowed\", \"Self check-in\", \"Essentials\", \"Iron\", \"Microwave\", \"First aid kit\", \"Dishwasher\", \"Portable heater\", \"Freezer\", \"Barbecue utensils\", \"Hot water\", \"Private outdoor kitchen\", \"Books and reading material\", \"Hair dryer\", \"L'oreal, Kirkland, Dr. Bronner's Castile shampoo\", \"Sun loungers\", \"Paid washer \\u2013 In unit\", \"Single level home\", \"Paid dryer \\u2013 In unit\", \"Dedicated workspace\", \"Beach essentials\", \"Carbon monoxide alarm\", \"Dining table\", \"Private BBQ grill: electric, gas\", \"Kitchenette\", \"Board games\", \"Safe\", \"Public or shared beach access\", \"Keypad\", \"Free street parking\", \"Rice maker\", \"Outdoor furniture\", \"Mini fridge\", \"Room-darkening shades\", \"Piano\"]\n",
      "[\"Private patio or balcony\", \"Hangers\", \"Private backyard \\u2013 Fully fenced\", \"Dishes and silverware\", \"Private entrance\", \"Refrigerator\", \"Bed linens\", \"Outdoor dining area\", \"Smoke alarm\", \"Luggage dropoff allowed\", \"Wifi\", \"Ceiling fan\", \"Air conditioning\", \"Cleaning products\", \"Shower gel\", \"Extra pillows and blankets\", \"Essentials\", \"Iron\", \"Microwave\", \"Portable heater\", \"Hot water\", \"Hair dryer\", \"Single level home\", \"BBQ grill\", \"Dedicated workspace\", \"Free parking on premises\", \"Carbon monoxide alarm\", \"Conditioner\", \"Shampoo\", \"Free street parking\", \"Body soap\", \"Mini fridge\", \"Room-darkening shades\"]\n",
      "[\"Laundromat nearby\", \"Coffee\", \"HDTV with Amazon Prime Video, HBO Max, Hulu, Netflix\", \"Bluetooth sound system\", \"Hangers\", \"Wine glasses\", \"Dishes and silverware\", \"Private entrance\", \"Refrigerator\", \"Bed linens\", \"Window AC unit\", \"Smoke alarm\", \"Luggage dropoff allowed\", \"Clothing storage: wardrobe\", \"Wifi\", \"Cleaning products\", \"Bikes\", \"Shower gel\", \"Portable fans\", \"Extra pillows and blankets\", \"Essentials\", \"Iron\", \"Microwave\", \"First aid kit\", \"Portable heater\", \"Hot water\", \"Hair dryer\", \"Shared patio or balcony\", \"Dedicated workspace\", \"Beach essentials\", \"Security cameras on property\", \"Carbon monoxide alarm\", \"Conditioner\", \"Shampoo\", \"Coffee maker: Keurig coffee machine, Nespresso\", \"Free street parking\", \"Outdoor furniture\", \"Body soap\", \"Mini fridge\", \"Room-darkening shades\"]\n",
      "[\"Cooking basics\", \"Fire pit\", \"Dishes and silverware\", \"Private entrance\", \"Refrigerator\", \"Bed linens\", \"Outdoor dining area\", \"Smoke alarm\", \"Wifi\", \"Air conditioning\", \"Private hot tub\", \"Patio or balcony\", \"TV with Hulu, Netflix\", \"Extra pillows and blankets\", \"Stove\", \"Self check-in\", \"Essentials\", \"Iron\", \"Microwave\", \"Heating\", \"Hot water\", \"Pack \\u2019n play/Travel crib\", \"Bathtub\", \"Hair dryer\", \"BBQ grill\", \"Beach essentials\", \"Free parking on premises\", \"Security cameras on property\", \"Carbon monoxide alarm\", \"Conditioner\", \"High chair\", \"Shampoo\", \"Coffee maker\", \"Backyard\", \"Keypad\", \"Free street parking\", \"Fire extinguisher\", \"Outdoor furniture\", \"Hangers\"]\n",
      "[\"Cooking basics\", \"Private patio or balcony\", \"Hangers\", \"44\\\" TV with Amazon Prime Video, Chromecast, HBO Max, Netflix, premium cable, standard cable\", \"Dishes and silverware\", \"Private entrance\", \"Refrigerator\", \"Bed linens\", \"Smoke alarm\", \"Luggage dropoff allowed\", \"Wifi\", \"Air conditioning\", \"Extra pillows and blankets\", \"Dryer\", \"Stove\", \"Essentials\", \"Iron\", \"Microwave\", \"Dishwasher\", \"Heating\", \"Hot water\", \"Hair dryer\", \"Pets allowed\", \"BBQ grill\", \"Free parking on premises\", \"Carbon monoxide alarm\", \"Shampoo\", \"Coffee maker\", \"Washer \\u2013\\u00a0In building\", \"Backyard\", \"Kitchen\", \"Free street parking\", \"Cleaning available during stay\", \"Room-darkening shades\"]\n",
      "[\"Free dryer \\u2013 In unit\", \"Cooking basics\", \"55\\\" HDTV with standard cable\", \"Oven\", \"Private patio or balcony\", \"Blender\", \"Hangers\", \"Wine glasses\", \"Central air conditioning\", \"Dishes and silverware\", \"Private entrance\", \"Private backyard \\u2013 Fully fenced\", \"Refrigerator\", \"Bed linens\", \"Outdoor dining area\", \"Garden view\", \"Smoke alarm\", \"Toaster\", \"Wifi\", \"Ceiling fan\", \"Clothing storage: closet and dresser\", \"Hot water kettle\", \"Shower gel\", \"Extra pillows and blankets\", \"Long term stays allowed\", \"Self check-in\", \"Essentials\", \"Iron\", \"Microwave\", \"First aid kit\", \"Dishwasher\", \"Heating\", \"Hot water\", \"Hair dryer\", \"Pets allowed\", \"BBQ grill\", \"Dedicated workspace\", \"Security cameras on property\", \"Carbon monoxide alarm\", \"Dining table\", \"Conditioner\", \"Shampoo\", \"Coffee maker\", \"Keypad\", \"Kitchen\", \"Free washer \\u2013 In unit\", \"Free street parking\", \"Fire extinguisher\", \"Gas stove\", \"Outdoor furniture\", \"Body soap\", \"Room-darkening shades\"]\n",
      "[\"Pool view\", \"TV with standard cable\", \"Refrigerator\", \"Outdoor dining area\", \"Smoke alarm\", \"Wifi\", \"Breakfast\", \"Air conditioning\", \"Private hot tub\", \"Patio or balcony\", \"Dryer\", \"Self check-in\", \"Essentials\", \"Iron\", \"Marina view\", \"Sea view\", \"Private outdoor pool - available all year, open 24 hours, saltwater\", \"Heating\", \"Bay view\", \"Ocean view\", \"Hair dryer\", \"Washer\", \"Pets allowed\", \"BBQ grill\", \"Crib\", \"Free parking on premises\", \"Carbon monoxide alarm\", \"High chair\", \"Shampoo\", \"Harbor view\", \"Keypad\", \"Kitchen\", \"Beach view\", \"Outdoor furniture\", \"Indoor fireplace\", \"Hangers\"]\n",
      "[\"Cooking basics\", \"Private patio or balcony\", \"TV with standard cable\", \"Wine glasses\", \"Canal view\", \"Dishes and silverware\", \"Private backyard \\u2013 Fully fenced\", \"Refrigerator\", \"Bed linens\", \"Outdoor dining area\", \"Smoke alarm\", \"Coffee maker: Keurig coffee machine\", \"Toaster\", \"Wifi\", \"Air conditioning\", \"City skyline view\", \"Private hot tub\", \"Dryer\", \"Self check-in\", \"Essentials\", \"Iron\", \"Microwave\", \"Marina view\", \"Sea view\", \"Dishwasher\", \"Crib - always at the listing\", \"Bay view\", \"Heating\", \"Ocean view\", \"Hair dryer\", \"Washer\", \"Pets allowed\", \"Sun loungers\", \"BBQ grill\", \"Free parking on premises\", \"Carbon monoxide alarm\", \"Dining table\", \"Shampoo\", \"Harbor view\", \"Keypad\", \"Kitchen\", \"Standalone high chair - always at the listing\", \"Free street parking\", \"Beach view\", \"Gas stove\", \"Outdoor furniture\", \"Body soap\", \"Private pool\", \"Hangers\"]\n"
     ]
    }
   ],
   "source": [
    "for amenity in listings[\"amenities\"].unique()[:10]:\n",
    "    print(amenity)"
   ]
  },
  {
   "cell_type": "code",
   "execution_count": 14,
   "metadata": {},
   "outputs": [],
   "source": [
    "# Convert string in lists\n",
    "listings[\"amenities\"] = listings[\"amenities\"].apply(ast.literal_eval)"
   ]
  },
  {
   "cell_type": "code",
   "execution_count": 15,
   "metadata": {},
   "outputs": [
    {
     "data": {
      "text/plain": [
       "['Free dryer – In unit',\n",
       " 'Cooking basics',\n",
       " 'Children’s dinnerware',\n",
       " 'Laundromat nearby',\n",
       " 'Oven',\n",
       " 'Coffee',\n",
       " 'Ethernet connection',\n",
       " 'Fire pit',\n",
       " 'Baby monitor',\n",
       " 'Blender',\n",
       " \"Children's playroom\",\n",
       " 'Wine glasses',\n",
       " 'Private backyard – Fully fenced',\n",
       " 'Central air conditioning',\n",
       " 'Dishes and silverware',\n",
       " 'Private entrance',\n",
       " 'Bed linens',\n",
       " 'Smoke alarm',\n",
       " 'Coffee maker: Keurig coffee machine, pour-over coffee',\n",
       " 'Toaster',\n",
       " 'Wifi',\n",
       " 'Free parking on premises',\n",
       " 'Ceiling fan',\n",
       " 'Luggage dropoff allowed',\n",
       " 'Cleaning products',\n",
       " 'Shower gel',\n",
       " 'Children’s bikes',\n",
       " 'Portable fans',\n",
       " 'Extra pillows and blankets',\n",
       " 'Children’s books and toys',\n",
       " 'Self check-in',\n",
       " 'Essentials',\n",
       " 'Iron',\n",
       " 'Microwave',\n",
       " 'First aid kit',\n",
       " '75\" HDTV with Amazon Prime Video, Apple TV, Disney+, HBO Max, Hulu, Netflix',\n",
       " 'Pack ’n play/Travel crib - available upon request',\n",
       " 'Dishwasher',\n",
       " 'Freezer',\n",
       " 'Heating',\n",
       " 'Hot water',\n",
       " 'Barbecue utensils',\n",
       " 'Bathtub',\n",
       " 'Hair dryer',\n",
       " 'Books and reading material',\n",
       " 'Pets allowed',\n",
       " 'Crib',\n",
       " 'Dedicated workspace',\n",
       " 'Beach essentials',\n",
       " 'Security cameras on property',\n",
       " 'Carbon monoxide alarm',\n",
       " 'Dining table',\n",
       " 'Conditioner',\n",
       " 'High chair',\n",
       " 'Shampoo',\n",
       " 'Exercise equipment: free weights, stationary bike',\n",
       " 'Fireplace guards',\n",
       " 'Babysitter recommendations',\n",
       " 'Board games',\n",
       " 'Baking sheet',\n",
       " 'LG refrigerator',\n",
       " 'Keypad',\n",
       " 'Kitchen',\n",
       " 'GE gas stove',\n",
       " 'Free washer – In unit',\n",
       " 'Free street parking',\n",
       " 'Game console: Xbox One',\n",
       " 'Fire extinguisher',\n",
       " 'Outdoor furniture',\n",
       " 'Body soap',\n",
       " 'Mini fridge',\n",
       " 'Hangers',\n",
       " 'Private BBQ grill: gas']"
      ]
     },
     "execution_count": 15,
     "metadata": {},
     "output_type": "execute_result"
    }
   ],
   "source": [
    "listings[\"amenities\"][0]"
   ]
  },
  {
   "cell_type": "code",
   "execution_count": 16,
   "metadata": {},
   "outputs": [],
   "source": [
    "listings[\"has_pool\"] = listings[\"amenities\"].apply(lambda x: any(\"pool\" in amenity.lower() for amenity in x))"
   ]
  },
  {
   "cell_type": "code",
   "execution_count": 22,
   "metadata": {},
   "outputs": [
    {
     "data": {
      "text/plain": [
       "0    False\n",
       "1    False\n",
       "2    False\n",
       "3    False\n",
       "4    False\n",
       "Name: has_pool, dtype: bool"
      ]
     },
     "execution_count": 22,
     "metadata": {},
     "output_type": "execute_result"
    }
   ],
   "source": [
    "listings[\"has_pool\"].head()"
   ]
  },
  {
   "cell_type": "code",
   "execution_count": 24,
   "metadata": {},
   "outputs": [
    {
     "name": "stdout",
     "output_type": "stream",
     "text": [
      "Number of properties with pool: 2249\n"
     ]
    }
   ],
   "source": [
    "print(f\"Number of properties with pool: {listings['has_pool'].sum()}\")"
   ]
  }
 ],
 "metadata": {
  "kernelspec": {
   "display_name": "spatial-statistics-course-6R9uGqmC-py3.11",
   "language": "python",
   "name": "python3"
  },
  "language_info": {
   "codemirror_mode": {
    "name": "ipython",
    "version": 3
   },
   "file_extension": ".py",
   "mimetype": "text/x-python",
   "name": "python",
   "nbconvert_exporter": "python",
   "pygments_lexer": "ipython3",
   "version": "3.11.7"
  }
 },
 "nbformat": 4,
 "nbformat_minor": 2
}
