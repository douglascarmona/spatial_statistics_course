{
 "cells": [
  {
   "cell_type": "markdown",
   "metadata": {},
   "source": [
    "# Regresión Espacial\n",
    "\n",
    "La regresión proporciona un caso perfecto para examinar cómo la estructura espacial puede ayudar a comprender y analizar los datos. En este taller, se analiza cómo se puede utilizar la estructura espacial para validar y mejorar los algoritmos de predicción, centrándose específicamente en la regresión lineal.\n",
    "\n",
    "## *¿Qué* es la regresión espacial y *por qué* podría ser importante?\n",
    "\n",
    "Por lo general, la estructura espacial ayuda a los modelos de regresión de dos maneras.\n",
    "\n",
    "La primera forma en la que el espacio puede tener un impacto en los datos es cuando el proceso *que genera* los datos es en sí mismo explícitamente espacial. Se puede pensar en algo así como los precios de las viviendas unifamiliares. A menudo ocurre que las personas pagan una prima sobre el precio de su casa para poder vivir en un mejor distrito escolar por una casa de la misma calidad. Alternativamente, las casas más cercanas a contaminantes acústicos o químicos, como plantas de tratamiento de aguas residuales, instalaciones de reciclaje o autopistas anchas, pueden en realidad ser más baratas de lo que se anticiparía.\n",
    "\n",
    "Independientemente del caso específico en juego, aquí la *geografía es una característica* dado que ayuda directamente a hacer predicciones sobre los resultados *porque esos resultados se obtienen a partir de procesos geográficos*.\n",
    "\n",
    "Otra alternativa para incluir información en el análisis de métodos predictivos y clasificadores, a un analista le puede preocupar que el modelo prediga erróneamente *sistemáticamente* algunos tipos de observaciones. Si se sabe que el modelo rutinariamente funciona mal en un conjunto de observaciones, se podría hacer un modelo mejor si se puede identificar esto. \n",
    "\n",
    " La geografía proporciona una incorporación excepcionalmente útil para evaluar la estructura de nuestros errores. Graficar los errores de clasificación/predicción en un mapa puede ayudar a mostrar si hay o no *grupos de errores* en los datos. Si *se sabe* que los errores tienden a ser mayores en algunas áreas que en otras (o si el error es \"contagioso\" entre observaciones), entonces se podría explotar esta estructura para hacer mejores predicciones.\n",
    "\n",
    "La estructura espacial en nuestros errores puede surgir cuando la geografía *debería ser* un atributo de alguna manera, pero no se está seguro exactamente de cómo incluirla en el modelo. También podrían surgir porque hay alguna *otra* característica cuya omisión causa los patrones espaciales en el error que se observa, si se incluyera esta característica adicional, la estructura desaparecería.\n",
    "\n",
    "O podría surgir de las complejas interacciones e interdependencias entre las características que se han elegido como predictores, lo que da como resultado una estructura intrínseca en la predicción errónea.  La mayoría de los predictores que se utilizan en modelos de procesos sociales contienen información espacial *incorporada*: patrones intrínsecos a la característica que obtenemos de forma gratuita en el modelo.\n",
    "\n",
    "Si se pretende o no, el uso de un predictor con patrones espaciales en un modelo puede dar como resultado errores con patrones espaciales, usar más de uno puede amplificar este efecto. \n",
    "Por lo tanto, *independientemente de si el verdadero proceso es explícitamente geográfico o no*, información adicional sobre las relaciones espaciales entre las observaciones o más información sobre sitios cercanos puede mejorar las predicciones.\n",
    "\n",
    "En este taller, se incorpora el espacio al marco de regresión tradicional. Se comienza con un modelo de regresión lineal estándar, desprovisto de cualquier referencia geográfica. A partir de ahí, se formaliza el espacio y las relaciones espaciales de tres maneras principales: primero, codificándolo en variables exógenas, en segundo lugar, a través de la heterogeneidad espacial o como una variación sistemática de los resultados en el espacio, tercero, como dependencia, o mediante el efecto asociado a las características de los vecinos espaciales. En todo momento, centrándose en las diferencias conceptuales que implica cada enfoque más que en los detalles técnicos."
   ]
  },
  {
   "cell_type": "markdown",
   "metadata": {},
   "source": [
    "## Regresión clásica (no espacial), un repaso muy rápido\n",
    "\n",
    "Antes de discutir cómo incluir explícitamente el espacio en el marco de regresión lineal, se muestra cómo se puede llevar a cabo la regresión básica en Python y cómo se pueden comenzar a interpretar los resultados.\n",
    "\n",
    "La idea central de la regresión lineal es explicar la variación en una variable dada (*dependiente*) como una función lineal de un conjunto de otras variables (*explicatorias*). Por ejemplo, en este caso, se puede querer expresar el precio de una casa en función del número de dormitorios que tiene y de si es condominio o no. A nivel individual, se puede expresar esto como:\n",
    "\n",
    "$$\n",
    "y_i = \\alpha + \\sum_k \\beta_k \\mathbf{X}_{ik}  + \\epsilon_i\n",
    "$$\n",
    "\n",
    "Por ejemplo, en este caso, se puede querer expresar el precio de una casa en función del número de dormitorios que tiene y de si es condominio o no. A nivel individual, se puede expresar esto como:\n",
    "\n",
    "$$\n",
    "P_i = \\alpha + \\sum_k \\beta_k \\mathbf{X}_{ik}  + \\epsilon_i\n",
    "$$\n",
    "\n",
    "donde $P_i$ es el precio de Airbnb de la casa $i$, y $X$ es un conjunto de covariables que se usan para explicar dicho precio (por ejemplo, cantidad de habitaciones y variable binaria de condominio). $\\beta$ es un vector de parámetros que nos dan información sobre de qué manera y en qué medida cada variable está relacionada con el precio, y $\\alpha$, el término constante, es el precio medio de la vivienda cuando todas las demás variables son cero. El término $\\epsilon_i$ generalmente se conoce como \"error\" y captura elementos que influyen en el precio de una casa pero que no están incluidos en $X$.\n",
    "\n",
    "El objetivo cuando se entrena un modelo de regresión es estimar los parámetros $\\alpha$ y $\\beta_k$ para predecir los valores de $y$\n",
    "\n",
    "En la práctica, existen varios paquetes en Python que permiten entrenar modelos de regresión, algunos de estos son:  `statsmodels`, `scikit-learn` y `pysal`."
   ]
  },
  {
   "cell_type": "markdown",
   "metadata": {},
   "source": [
    "## Dataset: San Diego Airbnb\n",
    "\n",
    "En este taller se examinará información sobre propiedades de Airbnb en San Diego, California en Estados Unidos. Este conjunto de datos se basa en el extracto de San Diego del 2024-03-25 de [Inside Airbnb](http://insideairbnb.com/)."
   ]
  },
  {
   "cell_type": "code",
   "execution_count": 1,
   "metadata": {},
   "outputs": [],
   "source": [
    "from pathlib import Path\n",
    "import requests\n",
    "\n",
    "DATA_PATH = Path().cwd().parent.parent.absolute() / \"data/airbnb\""
   ]
  },
  {
   "cell_type": "markdown",
   "metadata": {},
   "source": [
    "### Listado de propiedades:"
   ]
  },
  {
   "cell_type": "code",
   "execution_count": 2,
   "metadata": {},
   "outputs": [],
   "source": [
    "# Listings\n",
    "\n",
    "url = \"https://data.insideairbnb.com/united-states/\"\\\n",
    "    \"ca/san-diego/2024-03-25/data/listings.csv.gz\"\n",
    "\n",
    "listings_path = DATA_PATH / \"listings.csv.gz\"\n",
    "\n",
    "response = requests.get(url)\n",
    "\n",
    "with open(listings_path, \"wb\") as file:\n",
    "    file.write(response.content)"
   ]
  },
  {
   "cell_type": "markdown",
   "metadata": {},
   "source": [
    "### Vecindarios"
   ]
  },
  {
   "cell_type": "code",
   "execution_count": 3,
   "metadata": {},
   "outputs": [],
   "source": [
    "# Neighbourhoods\n",
    "\n",
    "url =  \"https://data.insideairbnb.com/united-states/\"\\\n",
    "    \"ca/san-diego/2024-03-25/visualisations/neighbourhoods.geojson\"\n",
    "\n",
    "neighbourhoods_path = DATA_PATH / \"neighbourhoods.geojson\"\n",
    "\n",
    "response = requests.get(url)\n",
    "\n",
    "with open(neighbourhoods_path, \"wb\") as file:\n",
    "    file.write(response.content)"
   ]
  },
  {
   "cell_type": "markdown",
   "metadata": {},
   "source": [
    "#### Feature engineering"
   ]
  },
  {
   "cell_type": "code",
   "execution_count": 4,
   "metadata": {},
   "outputs": [],
   "source": [
    "import json\n",
    "\n",
    "import matplotlib.pyplot as plt\n",
    "import numpy as np\n",
    "import pandas as pd"
   ]
  },
  {
   "cell_type": "code",
   "execution_count": 5,
   "metadata": {},
   "outputs": [],
   "source": [
    "listings = pd.read_csv(listings_path)"
   ]
  },
  {
   "cell_type": "code",
   "execution_count": 6,
   "metadata": {},
   "outputs": [
    {
     "data": {
      "text/plain": [
       "(11496, 75)"
      ]
     },
     "execution_count": 6,
     "metadata": {},
     "output_type": "execute_result"
    }
   ],
   "source": [
    "listings.shape"
   ]
  },
  {
   "cell_type": "markdown",
   "metadata": {},
   "source": [
    "#### Columnas de interés:\n",
    "\n",
    "* accommodates: Cantidad de personas que puede acoger\n",
    "* amenities: Comodidades que ofrece el alojamiento\n",
    "* bathrooms: Cantidad de baños\n",
    "* bedrooms: Cantidad de cuantos\n",
    "* beds: Cantidad de camas disponibles\n",
    "* latitude: Latitud\n",
    "* Longitude: Longitud\n",
    "* neighbourhood_cleansed: Vecindario\n",
    "* price: Precio del alojamiento (variable objetivo)\n",
    "* room_type: Tipo de habitación"
   ]
  },
  {
   "cell_type": "code",
   "execution_count": 7,
   "metadata": {},
   "outputs": [
    {
     "name": "stdout",
     "output_type": "stream",
     "text": [
      "<class 'pandas.core.frame.DataFrame'>\n",
      "RangeIndex: 11496 entries, 0 to 11495\n",
      "Data columns (total 8 columns):\n",
      " #   Column         Non-Null Count  Dtype  \n",
      "---  ------         --------------  -----  \n",
      " 0   accommodates   11496 non-null  int64  \n",
      " 1   amenities      11496 non-null  object \n",
      " 2   bathrooms      11229 non-null  float64\n",
      " 3   beds           11203 non-null  float64\n",
      " 4   latitude       11496 non-null  float64\n",
      " 5   longitude      11496 non-null  float64\n",
      " 6   neighbourhood  11496 non-null  object \n",
      " 7   price          11230 non-null  object \n",
      "dtypes: float64(4), int64(1), object(3)\n",
      "memory usage: 718.6+ KB\n"
     ]
    }
   ],
   "source": [
    "listings = listings[\n",
    "    [\n",
    "        \"accommodates\",\n",
    "        \"amenities\",\n",
    "        \"bathrooms\",\n",
    "        \"beds\",\n",
    "        \"latitude\",\n",
    "        \"longitude\",\n",
    "        \"neighbourhood_cleansed\",\n",
    "        \"price\",\n",
    "    ]\n",
    "].rename(columns={\"neighbourhood_cleansed\": \"neighbourhood\"})\n",
    "\n",
    "listings.info()"
   ]
  },
  {
   "cell_type": "markdown",
   "metadata": {},
   "source": [
    "#### Variable objetivo: Precio"
   ]
  },
  {
   "cell_type": "code",
   "execution_count": 8,
   "metadata": {},
   "outputs": [
    {
     "data": {
      "text/plain": [
       "0    $274.00\n",
       "1    $231.00\n",
       "2    $163.00\n",
       "3     $87.00\n",
       "4    $102.00\n",
       "5    $179.00\n",
       "6     $71.00\n",
       "7    $226.00\n",
       "8    $914.00\n",
       "9    $811.00\n",
       "Name: price, dtype: object"
      ]
     },
     "execution_count": 8,
     "metadata": {},
     "output_type": "execute_result"
    }
   ],
   "source": [
    "listings[\"price\"].head(10)"
   ]
  },
  {
   "cell_type": "code",
   "execution_count": 9,
   "metadata": {},
   "outputs": [],
   "source": [
    "listings[\"price\"] = listings[\"price\"].str.lstrip(\"$\").str.replace(\",\", \"\").astype(float)"
   ]
  },
  {
   "cell_type": "code",
   "execution_count": 10,
   "metadata": {},
   "outputs": [
    {
     "data": {
      "image/png": "[encoded data removed]",
      "text/plain": [
       "<Figure size 1200x900 with 1 Axes>"
      ]
     },
     "metadata": {},
     "output_type": "display_data"
    }
   ],
   "source": [
    "fig, ax = plt.subplots(figsize=(8, 6), dpi=150)\n",
    "ax.hist(listings[\"price\"], density=True, bins=100)\n",
    "ax.set(\n",
    "    ylabel=\"Density\",\n",
    "    xlabel=\"Price [$]\"\n",
    ")\n",
    "plt.show()"
   ]
  },
  {
   "cell_type": "markdown",
   "metadata": {},
   "source": [
    "En Machine Learning, se suelen transformar las variables para normalizar datos, reducir el impacto de valores atípicos y hacer que los datos sean más adecuados para ciertos tipos de análisis. En este caso, se aplica una transformación logarítmica para reducir la escala del precio."
   ]
  },
  {
   "cell_type": "code",
   "execution_count": 11,
   "metadata": {},
   "outputs": [],
   "source": [
    "listings[\"log_price\"] = np.log(listings[\"price\"])"
   ]
  },
  {
   "cell_type": "code",
   "execution_count": 12,
   "metadata": {},
   "outputs": [
    {
     "data": {
      "image/png": "[encoded data removed]",
      "text/plain": [
       "<Figure size 1200x900 with 1 Axes>"
      ]
     },
     "metadata": {},
     "output_type": "display_data"
    }
   ],
   "source": [
    "fig, ax = plt.subplots(figsize=(8, 6), dpi=150)\n",
    "ax.hist(listings[\"log_price\"], density=True, bins=50)\n",
    "ax.set(\n",
    "    ylabel=\"Density\",\n",
    "    xlabel=\"Log Price\"\n",
    ")\n",
    "plt.show()"
   ]
  },
  {
   "cell_type": "markdown",
   "metadata": {},
   "source": [
    "#### Amenities: ¿Tiene piscina / pileta?"
   ]
  },
  {
   "cell_type": "code",
   "execution_count": 13,
   "metadata": {},
   "outputs": [
    {
     "name": "stdout",
     "output_type": "stream",
     "text": [
      "[\"Free dryer \\u2013 In unit\", \"Cooking basics\", \"Children\\u2019s dinnerware\", \"Laundromat nearby\", \"Oven\", \"Coffee\", \"Ethernet connection\", \"Fire pit\", \"Baby monitor\", \"Blender\", \"Children's playroom\", \"Wine glasses\", \"Private backyard \\u2013 Fully fenced\", \"Central air conditioning\", \"Dishes and silverware\", \"Private entrance\", \"Bed linens\", \"Smoke alarm\", \"Coffee maker: Keurig coffee machine, pour-over coffee\", \"Toaster\", \"Wifi\", \"Free parking on premises\", \"Ceiling fan\", \"Luggage dropoff allowed\", \"Cleaning products\", \"Shower gel\", \"Children\\u2019s bikes\", \"Portable fans\", \"Extra pillows and blankets\", \"Children\\u2019s books and toys\", \"Self check-in\", \"Essentials\", \"Iron\", \"Microwave\", \"First aid kit\", \"75\\\" HDTV with Amazon Prime Video, Apple TV, Disney+, HBO Max, Hulu, Netflix\", \"Pack \\u2019n play/Travel crib - available upon request\", \"Dishwasher\", \"Freezer\", \"Heating\", \"Hot water\", \"Barbecue utensils\", \"Bathtub\", \"Hair dryer\", \"Books and reading material\", \"Pets allowed\", \"Crib\", \"Dedicated workspace\", \"Beach essentials\", \"Security cameras on property\", \"Carbon monoxide alarm\", \"Dining table\", \"Conditioner\", \"High chair\", \"Shampoo\", \"Exercise equipment: free weights, stationary bike\", \"Fireplace guards\", \"Babysitter recommendations\", \"Board games\", \"Baking sheet\", \"LG refrigerator\", \"Keypad\", \"Kitchen\", \"GE gas stove\", \"Free washer \\u2013 In unit\", \"Free street parking\", \"Game console: Xbox One\", \"Fire extinguisher\", \"Outdoor furniture\", \"Body soap\", \"Mini fridge\", \"Hangers\", \"Private BBQ grill: gas\"]\n",
      "[\"Heating\", \"Hot water\", \"Pack \\u2019n play/Travel crib\", \"Washer\", \"Hair dryer\", \"Patio or balcony\", \"Kitchen\", \"TV with standard cable\", \"Long term stays allowed\", \"Dryer\", \"Fire extinguisher\", \"Essentials\", \"Iron\", \"Carbon monoxide alarm\", \"First aid kit\", \"Free parking on premises\", \"Shampoo\", \"Smoke alarm\", \"Hangers\", \"Wifi\"]\n",
      "[\"GE refrigerator\", \"Cooking basics\", \"Laundromat nearby\", \"Coffee\", \"Private patio or balcony\", \"Blender\", \"Exercise equipment: free weights, yoga mat\", \"Outdoor shower\", \"Hangers\", \"Central heating\", \"Dishes and silverware\", \"Cuisinart Chef's Convection Toaster Oven:  bake-roast-dual cook, leftovers. Outdoor setup only electric stove\", \"Cuisinart, Ninja Outdoor Grill, Ninja Air Fryer stainless steel oven\", \"Wine glasses\", \"Private entrance\", \"Bed linens\", \"Private backyard \\u2013 Fully fenced\", \"Kirkland conditioner\", \"Garden view\", \"Smoke alarm\", \"Coffee maker: Keurig coffee machine\", \"Outdoor dining area\", \"Ceiling fan\", \"Luggage dropoff allowed\", \"Cleaning products\", \"Clothing storage: closet and dresser\", \"Courtyard view\", \"Hot water kettle\", \"Neutrogena RainBath body soap\", \"Shower gel\", \"32\\\" HDTV with Amazon Prime Video, Fire TV, Hulu, Netflix, premium cable, Roku\", \"Fast wifi \\u2013 333 Mbps\", \"Extra pillows and blankets\", \"Long term stays allowed\", \"Self check-in\", \"Essentials\", \"Iron\", \"Microwave\", \"First aid kit\", \"Dishwasher\", \"Portable heater\", \"Freezer\", \"Barbecue utensils\", \"Hot water\", \"Private outdoor kitchen\", \"Books and reading material\", \"Hair dryer\", \"L'oreal, Kirkland, Dr. Bronner's Castile shampoo\", \"Sun loungers\", \"Paid washer \\u2013 In unit\", \"Single level home\", \"Paid dryer \\u2013 In unit\", \"Dedicated workspace\", \"Beach essentials\", \"Carbon monoxide alarm\", \"Dining table\", \"Private BBQ grill: electric, gas\", \"Kitchenette\", \"Board games\", \"Safe\", \"Public or shared beach access\", \"Keypad\", \"Free street parking\", \"Rice maker\", \"Outdoor furniture\", \"Mini fridge\", \"Room-darkening shades\", \"Piano\"]\n",
      "[\"Private patio or balcony\", \"Hangers\", \"Private backyard \\u2013 Fully fenced\", \"Dishes and silverware\", \"Private entrance\", \"Refrigerator\", \"Bed linens\", \"Outdoor dining area\", \"Smoke alarm\", \"Luggage dropoff allowed\", \"Wifi\", \"Ceiling fan\", \"Air conditioning\", \"Cleaning products\", \"Shower gel\", \"Extra pillows and blankets\", \"Essentials\", \"Iron\", \"Microwave\", \"Portable heater\", \"Hot water\", \"Hair dryer\", \"Single level home\", \"BBQ grill\", \"Dedicated workspace\", \"Free parking on premises\", \"Carbon monoxide alarm\", \"Conditioner\", \"Shampoo\", \"Free street parking\", \"Body soap\", \"Mini fridge\", \"Room-darkening shades\"]\n",
      "[\"Laundromat nearby\", \"Coffee\", \"HDTV with Amazon Prime Video, HBO Max, Hulu, Netflix\", \"Bluetooth sound system\", \"Hangers\", \"Wine glasses\", \"Dishes and silverware\", \"Private entrance\", \"Refrigerator\", \"Bed linens\", \"Window AC unit\", \"Smoke alarm\", \"Luggage dropoff allowed\", \"Clothing storage: wardrobe\", \"Wifi\", \"Cleaning products\", \"Bikes\", \"Shower gel\", \"Portable fans\", \"Extra pillows and blankets\", \"Essentials\", \"Iron\", \"Microwave\", \"First aid kit\", \"Portable heater\", \"Hot water\", \"Hair dryer\", \"Shared patio or balcony\", \"Dedicated workspace\", \"Beach essentials\", \"Security cameras on property\", \"Carbon monoxide alarm\", \"Conditioner\", \"Shampoo\", \"Coffee maker: Keurig coffee machine, Nespresso\", \"Free street parking\", \"Outdoor furniture\", \"Body soap\", \"Mini fridge\", \"Room-darkening shades\"]\n",
      "[\"Cooking basics\", \"Fire pit\", \"Dishes and silverware\", \"Private entrance\", \"Refrigerator\", \"Bed linens\", \"Outdoor dining area\", \"Smoke alarm\", \"Wifi\", \"Air conditioning\", \"Private hot tub\", \"Patio or balcony\", \"TV with Hulu, Netflix\", \"Extra pillows and blankets\", \"Stove\", \"Self check-in\", \"Essentials\", \"Iron\", \"Microwave\", \"Heating\", \"Hot water\", \"Pack \\u2019n play/Travel crib\", \"Bathtub\", \"Hair dryer\", \"BBQ grill\", \"Beach essentials\", \"Free parking on premises\", \"Security cameras on property\", \"Carbon monoxide alarm\", \"Conditioner\", \"High chair\", \"Shampoo\", \"Coffee maker\", \"Backyard\", \"Keypad\", \"Free street parking\", \"Fire extinguisher\", \"Outdoor furniture\", \"Hangers\"]\n",
      "[\"Cooking basics\", \"Private patio or balcony\", \"Hangers\", \"44\\\" TV with Amazon Prime Video, Chromecast, HBO Max, Netflix, premium cable, standard cable\", \"Dishes and silverware\", \"Private entrance\", \"Refrigerator\", \"Bed linens\", \"Smoke alarm\", \"Luggage dropoff allowed\", \"Wifi\", \"Air conditioning\", \"Extra pillows and blankets\", \"Dryer\", \"Stove\", \"Essentials\", \"Iron\", \"Microwave\", \"Dishwasher\", \"Heating\", \"Hot water\", \"Hair dryer\", \"Pets allowed\", \"BBQ grill\", \"Free parking on premises\", \"Carbon monoxide alarm\", \"Shampoo\", \"Coffee maker\", \"Washer \\u2013\\u00a0In building\", \"Backyard\", \"Kitchen\", \"Free street parking\", \"Cleaning available during stay\", \"Room-darkening shades\"]\n",
      "[\"Free dryer \\u2013 In unit\", \"Cooking basics\", \"55\\\" HDTV with standard cable\", \"Oven\", \"Private patio or balcony\", \"Blender\", \"Hangers\", \"Wine glasses\", \"Central air conditioning\", \"Dishes and silverware\", \"Private entrance\", \"Private backyard \\u2013 Fully fenced\", \"Refrigerator\", \"Bed linens\", \"Outdoor dining area\", \"Garden view\", \"Smoke alarm\", \"Toaster\", \"Wifi\", \"Ceiling fan\", \"Clothing storage: closet and dresser\", \"Hot water kettle\", \"Shower gel\", \"Extra pillows and blankets\", \"Long term stays allowed\", \"Self check-in\", \"Essentials\", \"Iron\", \"Microwave\", \"First aid kit\", \"Dishwasher\", \"Heating\", \"Hot water\", \"Hair dryer\", \"Pets allowed\", \"BBQ grill\", \"Dedicated workspace\", \"Security cameras on property\", \"Carbon monoxide alarm\", \"Dining table\", \"Conditioner\", \"Shampoo\", \"Coffee maker\", \"Keypad\", \"Kitchen\", \"Free washer \\u2013 In unit\", \"Free street parking\", \"Fire extinguisher\", \"Gas stove\", \"Outdoor furniture\", \"Body soap\", \"Room-darkening shades\"]\n",
      "[\"Pool view\", \"TV with standard cable\", \"Refrigerator\", \"Outdoor dining area\", \"Smoke alarm\", \"Wifi\", \"Breakfast\", \"Air conditioning\", \"Private hot tub\", \"Patio or balcony\", \"Dryer\", \"Self check-in\", \"Essentials\", \"Iron\", \"Marina view\", \"Sea view\", \"Private outdoor pool - available all year, open 24 hours, saltwater\", \"Heating\", \"Bay view\", \"Ocean view\", \"Hair dryer\", \"Washer\", \"Pets allowed\", \"BBQ grill\", \"Crib\", \"Free parking on premises\", \"Carbon monoxide alarm\", \"High chair\", \"Shampoo\", \"Harbor view\", \"Keypad\", \"Kitchen\", \"Beach view\", \"Outdoor furniture\", \"Indoor fireplace\", \"Hangers\"]\n",
      "[\"Cooking basics\", \"Private patio or balcony\", \"TV with standard cable\", \"Wine glasses\", \"Canal view\", \"Dishes and silverware\", \"Private backyard \\u2013 Fully fenced\", \"Refrigerator\", \"Bed linens\", \"Outdoor dining area\", \"Smoke alarm\", \"Coffee maker: Keurig coffee machine\", \"Toaster\", \"Wifi\", \"Air conditioning\", \"City skyline view\", \"Private hot tub\", \"Dryer\", \"Self check-in\", \"Essentials\", \"Iron\", \"Microwave\", \"Marina view\", \"Sea view\", \"Dishwasher\", \"Crib - always at the listing\", \"Bay view\", \"Heating\", \"Ocean view\", \"Hair dryer\", \"Washer\", \"Pets allowed\", \"Sun loungers\", \"BBQ grill\", \"Free parking on premises\", \"Carbon monoxide alarm\", \"Dining table\", \"Shampoo\", \"Harbor view\", \"Keypad\", \"Kitchen\", \"Standalone high chair - always at the listing\", \"Free street parking\", \"Beach view\", \"Gas stove\", \"Outdoor furniture\", \"Body soap\", \"Private pool\", \"Hangers\"]\n"
     ]
    }
   ],
   "source": [
    "for amenity in listings[\"amenities\"].unique()[:10]:\n",
    "    print(amenity)"
   ]
  },
  {
   "cell_type": "code",
   "execution_count": 14,
   "metadata": {},
   "outputs": [],
   "source": [
    "# Convert string in lists\n",
    "listings[\"amenities\"] = listings[\"amenities\"].apply(json.loads)"
   ]
  },
  {
   "cell_type": "code",
   "execution_count": 15,
   "metadata": {},
   "outputs": [
    {
     "data": {
      "text/plain": [
       "['Free dryer – In unit',\n",
       " 'Cooking basics',\n",
       " 'Children’s dinnerware',\n",
       " 'Laundromat nearby',\n",
       " 'Oven',\n",
       " 'Coffee',\n",
       " 'Ethernet connection',\n",
       " 'Fire pit',\n",
       " 'Baby monitor',\n",
       " 'Blender',\n",
       " \"Children's playroom\",\n",
       " 'Wine glasses',\n",
       " 'Private backyard – Fully fenced',\n",
       " 'Central air conditioning',\n",
       " 'Dishes and silverware',\n",
       " 'Private entrance',\n",
       " 'Bed linens',\n",
       " 'Smoke alarm',\n",
       " 'Coffee maker: Keurig coffee machine, pour-over coffee',\n",
       " 'Toaster',\n",
       " 'Wifi',\n",
       " 'Free parking on premises',\n",
       " 'Ceiling fan',\n",
       " 'Luggage dropoff allowed',\n",
       " 'Cleaning products',\n",
       " 'Shower gel',\n",
       " 'Children’s bikes',\n",
       " 'Portable fans',\n",
       " 'Extra pillows and blankets',\n",
       " 'Children’s books and toys',\n",
       " 'Self check-in',\n",
       " 'Essentials',\n",
       " 'Iron',\n",
       " 'Microwave',\n",
       " 'First aid kit',\n",
       " '75\" HDTV with Amazon Prime Video, Apple TV, Disney+, HBO Max, Hulu, Netflix',\n",
       " 'Pack ’n play/Travel crib - available upon request',\n",
       " 'Dishwasher',\n",
       " 'Freezer',\n",
       " 'Heating',\n",
       " 'Hot water',\n",
       " 'Barbecue utensils',\n",
       " 'Bathtub',\n",
       " 'Hair dryer',\n",
       " 'Books and reading material',\n",
       " 'Pets allowed',\n",
       " 'Crib',\n",
       " 'Dedicated workspace',\n",
       " 'Beach essentials',\n",
       " 'Security cameras on property',\n",
       " 'Carbon monoxide alarm',\n",
       " 'Dining table',\n",
       " 'Conditioner',\n",
       " 'High chair',\n",
       " 'Shampoo',\n",
       " 'Exercise equipment: free weights, stationary bike',\n",
       " 'Fireplace guards',\n",
       " 'Babysitter recommendations',\n",
       " 'Board games',\n",
       " 'Baking sheet',\n",
       " 'LG refrigerator',\n",
       " 'Keypad',\n",
       " 'Kitchen',\n",
       " 'GE gas stove',\n",
       " 'Free washer – In unit',\n",
       " 'Free street parking',\n",
       " 'Game console: Xbox One',\n",
       " 'Fire extinguisher',\n",
       " 'Outdoor furniture',\n",
       " 'Body soap',\n",
       " 'Mini fridge',\n",
       " 'Hangers',\n",
       " 'Private BBQ grill: gas']"
      ]
     },
     "execution_count": 15,
     "metadata": {},
     "output_type": "execute_result"
    }
   ],
   "source": [
    "listings[\"amenities\"][0]"
   ]
  },
  {
   "cell_type": "code",
   "execution_count": 16,
   "metadata": {},
   "outputs": [],
   "source": [
    "listings[\"has_dishwasher\"] = listings[\"amenities\"].apply(\n",
    "    lambda x: any(\"dishwasher\" in amenity.lower() for amenity in x)\n",
    ").astype(int)"
   ]
  },
  {
   "cell_type": "code",
   "execution_count": 17,
   "metadata": {},
   "outputs": [
    {
     "name": "stdout",
     "output_type": "stream",
     "text": [
      "Number of properties with dishwaher: 6509\n"
     ]
    }
   ],
   "source": [
    "print(f\"Number of properties with dishwaher: {listings['has_dishwasher'].sum()}\")"
   ]
  },
  {
   "cell_type": "code",
   "execution_count": 18,
   "metadata": {},
   "outputs": [
    {
     "data": {
      "text/plain": [
       "0.566196938065414"
      ]
     },
     "execution_count": 18,
     "metadata": {},
     "output_type": "execute_result"
    }
   ],
   "source": [
    "listings[\"has_dishwasher\"].mean()"
   ]
  },
  {
   "cell_type": "code",
   "execution_count": 19,
   "metadata": {},
   "outputs": [
    {
     "data": {
      "image/png": "[encoded data removed]",
      "text/plain": [
       "<Figure size 1200x900 with 1 Axes>"
      ]
     },
     "metadata": {},
     "output_type": "display_data"
    }
   ],
   "source": [
    "# Average price\n",
    "avg_price = listings.groupby(\"has_dishwasher\")[\"log_price\"].mean().reset_index()\n",
    "\n",
    "has_dishwasher = avg_price[\"has_dishwasher\"]\n",
    "prices = avg_price[\"log_price\"]\n",
    "\n",
    "fig, ax = plt.subplots(figsize=(8, 6), dpi=150)\n",
    "\n",
    "# Crear el gráfico de barras en los ejes\n",
    "ax.bar(has_dishwasher, prices)\n",
    "\n",
    "# Agregar título y etiquetas\n",
    "ax.set_xlabel(\"Does the airbnb have dishwasher?\")\n",
    "ax.set_ylabel(\"Log Price\")\n",
    "ax.set_xticks(has_dishwasher, [0, 1])\n",
    "\n",
    "plt.show()"
   ]
  },
  {
   "cell_type": "markdown",
   "metadata": {},
   "source": [
    "#### Filtrar observaciones con nulls o valores erróneos"
   ]
  },
  {
   "cell_type": "code",
   "execution_count": 20,
   "metadata": {},
   "outputs": [],
   "source": [
    "listings = listings.dropna()\n",
    "\n",
    "listings = listings[(listings[\"bathrooms\"] >= 1)&(listings[\"beds\"] >= 1)]"
   ]
  },
  {
   "cell_type": "markdown",
   "metadata": {},
   "source": [
    "#### Filtrar vecindarios con pocas observaciones\n",
    "\n",
    "Los vecindarios con pocos datos pueden no proporcionar estadísticas confiables. Con más de 25 datos, es más probable que los estadísticos sean representativos."
   ]
  },
  {
   "cell_type": "code",
   "execution_count": 21,
   "metadata": {},
   "outputs": [
    {
     "data": {
      "text/plain": [
       "(10299, 10)"
      ]
     },
     "execution_count": 21,
     "metadata": {},
     "output_type": "execute_result"
    }
   ],
   "source": [
    "neighborhood_counts = listings[\"neighbourhood\"].value_counts()\n",
    "neighborhoods_to_keep = neighborhood_counts[neighborhood_counts > 25].index\n",
    "\n",
    "listings = listings[\n",
    "    listings[\"neighbourhood\"].isin(\n",
    "        neighborhoods_to_keep\n",
    "    )\n",
    "].reset_index(drop=True)\n",
    "\n",
    "listings.shape"
   ]
  },
  {
   "cell_type": "code",
   "execution_count": 22,
   "metadata": {},
   "outputs": [
    {
     "name": "stdout",
     "output_type": "stream",
     "text": [
      "<class 'pandas.core.frame.DataFrame'>\n",
      "RangeIndex: 10299 entries, 0 to 10298\n",
      "Data columns (total 10 columns):\n",
      " #   Column          Non-Null Count  Dtype  \n",
      "---  ------          --------------  -----  \n",
      " 0   accommodates    10299 non-null  int64  \n",
      " 1   amenities       10299 non-null  object \n",
      " 2   bathrooms       10299 non-null  float64\n",
      " 3   beds            10299 non-null  float64\n",
      " 4   latitude        10299 non-null  float64\n",
      " 5   longitude       10299 non-null  float64\n",
      " 6   neighbourhood   10299 non-null  object \n",
      " 7   price           10299 non-null  float64\n",
      " 8   log_price       10299 non-null  float64\n",
      " 9   has_dishwasher  10299 non-null  int64  \n",
      "dtypes: float64(6), int64(2), object(2)\n",
      "memory usage: 804.7+ KB\n"
     ]
    }
   ],
   "source": [
    "listings.info()"
   ]
  },
  {
   "cell_type": "markdown",
   "metadata": {},
   "source": [
    "### Primer modelo de regresión"
   ]
  },
  {
   "cell_type": "markdown",
   "metadata": {},
   "source": [
    " En este taller se hace uso del módulo `spreg` en Pysal. En el contexto de este taller, tiene sentido empezar con `spreg`, ya que es la única librería que permitirá avanzar hacia modelos espaciales."
   ]
  },
  {
   "cell_type": "code",
   "execution_count": 23,
   "metadata": {},
   "outputs": [],
   "source": [
    "from pysal.model import spreg"
   ]
  },
  {
   "cell_type": "code",
   "execution_count": 25,
   "metadata": {},
   "outputs": [
    {
     "data": {
      "text/html": [
       "<div>\n",
       "<style scoped>\n",
       "    .dataframe tbody tr th:only-of-type {\n",
       "        vertical-align: middle;\n",
       "    }\n",
       "\n",
       "    .dataframe tbody tr th {\n",
       "        vertical-align: top;\n",
       "    }\n",
       "\n",
       "    .dataframe thead th {\n",
       "        text-align: right;\n",
       "    }\n",
       "</style>\n",
       "<table border=\"1\" class=\"dataframe\">\n",
       "  <thead>\n",
       "    <tr style=\"text-align: right;\">\n",
       "      <th></th>\n",
       "      <th>accommodates</th>\n",
       "      <th>bathrooms</th>\n",
       "      <th>beds</th>\n",
       "      <th>has_dishwasher</th>\n",
       "    </tr>\n",
       "  </thead>\n",
       "  <tbody>\n",
       "    <tr>\n",
       "      <th>0</th>\n",
       "      <td>6</td>\n",
       "      <td>2.0</td>\n",
       "      <td>3.0</td>\n",
       "      <td>1</td>\n",
       "    </tr>\n",
       "    <tr>\n",
       "      <th>1</th>\n",
       "      <td>6</td>\n",
       "      <td>2.0</td>\n",
       "      <td>3.0</td>\n",
       "      <td>0</td>\n",
       "    </tr>\n",
       "    <tr>\n",
       "      <th>2</th>\n",
       "      <td>2</td>\n",
       "      <td>1.0</td>\n",
       "      <td>6.0</td>\n",
       "      <td>1</td>\n",
       "    </tr>\n",
       "    <tr>\n",
       "      <th>3</th>\n",
       "      <td>2</td>\n",
       "      <td>1.0</td>\n",
       "      <td>1.0</td>\n",
       "      <td>0</td>\n",
       "    </tr>\n",
       "    <tr>\n",
       "      <th>4</th>\n",
       "      <td>2</td>\n",
       "      <td>1.0</td>\n",
       "      <td>2.0</td>\n",
       "      <td>0</td>\n",
       "    </tr>\n",
       "  </tbody>\n",
       "</table>\n",
       "</div>"
      ],
      "text/plain": [
       "   accommodates  bathrooms  beds  has_dishwasher\n",
       "0             6        2.0   3.0               1\n",
       "1             6        2.0   3.0               0\n",
       "2             2        1.0   6.0               1\n",
       "3             2        1.0   1.0               0\n",
       "4             2        1.0   2.0               0"
      ]
     },
     "execution_count": 25,
     "metadata": {},
     "output_type": "execute_result"
    }
   ],
   "source": [
    "variables = [\n",
    "    \"accommodates\",\n",
    "    \"bathrooms\",\n",
    "    \"beds\",\n",
    "    # Binary variables, 1 True, 0 False\n",
    "    \"has_dishwasher\",\n",
    "]\n",
    "\n",
    "y = listings[\"log_price\"]\n",
    "\n",
    "X = listings[variables]\n",
    "X.head()"
   ]
  },
  {
   "cell_type": "markdown",
   "metadata": {},
   "source": [
    "Para ajustar el modelo usando mínimos cuadrados ordinarios (OLS), sólo se necesita la siguiente línea de código.\n",
    "\n",
    "Es importante mencionar que los objectos necesitan ser arrays, por lo que lo que se extrae usando el atributo `values`."
   ]
  },
  {
   "cell_type": "code",
   "execution_count": 26,
   "metadata": {},
   "outputs": [],
   "source": [
    "# Fit OLS model\n",
    "model_1 = spreg.OLS(\n",
    "    y.values,\n",
    "    X.values,\n",
    "    name_y=\"log_price\",\n",
    "    name_x=variables,\n",
    ")"
   ]
  },
  {
   "cell_type": "markdown",
   "metadata": {},
   "source": [
    "Para inspeccionar los resultados del modelo, se puede hacer un print el atributo `summary`:"
   ]
  },
  {
   "cell_type": "code",
   "execution_count": 27,
   "metadata": {},
   "outputs": [
    {
     "name": "stdout",
     "output_type": "stream",
     "text": [
      "REGRESSION RESULTS\n",
      "------------------\n",
      "\n",
      "SUMMARY OF OUTPUT: ORDINARY LEAST SQUARES\n",
      "-----------------------------------------\n",
      "Data set            :     unknown\n",
      "Weights matrix      :        None\n",
      "Dependent Variable  :   log_price                Number of Observations:       10299\n",
      "Mean dependent var  :      5.3571                Number of Variables   :           5\n",
      "S.D. dependent var  :      0.7811                Degrees of Freedom    :       10294\n",
      "R-squared           :      0.5538\n",
      "Adjusted R-squared  :      0.5536\n",
      "Sum squared residual:     2803.05                F-statistic           :   3194.3799\n",
      "Sigma-square        :       0.272                Prob(F-statistic)     :           0\n",
      "S.E. of regression  :       0.522                Log likelihood        :   -7912.399\n",
      "Sigma-square ML     :       0.272                Akaike info criterion :   15834.798\n",
      "S.E of regression ML:      0.5217                Schwarz criterion     :   15870.997\n",
      "\n",
      "------------------------------------------------------------------------------------\n",
      "            Variable     Coefficient       Std.Error     t-Statistic     Probability\n",
      "------------------------------------------------------------------------------------\n",
      "            CONSTANT         4.34229         0.01085       400.24783         0.00000\n",
      "        accommodates         0.13471         0.00298        45.13812         0.00000\n",
      "           bathrooms         0.16636         0.00727        22.86864         0.00000\n",
      "                beds        -0.01084         0.00409        -2.64997         0.00806\n",
      "      has_dishwasher         0.13927         0.01115        12.48819         0.00000\n",
      "------------------------------------------------------------------------------------\n",
      "\n",
      "REGRESSION DIAGNOSTICS\n",
      "MULTICOLLINEARITY CONDITION NUMBER            8.810\n",
      "\n",
      "TEST ON NORMALITY OF ERRORS\n",
      "TEST                             DF        VALUE           PROB\n",
      "Jarque-Bera                       2       16067.162           0.0000\n",
      "\n",
      "DIAGNOSTICS FOR HETEROSKEDASTICITY\n",
      "RANDOM COEFFICIENTS\n",
      "TEST                             DF        VALUE           PROB\n",
      "Breusch-Pagan test                4         734.436           0.0000\n",
      "Koenker-Bassett test              4         186.022           0.0000\n",
      "================================ END OF REPORT =====================================\n"
     ]
    }
   ],
   "source": [
    "print(model_1.summary)"
   ]
  },
  {
   "cell_type": "markdown",
   "metadata": {},
   "source": [
    "De este resultado, es importante concentrarse en la sección `Coefficients`, que brinda las estimaciones de $\\beta_k$ en el modelo. En otras palabras, estos números expresan la relación entre cada variable explicativa y la dependiente.\n",
    "\n",
    "Los resultados son en gran medida los esperados: las casas tienden a ser significativamente más caras si tienen capacidad para más personas (`accommodates`), si tienen más baños y dormitorios. Por el contrario, dado el número de habitaciones, las casas con más camas (es decir, las que están más \"pobladas\") tienden a ser más baratas."
   ]
  },
  {
   "cell_type": "markdown",
   "metadata": {},
   "source": [
    "### Estructuras ocultas\n",
    "\n",
    "En general, el modelo puede predecir alrededor de la mitad ($R^2=0,55$) de la variación en el precio medio nocturno utilizando las covariables que se han analizado anteriormente.\n",
    "\n",
    "Sin embargo, el modelo puede mostrar cierta agrupación en los errores, lo que puede ser un problema ya que viola la norma i.i.d. que los modelos lineales de suposición generalmente vienen incorporados.\n",
    "\n",
    "Para evaluar esto, se pueden hacer algunas cosas.\n",
    "\n",
    "Un concepto sencillo podría ser observar la correlación entre el error al predecir un Airbnb y el error al predecir su vecino más cercano. Para examinar esto, primero se podría dividir los datos por regiones y ver si se tiene alguna estructura espacial en los residuos.\n",
    "\n",
    "Una teoría razonable podría ser que el modelo no incluye ninguna información sobre *playas*, un aspecto crítico de por qué la gente vive y vacaciona en San Diego. Por lo tanto, es posible que se desee ver si los errores son mayores o menores dependiendo de si un Airbnb está o no en un vecindario \"de playa\", un vecindario cerca del océano."
   ]
  },
  {
   "cell_type": "code",
   "execution_count": 28,
   "metadata": {},
   "outputs": [
    {
     "data": {
      "text/plain": [
       "Index(['accommodates', 'amenities', 'bathrooms', 'beds', 'latitude',\n",
       "       'longitude', 'neighbourhood', 'price', 'log_price', 'has_dishwasher'],\n",
       "      dtype='object')"
      ]
     },
     "execution_count": 28,
     "metadata": {},
     "output_type": "execute_result"
    }
   ],
   "source": [
    "listings.columns"
   ]
  },
  {
   "cell_type": "code",
   "execution_count": 31,
   "metadata": {},
   "outputs": [],
   "source": [
    "coastal_neighborhoods = [\n",
    "    \"Wooded Area\",\n",
    "    \"Ocean Beach\",\n",
    "    \"Pacific Beach\",\n",
    "    \"La Jolla\",\n",
    "    \"Torrey Pines\",\n",
    "    \"Del Mar Heighs\",\n",
    "    \"Mission Bay\",\n",
    "]\n",
    "\n",
    "# Create a Boolean (True/False) with whether a property is coastal or not\n",
    "listings[\"is_coastal_neig\"] = (\n",
    "    listings[\"neighbourhood\"].isin(coastal_neighborhoods).astype(bool)\n",
    ")\n"
   ]
  },
  {
   "cell_type": "code",
   "execution_count": 41,
   "metadata": {},
   "outputs": [
    {
     "data": {
      "image/png": "[encoded data removed]",
      "text/plain": [
       "<Figure size 1200x900 with 1 Axes>"
      ]
     },
     "metadata": {},
     "output_type": "display_data"
    }
   ],
   "source": [
    "is_coastal_neig = listings[\"is_coastal_neig\"].astype(bool)\n",
    "\n",
    "# Split residuals between coastal and not\n",
    "coastal_residuals = model_1.u[is_coastal_neig]\n",
    "non_coastal_residuals = model_1.u[~is_coastal_neig]\n",
    "\n",
    "fig, ax = plt.subplots(figsize=(8, 6), dpi=150)\n",
    "\n",
    "# Create histogram of the distribution of coastal and non-coastal residuals\n",
    "ax.hist(coastal_residuals, density=True, bins=50, label=\"Coastal\")\n",
    "ax.hist(\n",
    "    non_coastal_residuals,\n",
    "    histtype=\"step\",\n",
    "    density=True,\n",
    "    linewidth=4,\n",
    "    bins=50,\n",
    "    label=\"Not Coastal\",\n",
    ")\n",
    "ax.set(ylabel=\"Density\", xlabel=\"Residuals\")\n",
    "\n",
    "# Add Line on 0\n",
    "plt.vlines(0, 0, 1, linestyle=\"--\", color=\"k\", linewidth=2)\n",
    "# Add legend\n",
    "plt.legend()\n",
    "# Display\n",
    "plt.show()"
   ]
  },
  {
   "cell_type": "markdown",
   "metadata": {},
   "source": [
    "Si bien parece que los vecindarios de la costa tienen errores promedio sólo ligeramente más altos, las dos distribuciones son significativamente distintas entre sí cuando se comparan utilizando una prueba $t$ clásica:"
   ]
  },
  {
   "cell_type": "code",
   "execution_count": 36,
   "metadata": {},
   "outputs": [
    {
     "data": {
      "text/plain": [
       "TtestResult(statistic=array([34.79525014]), pvalue=array([6.66819047e-251]), df=array([10297.]))"
      ]
     },
     "execution_count": 36,
     "metadata": {},
     "output_type": "execute_result"
    }
   ],
   "source": [
    "from scipy.stats import ttest_ind\n",
    "\n",
    "ttest_ind(coastal_residuals, non_coastal_residuals)"
   ]
  },
  {
   "cell_type": "markdown",
   "metadata": {},
   "source": [
    "##"
   ]
  },
  {
   "cell_type": "markdown",
   "metadata": {},
   "source": []
  }
 ],
 "metadata": {
  "kernelspec": {
   "display_name": "spatial-statistics-course-6R9uGqmC-py3.11",
   "language": "python",
   "name": "python3"
  },
  "language_info": {
   "codemirror_mode": {
    "name": "ipython",
    "version": 3
   },
   "file_extension": ".py",
   "mimetype": "text/x-python",
   "name": "python",
   "nbconvert_exporter": "python",
   "pygments_lexer": "ipython3",
   "version": "3.11.7"
  }
 },
 "nbformat": 4,
 "nbformat_minor": 2
}
