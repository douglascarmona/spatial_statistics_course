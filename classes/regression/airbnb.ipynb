{
 "cells": [
  {
   "cell_type": "code",
   "execution_count": null,
   "metadata": {},
   "outputs": [],
   "source": [
    "import warnings\n",
    "\n",
    "warnings.filterwarnings(\"ignore\")"
   ]
  },
  {
   "cell_type": "markdown",
   "metadata": {},
   "source": [
    "# Regresión Espacial\n",
    "\n",
    "La regresión proporciona un caso perfecto para examinar cómo la estructura espacial puede ayudar a comprender y analizar los datos. En este taller, se analiza cómo se puede utilizar la estructura espacial para validar y mejorar los algoritmos de predicción, centrándose específicamente en la regresión lineal.\n",
    "\n",
    "## *¿Qué* es la regresión espacial y *por qué* podría ser importante?\n",
    "\n",
    "Por lo general, la estructura espacial ayuda a los modelos de regresión de dos maneras.\n",
    "\n",
    "La primera forma en la que el espacio puede tener un impacto en los datos es cuando el proceso *que genera* los datos es en sí mismo explícitamente espacial. Se puede pensar en algo así como los precios de las viviendas unifamiliares. A menudo ocurre que las personas pagan una prima sobre el precio de su casa para poder vivir en un mejor distrito escolar por una casa de la misma calidad. Alternativamente, las casas más cercanas a contaminantes acústicos o químicos, como plantas de tratamiento de aguas residuales, instalaciones de reciclaje o autopistas anchas, pueden en realidad ser más baratas de lo que se anticiparía.\n",
    "\n",
    "Independientemente del caso específico en juego, aquí la *geografía es una característica* dado que ayuda directamente a hacer predicciones sobre los resultados *porque esos resultados se obtienen a partir de procesos geográficos*.\n",
    "\n",
    "Otra alternativa para incluir información en el análisis de métodos predictivos y clasificadores, a un analista le puede preocupar que el modelo prediga erróneamente *sistemáticamente* algunos tipos de observaciones. Si se sabe que el modelo rutinariamente funciona mal en un conjunto de observaciones, se podría hacer un modelo mejor si se puede identificar esto. \n",
    "\n",
    " La geografía proporciona una incorporación excepcionalmente útil para evaluar la estructura de nuestros errores. Graficar los errores de clasificación/predicción en un mapa puede ayudar a mostrar si hay o no *grupos de errores* en los datos. Si *se sabe* que los errores tienden a ser mayores en algunas áreas que en otras (o si el error es \"contagioso\" entre observaciones), entonces se podría explotar esta estructura para hacer mejores predicciones.\n",
    "\n",
    "La estructura espacial en nuestros errores puede surgir cuando la geografía *debería ser* un atributo de alguna manera, pero no se está seguro exactamente de cómo incluirla en el modelo. También podrían surgir porque hay alguna *otra* característica cuya omisión causa los patrones espaciales en el error que se observa, si se incluyera esta característica adicional, la estructura desaparecería.\n",
    "\n",
    "O podría surgir de las complejas interacciones e interdependencias entre las características que se han elegido como predictores, lo que da como resultado una estructura intrínseca en la predicción errónea.  La mayoría de los predictores que se utilizan en modelos de procesos sociales contienen información espacial *incorporada*: patrones intrínsecos a la característica que obtenemos de forma gratuita en el modelo.\n",
    "\n",
    "Si se pretende o no, el uso de un predictor con patrones espaciales en un modelo puede dar como resultado errores con patrones espaciales, usar más de uno puede amplificar este efecto. \n",
    "Por lo tanto, *independientemente de si el verdadero proceso es explícitamente geográfico o no*, información adicional sobre las relaciones espaciales entre las observaciones o más información sobre sitios cercanos puede mejorar las predicciones.\n",
    "\n",
    "En este taller, se incorpora el espacio al marco de regresión tradicional. Se comienza con un modelo de regresión lineal estándar, desprovisto de cualquier referencia geográfica. A partir de ahí, se formaliza el espacio y las relaciones espaciales de tres maneras principales: primero, codificándolo en variables exógenas, en segundo lugar, a través de la heterogeneidad espacial o como una variación sistemática de los resultados en el espacio, tercero, como dependencia, o mediante el efecto asociado a las características de los vecinos espaciales. En todo momento, centrándose en las diferencias conceptuales que implica cada enfoque más que en los detalles técnicos."
   ]
  },
  {
   "cell_type": "markdown",
   "metadata": {},
   "source": [
    "## Regresión clásica (no espacial), un repaso muy rápido\n",
    "\n",
    "Antes de discutir cómo incluir explícitamente el espacio en el marco de regresión lineal, se muestra cómo se puede llevar a cabo la regresión básica en Python y cómo se pueden comenzar a interpretar los resultados.\n",
    "\n",
    "La idea central de la regresión lineal es explicar la variación en una variable dada (*dependiente*) como una función lineal de un conjunto de otras variables (*explicatorias*). Por ejemplo, en este caso, se puede querer expresar el precio de una casa en función del número de dormitorios que tiene y de si es condominio o no. A nivel individual, se puede expresar esto como:\n",
    "\n",
    "$$\n",
    "y_i = \\alpha + \\sum_k \\beta_k \\mathbf{X}_{ik}  + \\epsilon_i\n",
    "$$\n",
    "\n",
    "Por ejemplo, en este caso, se puede querer expresar el precio de una casa en función del número de dormitorios que tiene y de si es condominio o no. A nivel individual, se puede expresar esto como:\n",
    "\n",
    "$$\n",
    "P_i = \\alpha + \\sum_k \\beta_k \\mathbf{X}_{ik}  + \\epsilon_i\n",
    "$$\n",
    "\n",
    "Donde $P_i$ es el precio de Airbnb de la casa $i$, y $X$ es un conjunto de covariables que se usan para explicar dicho precio (por ejemplo, cantidad de habitaciones y variable binaria de condominio). $\\beta$ es un vector de parámetros que nos dan información sobre de qué manera y en qué medida cada variable está relacionada con el precio, y $\\alpha$, el término constante, es el precio medio de la vivienda cuando todas las demás variables son cero. El término $\\epsilon_i$ generalmente se conoce como \"error\" y captura elementos que influyen en el precio de una casa pero que no están incluidos en $X$.\n",
    "\n",
    "El objetivo cuando se entrena un modelo de regresión es estimar los parámetros $\\alpha$ y $\\beta_k$ para predecir los valores de $y$.\n",
    "\n",
    "En la práctica, existen varios paquetes en Python que permiten entrenar modelos de regresión, algunos de estos son: `statsmodels`, `scikit-learn` y `pysal`."
   ]
  },
  {
   "cell_type": "markdown",
   "metadata": {},
   "source": [
    "## Dataset: San Diego Airbnb\n",
    "\n",
    "En este taller se examinará información sobre propiedades de Airbnb en San Diego, California en Estados Unidos. Este conjunto de datos se basa en el extracto de San Diego del 2024-03-25 de [Inside Airbnb](http://insideairbnb.com/)."
   ]
  },
  {
   "cell_type": "code",
   "execution_count": null,
   "metadata": {},
   "outputs": [],
   "source": [
    "from pathlib import Path\n",
    "import requests\n",
    "\n",
    "DATA_PATH = Path().cwd().parent.parent.absolute() / \"data/airbnb\""
   ]
  },
  {
   "cell_type": "markdown",
   "metadata": {},
   "source": [
    "### Listado de propiedades:"
   ]
  },
  {
   "cell_type": "code",
   "execution_count": null,
   "metadata": {},
   "outputs": [],
   "source": [
    "# Listings\n",
    "\n",
    "url = \"https://data.insideairbnb.com/united-states/ca/san-diego/2024-03-25/data/listings.csv.gz\"\n",
    "\n",
    "listings_path = DATA_PATH / \"listings.csv.gz\"\n",
    "\n",
    "response = requests.get(url)\n",
    "\n",
    "with open(listings_path, \"wb\") as file:\n",
    "    file.write(response.content)"
   ]
  },
  {
   "cell_type": "markdown",
   "metadata": {},
   "source": [
    "### Vecindarios"
   ]
  },
  {
   "cell_type": "code",
   "execution_count": null,
   "metadata": {},
   "outputs": [],
   "source": [
    "# Neighbourhoods\n",
    "\n",
    "url =  \"https://data.insideairbnb.com/united-states/ca/san-diego/2024-03-25/visualisations/neighbourhoods.geojson\"\n",
    "\n",
    "neighbourhoods_path = DATA_PATH / \"neighbourhoods.geojson\"\n",
    "\n",
    "response = requests.get(url)\n",
    "\n",
    "with open(neighbourhoods_path, \"wb\") as file:\n",
    "    file.write(response.content)"
   ]
  },
  {
   "cell_type": "markdown",
   "metadata": {},
   "source": [
    "#### Feature engineering"
   ]
  },
  {
   "cell_type": "code",
   "execution_count": null,
   "metadata": {},
   "outputs": [],
   "source": [
    "import json\n",
    "\n",
    "import matplotlib.pyplot as plt\n",
    "import numpy as np\n",
    "import pandas as pd"
   ]
  },
  {
   "cell_type": "code",
   "execution_count": null,
   "metadata": {},
   "outputs": [],
   "source": [
    "listings_path = DATA_PATH / \"listings.csv.gz\"\n",
    "\n",
    "df = pd.read_csv(listings_path)\n",
    "df.shape"
   ]
  },
  {
   "cell_type": "markdown",
   "metadata": {},
   "source": [
    "#### Columnas de interés:\n",
    "\n",
    "* accommodates: Cantidad de personas que puede acoger\n",
    "* amenities: Comodidades que ofrece el alojamiento\n",
    "* bathrooms: Cantidad de baños\n",
    "* bedrooms: Cantidad de cuantos\n",
    "* beds: Cantidad de camas disponibles\n",
    "* latitude: Latitud. World Geodetic System (WGS84). EPSG:4326\n",
    "* longitude: Longitud. World Geodetic System (WGS84). EPSG:4326\n",
    "* neighbourhood_cleansed: Vecindario\n",
    "* price: Precio del alojamiento (variable objetivo)\n",
    "* room_type: Tipo de habitación"
   ]
  },
  {
   "cell_type": "code",
   "execution_count": null,
   "metadata": {},
   "outputs": [],
   "source": [
    "df = df[\n",
    "    [\n",
    "        \"accommodates\",\n",
    "        \"amenities\",\n",
    "        \"bathrooms\",\n",
    "        \"bedrooms\",\n",
    "        \"beds\",\n",
    "        \"latitude\",\n",
    "        \"longitude\",\n",
    "        \"neighbourhood_cleansed\",\n",
    "        \"price\",\n",
    "        \"room_type\",\n",
    "    ]\n",
    "].rename(columns={\"neighbourhood_cleansed\": \"neighbourhood\"})\n",
    "\n",
    "df.info()"
   ]
  },
  {
   "cell_type": "markdown",
   "metadata": {},
   "source": [
    "APLICAR TODOS LOS FILTROS EN ESTA ETAPA: \n",
    "\n",
    "1. Eliminar todos las filas que tengan alguna columna con un valor nulo.\n",
    "2. Quiero estudiar las propiedades que tengan por lo menos un baño, una habitación y ofrezcan por lo menos una cama."
   ]
  },
  {
   "cell_type": "code",
   "execution_count": null,
   "metadata": {},
   "outputs": [],
   "source": [
    "df = df.dropna()\n",
    "df = df[df[\"room_type\"].isin([\"Entire home/apt\", \"Private room\"])]"
   ]
  },
  {
   "cell_type": "markdown",
   "metadata": {},
   "source": [
    "#### Filtrar vecindarios con pocas observaciones\n",
    "\n",
    "Los vecindarios con pocos datos pueden no proporcionar estadísticas confiables. Con más de 25 datos, es más probable que los estadísticos sean representativos."
   ]
  },
  {
   "cell_type": "code",
   "execution_count": null,
   "metadata": {},
   "outputs": [],
   "source": [
    "neighborhood_counts = df[\"neighbourhood\"].value_counts()\n",
    "neighborhoods_to_keep = neighborhood_counts[neighborhood_counts > 25].index\n",
    "\n",
    "df = df[\n",
    "    df[\"neighbourhood\"].isin(\n",
    "        neighborhoods_to_keep\n",
    "    )\n",
    "].reset_index(drop=True)\n",
    "\n",
    "df.shape"
   ]
  },
  {
   "cell_type": "markdown",
   "metadata": {},
   "source": [
    "#### Variable objetivo: Precio"
   ]
  },
  {
   "cell_type": "code",
   "execution_count": null,
   "metadata": {},
   "outputs": [],
   "source": [
    "df[\"price\"].head(10)"
   ]
  },
  {
   "cell_type": "code",
   "execution_count": null,
   "metadata": {},
   "outputs": [],
   "source": [
    "df[\"price\"] = df[\"price\"].str.lstrip(\"$\").str.replace(\",\", \"\").astype(float)"
   ]
  },
  {
   "cell_type": "code",
   "execution_count": null,
   "metadata": {},
   "outputs": [],
   "source": [
    "fig, ax = plt.subplots(figsize=(8, 6), dpi=150)\n",
    "ax.hist(df[\"price\"], density=True, bins=100)\n",
    "ax.set(\n",
    "    ylabel=\"Density\",\n",
    "    xlabel=\"Price [$]\"\n",
    ")\n",
    "plt.show()"
   ]
  },
  {
   "cell_type": "markdown",
   "metadata": {},
   "source": [
    "En Machine Learning, se suelen transformar las variables para normalizar datos, reducir el impacto de valores atípicos y hacer que los datos sean más adecuados para ciertos tipos de análisis. En este caso, se aplica una transformación logarítmica para reducir la escala del precio."
   ]
  },
  {
   "cell_type": "code",
   "execution_count": null,
   "metadata": {},
   "outputs": [],
   "source": [
    "df[\"log_price\"] = np.log(df[\"price\"])"
   ]
  },
  {
   "cell_type": "code",
   "execution_count": null,
   "metadata": {},
   "outputs": [],
   "source": [
    "fig, ax = plt.subplots(figsize=(8, 6), dpi=150)\n",
    "ax.hist(df[\"log_price\"], density=True, bins=50)\n",
    "ax.set(\n",
    "    ylabel=\"Density\",\n",
    "    xlabel=\"Log Price\"\n",
    ")\n",
    "plt.show()"
   ]
  },
  {
   "cell_type": "code",
   "execution_count": null,
   "metadata": {},
   "outputs": [],
   "source": [
    "df.info()"
   ]
  },
  {
   "cell_type": "markdown",
   "metadata": {},
   "source": [
    "### Primer modelo de regresión"
   ]
  },
  {
   "cell_type": "markdown",
   "metadata": {},
   "source": [
    "En este taller se hace uso del módulo `spreg` en Pysal. Se usa esta librería puesto que la única que permitiría avanzar hacia modelos espaciales.\n",
    "\n",
    "Para ajustar el modelo usando mínimos cuadrados ordinarios (OLS), sólo se necesita la siguiente línea de código.\n",
    "\n",
    "Es importante mencionar que los objectos necesitan ser arrays, por lo que lo que se extrae usando el atributo `values`."
   ]
  },
  {
   "cell_type": "code",
   "execution_count": null,
   "metadata": {},
   "outputs": [],
   "source": [
    "from pysal.model import spreg"
   ]
  },
  {
   "cell_type": "code",
   "execution_count": null,
   "metadata": {},
   "outputs": [],
   "source": [
    "variables = [\n",
    "    \"accommodates\",\n",
    "]\n",
    "\n",
    "y = df[\"log_price\"]\n",
    "\n",
    "X = df[variables]"
   ]
  },
  {
   "cell_type": "code",
   "execution_count": null,
   "metadata": {},
   "outputs": [],
   "source": [
    "# Fit OLS model\n",
    "model_1 = spreg.OLS(\n",
    "    y.values,\n",
    "    X.values,\n",
    "    name_y=\"log_price\",\n",
    "    name_x=variables,\n",
    ")"
   ]
  },
  {
   "cell_type": "markdown",
   "metadata": {},
   "source": [
    "Para inspeccionar los resultados del modelo, se puede hacer un print el atributo `summary`:"
   ]
  },
  {
   "cell_type": "code",
   "execution_count": null,
   "metadata": {},
   "outputs": [],
   "source": [
    "print(model_1.summary)"
   ]
  },
  {
   "cell_type": "markdown",
   "metadata": {},
   "source": [
    "De este resultado, es importante concentrarse en la sección `Coefficients`, que brinda las estimaciones de $\\beta_k$ en el modelo. En otras palabras, estos números expresan la relación entre cada variable explicativa y la dependiente.\n",
    "\n",
    "Este resultado es esperado. Las propiedades tienden a ser más caras si tienen capacidad para más personas."
   ]
  },
  {
   "cell_type": "markdown",
   "metadata": {},
   "source": [
    "En general, el modelo puede predecir menos de la mitad ($R^2=0,52$) de la variación en el precio medio nocturno utilizando la covariable que se analizó."
   ]
  },
  {
   "cell_type": "markdown",
   "metadata": {},
   "source": [
    "### ¿Se puede mejorar?"
   ]
  },
  {
   "cell_type": "markdown",
   "metadata": {},
   "source": [
    "Se incluyen nuevas variables para intentar mejorar el modelo."
   ]
  },
  {
   "cell_type": "markdown",
   "metadata": {},
   "source": [
    "#### Tipo de alquiler: ¿Se alquila una propiedad completa?"
   ]
  },
  {
   "cell_type": "code",
   "execution_count": null,
   "metadata": {},
   "outputs": [],
   "source": [
    "df[\"is_entire_place\"] = (df[\"room_type\"] == \"Entire home/apt\").astype(int)"
   ]
  },
  {
   "cell_type": "code",
   "execution_count": null,
   "metadata": {},
   "outputs": [],
   "source": [
    "# Average price\n",
    "avg_price = df.groupby(\"is_entire_place\")[\"log_price\"].mean().reset_index()\n",
    "\n",
    "is_entire_place = avg_price[\"is_entire_place\"]\n",
    "prices = avg_price[\"log_price\"]\n",
    "\n",
    "fig, ax = plt.subplots(figsize=(8, 6), dpi=150)\n",
    "\n",
    "# Crear el gráfico de barras en los ejes\n",
    "ax.bar(is_entire_place, prices)\n",
    "\n",
    "# Agregar título y etiquetas\n",
    "ax.set_xlabel(\"Is the entire place availabe?\")\n",
    "ax.set_ylabel(\"Log Price\")\n",
    "ax.set_xticks(is_entire_place, [0, 1])\n",
    "\n",
    "plt.show()"
   ]
  },
  {
   "cell_type": "markdown",
   "metadata": {},
   "source": [
    "#### Amenities: ¿Tiene lavaplatos / lavavajillas?"
   ]
  },
  {
   "cell_type": "code",
   "execution_count": null,
   "metadata": {},
   "outputs": [],
   "source": [
    "for amenity in df[\"amenities\"].unique()[:1]:\n",
    "    print(amenity)"
   ]
  },
  {
   "cell_type": "code",
   "execution_count": null,
   "metadata": {},
   "outputs": [],
   "source": [
    "# Convert string in lists\n",
    "df[\"amenities\"] = df[\"amenities\"].apply(json.loads)"
   ]
  },
  {
   "cell_type": "code",
   "execution_count": null,
   "metadata": {},
   "outputs": [],
   "source": [
    "df[\"amenities\"][0]"
   ]
  },
  {
   "cell_type": "code",
   "execution_count": null,
   "metadata": {},
   "outputs": [],
   "source": [
    "df[\"has_dishwasher\"] = df[\"amenities\"].apply(\n",
    "    lambda x: any(\"dishwasher\" in amenity.lower() for amenity in x)\n",
    ").astype(int)"
   ]
  },
  {
   "cell_type": "code",
   "execution_count": null,
   "metadata": {},
   "outputs": [],
   "source": [
    "print(f\"Number of properties with dishwaher: {df['has_dishwasher'].sum()}\")"
   ]
  },
  {
   "cell_type": "code",
   "execution_count": null,
   "metadata": {},
   "outputs": [],
   "source": [
    "df[\"has_dishwasher\"].mean()"
   ]
  },
  {
   "cell_type": "code",
   "execution_count": null,
   "metadata": {},
   "outputs": [],
   "source": [
    "# Average price\n",
    "avg_price = df.groupby(\"has_dishwasher\")[\"log_price\"].mean().reset_index()\n",
    "\n",
    "has_dishwasher = avg_price[\"has_dishwasher\"]\n",
    "prices = avg_price[\"log_price\"]\n",
    "\n",
    "fig, ax = plt.subplots(figsize=(8, 6), dpi=150)\n",
    "\n",
    "# Crear el gráfico de barras en los ejes\n",
    "ax.bar(has_dishwasher, prices)\n",
    "\n",
    "# Agregar título y etiquetas\n",
    "ax.set_xlabel(\"Does the airbnb have dishwasher?\")\n",
    "ax.set_ylabel(\"Log Price\")\n",
    "ax.set_xticks(has_dishwasher, [0, 1])\n",
    "\n",
    "plt.show()"
   ]
  },
  {
   "cell_type": "code",
   "execution_count": null,
   "metadata": {},
   "outputs": [],
   "source": [
    "df.info()"
   ]
  },
  {
   "cell_type": "markdown",
   "metadata": {},
   "source": [
    "### Segundo modelo de regresión"
   ]
  },
  {
   "cell_type": "code",
   "execution_count": null,
   "metadata": {},
   "outputs": [],
   "source": [
    "variables = [\n",
    "    \"accommodates\",\n",
    "    \"bathrooms\",\n",
    "    \"bedrooms\",\n",
    "    \"beds\",\n",
    "    \"has_dishwasher\",\n",
    "    \"is_entire_place\",\n",
    "]\n",
    "\n",
    "y = df[\"log_price\"]\n",
    "\n",
    "X = df[variables]"
   ]
  },
  {
   "cell_type": "code",
   "execution_count": null,
   "metadata": {},
   "outputs": [],
   "source": [
    "# Fit OLS model\n",
    "model_2 = spreg.OLS(\n",
    "    y.values,\n",
    "    X.values,\n",
    "    name_y=\"log_price\",\n",
    "    name_x=variables,\n",
    ")"
   ]
  },
  {
   "cell_type": "code",
   "execution_count": null,
   "metadata": {},
   "outputs": [],
   "source": [
    "print(model_2.summary)"
   ]
  },
  {
   "cell_type": "markdown",
   "metadata": {},
   "source": [
    "Los resultados son en gran medida los esperados: las casas tienden a ser significativamente más caras si se alquila toda la propiedad, tienen capacidad para más personas (`accommodates`), si tienen más baños, dormitorios o lavajillas. Por el contrario, dado el número de habitaciones, las casas con más camas (es decir, las que están más \"pobladas\") tienden a ser más baratas."
   ]
  },
  {
   "cell_type": "markdown",
   "metadata": {},
   "source": [
    "En general, el modelo puede predecir alrededor de la mitad ($R^2=0,60$) de la variación en el precio medio nocturno utilizando las covariables que se han analizado anteriormente.\n",
    "\n",
    "Sin embargo, el modelo puede mostrar cierta agrupación en los errores, lo que puede ser un problema ya que viola la norma i.i.d. que los modelos lineales de suposición generalmente vienen incorporados.\n",
    "\n",
    "Una teoría razonable podría ser que el modelo no incluye ninguna información sobre *playas*, un aspecto crítico de por qué la gente vive y vacaciona en San Diego. Por lo tanto, es posible que se desee ver si los errores son mayores o menores dependiendo de si un Airbnb está o no en un vecindario \"de playa\", un vecindario cerca del océano."
   ]
  },
  {
   "cell_type": "code",
   "execution_count": null,
   "metadata": {},
   "outputs": [],
   "source": [
    "coastal_neighborhoods = [\n",
    "    \"Wooded Area\",\n",
    "    \"Ocean Beach\",\n",
    "    \"Pacific Beach\",\n",
    "    \"La Jolla\",\n",
    "    \"Torrey Pines\",\n",
    "    \"Del Mar Heighs\",\n",
    "    \"Mission Bay\",\n",
    "]\n",
    "\n",
    "# Create a Boolean (True/False) with whether a property is coastal or not\n",
    "df[\"is_coastal_neig\"] = (\n",
    "    df[\"neighbourhood\"].isin(coastal_neighborhoods).astype(bool)\n",
    ")"
   ]
  },
  {
   "cell_type": "code",
   "execution_count": null,
   "metadata": {},
   "outputs": [],
   "source": [
    "is_coastal_neig = df[\"is_coastal_neig\"]\n",
    "\n",
    "# Split residuals between coastal and not\n",
    "coastal_residuals = model_1.u[is_coastal_neig]\n",
    "non_coastal_residuals = model_1.u[~is_coastal_neig]\n",
    "\n",
    "fig, ax = plt.subplots(figsize=(8, 6), dpi=150)\n",
    "\n",
    "# Create histogram of the distribution of coastal and non-coastal residuals\n",
    "ax.hist(coastal_residuals, density=True, bins=50, label=\"Coastal\")\n",
    "ax.hist(\n",
    "    non_coastal_residuals,\n",
    "    histtype=\"step\",\n",
    "    density=True,\n",
    "    linewidth=4,\n",
    "    bins=50,\n",
    "    label=\"Not Coastal\",\n",
    ")\n",
    "ax.set(ylabel=\"Density\", xlabel=\"Residuals\")\n",
    "\n",
    "plt.vlines(0, 0, 1, linestyle=\"--\", color=\"k\", linewidth=2)\n",
    "plt.legend()\n",
    "plt.show()"
   ]
  },
  {
   "cell_type": "markdown",
   "metadata": {},
   "source": [
    "Si bien parece que los vecindarios de la costa tienen errores promedio sólo ligeramente más altos, las dos distribuciones son significativamente distintas entre sí cuando se comparan utilizando una prueba $t$ clásica:"
   ]
  },
  {
   "cell_type": "code",
   "execution_count": null,
   "metadata": {},
   "outputs": [],
   "source": [
    "from scipy.stats import ttest_ind\n",
    "\n",
    "ttest_ind(coastal_residuals, non_coastal_residuals)"
   ]
  },
  {
   "cell_type": "markdown",
   "metadata": {},
   "source": [
    "## Trayendo el espacio al marco de regresión\n",
    "\n",
    "Hay muchas formas en que la estructura espacial aparece en los modelos, predicciones y datos, incluso si no se tiene la intención explícita de modelarse.\n",
    "\n",
    "Afortunadamente, existen técnicas llamadas métodos de *regresión espacial*, que están diseñadas para manejar este tipo de estructuras. La regresión espacial consiste en introducir *explícitamente* el espacio o el contexto geográfico en el marco estadístico de una regresión.\n",
    "\n",
    "Conceptualmente, se introduce el espacio en el modelo siempre que se piense que este juega un papel importante en el proceso que interesa modelar, o cuando el espacio puede actuar como un sustituto razonable de otros factores que no se pueden pero se deberían incluir en el modelo."
   ]
  },
  {
   "cell_type": "markdown",
   "metadata": {},
   "source": [
    "### Variables de proximidad\n",
    "\n",
    "Se pueden incorporar *características espaciales* construidas a partir de relaciones geográficas.\n",
    "\n",
    "Una variable relevante impulsada por la proximidad que podría influir en este modelo se basa en la proximidad de las propiedades al Parque Balboa. Un destino turístico común, es un centro recreativo central para la ciudad de San Diego, que contiene muchos museos y el Zoológico de la ciudad. Por lo tanto, podría darse el caso de que las personas que buscan Airbnb en esta región estén dispuestas a pagar una prima para vivir más cerca del parque. Si esto fuese cierto *y* se omitiese en el modelo, entonces se podría ver un patrón espacial significativo causado por este efecto de disminución de la distancia."
   ]
  },
  {
   "cell_type": "code",
   "execution_count": null,
   "metadata": {},
   "outputs": [],
   "source": [
    "import geopandas as gpd\n",
    "from geopy.geocoders import Nominatim\n",
    "from scipy.spatial.distance import cdist\n",
    "from shapely.geometry import Point\n"
   ]
  },
  {
   "cell_type": "code",
   "execution_count": null,
   "metadata": {},
   "outputs": [],
   "source": [
    "df[\"geometry\"] = df[[\"longitude\", \"latitude\"]].apply(lambda row: Point(*row), axis=1)\n",
    "gdf = gpd.GeoDataFrame(df, crs=\"EPSG:4326\")"
   ]
  },
  {
   "cell_type": "code",
   "execution_count": null,
   "metadata": {},
   "outputs": [],
   "source": [
    "gdf.head()"
   ]
  },
  {
   "cell_type": "code",
   "execution_count": null,
   "metadata": {},
   "outputs": [],
   "source": [
    "# Finding Balboa Park location\n",
    "\n",
    "balboa_park_address = \"Balboa Park, San Diego, US\"\n",
    "\n",
    "geolocator = Nominatim(user_agent=\"clase\")\n",
    "balboa_park_location = geolocator.geocode(balboa_park_address)\n",
    "balboa_park_location"
   ]
  },
  {
   "cell_type": "code",
   "execution_count": null,
   "metadata": {},
   "outputs": [],
   "source": [
    "balboa_park_location.longitude, balboa_park_location.latitude"
   ]
  },
  {
   "cell_type": "code",
   "execution_count": null,
   "metadata": {},
   "outputs": [],
   "source": [
    "# USA Contiguous Albers Equal Area (m.)\n",
    "# http://epsg.io/102003\n",
    "tgt_crs = \"ESRI:102003\"\n",
    "\n",
    "balboa_park_xy = gpd.GeoSeries(\n",
    "    Point(\n",
    "        (balboa_park_location.longitude, balboa_park_location.latitude)\n",
    "        ),\n",
    "        crs=gdf.crs,\n",
    "    ).to_crs(tgt_crs)[0]\n",
    "balboa_park_xy = (balboa_park_xy.x, balboa_park_xy.y)"
   ]
  },
  {
   "cell_type": "code",
   "execution_count": null,
   "metadata": {},
   "outputs": [],
   "source": [
    "point_1 = gdf[\"geometry\"].to_crs(tgt_crs)[0].x, gdf[\"geometry\"].to_crs(tgt_crs)[0].y"
   ]
  },
  {
   "cell_type": "code",
   "execution_count": null,
   "metadata": {},
   "outputs": [],
   "source": [
    "point_1"
   ]
  },
  {
   "cell_type": "code",
   "execution_count": null,
   "metadata": {},
   "outputs": [],
   "source": [
    "cdist([point_1], [balboa_park_xy])[0][0]"
   ]
  },
  {
   "cell_type": "code",
   "execution_count": null,
   "metadata": {},
   "outputs": [],
   "source": [
    "gdf[\"distance_to_balboa_park\"] = gdf[\"geometry\"].to_crs(tgt_crs).apply(\n",
    "    lambda row: cdist([(row.x, row.y)], [balboa_park_xy])[0][0]\n",
    ")"
   ]
  },
  {
   "cell_type": "code",
   "execution_count": null,
   "metadata": {},
   "outputs": [],
   "source": [
    "# Plot distance to Balboa Park\n",
    "fig, ax = plt.subplots(figsize=(12, 6), dpi=150)\n",
    "\n",
    "ax = gdf.plot(\n",
    "    column=\"distance_to_balboa_park\",\n",
    "    scheme=\"quantiles\",\n",
    "    k=9,\n",
    "    cmap=\"Blues\",\n",
    "    s=1,\n",
    "    ax=ax\n",
    ")\n",
    "ax.set_axis_off()\n",
    "\n",
    "plt.show()"
   ]
  },
  {
   "cell_type": "code",
   "execution_count": null,
   "metadata": {},
   "outputs": [],
   "source": [
    "variables = [\n",
    "    \"accommodates\",\n",
    "    \"bathrooms\",\n",
    "    \"bedrooms\",\n",
    "    \"beds\",\n",
    "    \"has_dishwasher\",\n",
    "    \"is_entire_place\",\n",
    "    \"distance_to_balboa_park\",\n",
    "]\n",
    "\n",
    "y = gdf[\"log_price\"]\n",
    "\n",
    "X = gdf[variables]"
   ]
  },
  {
   "cell_type": "code",
   "execution_count": null,
   "metadata": {},
   "outputs": [],
   "source": [
    "model_3 = spreg.OLS(\n",
    "    y.values,\n",
    "    X.values,\n",
    "    name_y=\"log_price\",\n",
    "    name_x=variables,\n",
    ")"
   ]
  },
  {
   "cell_type": "code",
   "execution_count": null,
   "metadata": {},
   "outputs": [],
   "source": [
    "print(model_3.summary)"
   ]
  },
  {
   "cell_type": "markdown",
   "metadata": {},
   "source": [
    "Cuando se inspecciona el modelo de regresión, se observa que esta covariable no es tan útil como se esperaba."
   ]
  },
  {
   "cell_type": "markdown",
   "metadata": {},
   "source": [
    "#### Spatial Fixed effects\n",
    "\n",
    "Si se sabe que el precio varía en el espacio, se esperaría conocer el patrón que sigue (en este caso, por vecindario) y, por lo tanto, se puede incorporar ese conocimiento en el modelo dejando que $\\alpha$ varíe en consecuencia.\n",
    "\n",
    "Dado que sólo se incluyen unas pocas variables explicativas en el modelo, es probable que falten algunos factores importantes que influyen en la determinación del precio al que se ofrece una propiedad. Sin embargo, es probable que algunos de ellos varíen sistemáticamente en el espacio (por ejemplo, diferentes características del vecindario). Si ese es el caso, se pueden controlar esos factores no observados utilizando variables binarias tradicionales pero basando su creación en una regla espacial. Por ejemplo, si se incluye una variable binaria para cada barrio, indicando si una propiedad determinada está ubicada dentro de dicha área (`1`) o no (`0`). Matemáticamente ahora se está ajustando la siguiente ecuación:\n",
    "\n",
    "$$\n",
    "\\log{P_i} = \\alpha_r + \\sum_k \\mathbf{X}_{ik}\\beta_k + \\epsilon_i\n",
    "$$\n",
    "\n",
    "donde la principal diferencia es que ahora permitimos que el término constante, $\\alpha$, varíe según la vecindad $r$, $\\alpha_r$."
   ]
  },
  {
   "cell_type": "code",
   "execution_count": null,
   "metadata": {},
   "outputs": [],
   "source": [
    "# spreg spatial fixed effect implementation\n",
    "model_4 = spreg.OLS_Regimes(\n",
    "    y=y.values,\n",
    "    x=X.values,\n",
    "    # Variable specifying regimes membership\n",
    "    regimes=gdf[\"neighbourhood\"].tolist(),\n",
    "    # Allow the constant term to vary by group/regime\n",
    "    constant_regi=\"many\",\n",
    "    # Variables to be allowed to vary (True) or kept\n",
    "    # constant (False). Here we set all to False\n",
    "    cols2regi=[False] * len(variables),\n",
    "    # Allow separate sigma coefficients to be estimated\n",
    "    # by regime (False so a single sigma)\n",
    "    regime_err_sep=False,\n",
    "    name_y=\"log_price\",\n",
    "    name_x=variables,\n",
    ")"
   ]
  },
  {
   "cell_type": "markdown",
   "metadata": {},
   "source": [
    "Con estos efectos fijos por vecindarios, en lugar de comparar todos los precios de las viviendas en San Diego como iguales, solo se deriva la variación dentro de cada vecindario.\n",
    "\n",
    "Recordando que la interpretación de $\\beta_k$ es el efecto de la variable $k$, *dado que todas las demás variables explicativas incluidas permanecen constantes*. Al incluir una sola variable para cada área, efectivamente se está obligando al modelo a comparar como iguales sólo los precios de las viviendas que pertenencen a la misma zona. La introducción de efectos fijos permite un mayor grado de aislamiento de los efectos de las variables que introducimos en el modelo porque podemos controlar los efectos no observados que se alinean espacialmente."
   ]
  },
  {
   "cell_type": "code",
   "execution_count": null,
   "metadata": {},
   "outputs": [],
   "source": [
    "print(model_4.summary)"
   ]
  },
  {
   "cell_type": "code",
   "execution_count": null,
   "metadata": {},
   "outputs": [],
   "source": [
    "import contextily"
   ]
  },
  {
   "cell_type": "code",
   "execution_count": null,
   "metadata": {},
   "outputs": [],
   "source": [
    "neighbourhoods_path = DATA_PATH / \"neighbourhoods.geojson\"\n",
    "neighbourhoods = gpd.read_file(neighbourhoods_path)\n",
    "neighbourhoods.head()"
   ]
  },
  {
   "cell_type": "code",
   "execution_count": null,
   "metadata": {},
   "outputs": [],
   "source": [
    "neighbourhoods.centroid"
   ]
  },
  {
   "cell_type": "code",
   "execution_count": null,
   "metadata": {},
   "outputs": [],
   "source": [
    "neighbourhood_effects = pd.DataFrame(\n",
    "    zip(model_4.regimes_set, model_4.betas[0 : len(model_4.regimes_set)].flatten()),\n",
    "    columns=[\"neighbourhood\", \"fixed_effect\"],\n",
    ")\n"
   ]
  },
  {
   "cell_type": "code",
   "execution_count": null,
   "metadata": {},
   "outputs": [],
   "source": [
    "neighbourhood_effects.head()"
   ]
  },
  {
   "cell_type": "code",
   "execution_count": null,
   "metadata": {},
   "outputs": [],
   "source": [
    "fig, ax = plt.subplots(figsize=(12, 8), dpi=150)\n",
    "\n",
    "neighbourhoods.merge(\n",
    "    neighbourhood_effects,\n",
    "    how=\"left\",\n",
    "    on=\"neighbourhood\",\n",
    ").dropna(\n",
    "    subset=[\"fixed_effect\"]\n",
    ").plot(\n",
    "    \"fixed_effect\",\n",
    "    scheme=\"quantiles\",\n",
    "    k=6,\n",
    "    linewidth=0.1,\n",
    "    cmap=\"viridis\",\n",
    "    ax=ax,\n",
    "    legend=True\n",
    ")\n",
    "\n",
    "contextily.add_basemap(\n",
    "    ax,\n",
    "    crs=neighbourhoods.crs,\n",
    "    source=contextily.providers.CartoDB.PositronNoLabels,\n",
    ")\n",
    "\n",
    "ax.set_axis_off()\n",
    "plt.show()"
   ]
  },
  {
   "cell_type": "markdown",
   "metadata": {},
   "source": [
    "### Dependencia espacial\n",
    "\n",
    "Si se supone que el precio del alquiler de una propiedad depende de si esta rodeada por muchas propiedades que se alquilan completamente. Se podría tener la hipótesis de que si existen muchas propiedades vecinas en las que sólo se alquila una habitación el precio del alquilar de las propiedades privadas podría ser más elevado.\n",
    "\n",
    "Es decir, se está interesado en conocer no sólo las características de cada propiedad si no también las de sus alrededores.\n",
    "\n",
    "Este tipo de efecto espacial es fundamentalmente diferente de efectos fijos dado que no está relacionado con características inherentes de la geografía sino que se relaciona a las características de las observaciones en el conjunto de datos y, especialmente, a su\n",
    "distribución espacial. Este  fenómeno por el cual los valores de las observaciones se relacionan con entre sí a través de la distancia se conoce como *dependencia espacial*.\n",
    "\n",
    "Hay varias formas de introducir la dependencia espacial, con distintos grados de sofisticación. Sin embargo, todos ellos tienen en común la forma en que se organiza el espacio, encapsulado formalmente: a través de *spatial weights*."
   ]
  },
  {
   "cell_type": "markdown",
   "metadata": {},
   "source": [
    "### Spatial Weights\n",
    "\n",
    "\"Spatial Weights\" son una forma de representar la relación de una observación con sus vecinos.\n",
    "\n",
    "#### Basados en contigüidad\n",
    "\n",
    "Un par contiguo de objetos espaciales son aquellos que comparten un borde común.\n",
    "\n",
    "* **Rook**: Dos elementos son vecinos si comparten una arista.\n",
    "* **Queen**: Dos elementos son vecinos si comparten un vértice."
   ]
  },
  {
   "cell_type": "code",
   "execution_count": null,
   "metadata": {},
   "outputs": [],
   "source": [
    "from pysal.lib import weights"
   ]
  },
  {
   "cell_type": "code",
   "execution_count": null,
   "metadata": {},
   "outputs": [],
   "source": [
    "queen_weigths = weights.contiguity.Queen.from_dataframe(neighbourhoods)"
   ]
  },
  {
   "cell_type": "code",
   "execution_count": null,
   "metadata": {},
   "outputs": [],
   "source": [
    "fig, ax = plt.subplots(figsize=(12, 8), dpi=150)\n",
    "\n",
    "ax = neighbourhoods.plot(ax=ax, color=\"white\", edgecolor=\"black\")\n",
    "queen_weigths.plot(\n",
    "    neighbourhoods,\n",
    "    ax=ax,\n",
    "    edge_kws=dict(color=\"r\", linestyle=\":\", linewidth=1),\n",
    "    node_kws=dict(marker=\"\"),\n",
    ")\n",
    "ax.set_axis_off()\n",
    "plt.show()\n"
   ]
  },
  {
   "cell_type": "markdown",
   "metadata": {},
   "source": [
    "#### Basados en distancia\n",
    "\n",
    "Además de la contigüidad, también se puede definir las relaciones de vecindad como una función de la distancia que separa las observaciones espaciales. Generalmente, esto significa que se requiere una matriz que exprese las distancias entre todos los pares de observaciones. Luego, estos se proporcionan a una función **kernel** que utiliza la información de proximidad para modelar la proximidad como una función suave de la distancia."
   ]
  },
  {
   "cell_type": "markdown",
   "metadata": {},
   "source": [
    "##### K-nearest neighbors\n",
    "\n",
    "El primer tipo de pesos basados ​​en la distancia define el conjunto vecino de una observación particular que contiene sus observaciones $k$ más cercanas, donde el usuario especifica el valor de $k$. Para ilustrar esto, se toma $k=4$.\n",
    "\n",
    "Los centroides se calculan a partir de la información espacial almacenada en el `GeoDataFrame`. Dado que se está tratando con polígonos, \"pysal\" usa distancias entre centroides para determinar la $k$ observaciones más cercanas a cada polígono."
   ]
  },
  {
   "cell_type": "code",
   "execution_count": null,
   "metadata": {},
   "outputs": [],
   "source": [
    "knn_weights = weights.distance.KNN.from_dataframe(neighbourhoods, k=4)"
   ]
  },
  {
   "cell_type": "markdown",
   "metadata": {},
   "source": [
    "##### Distance bands Weights\n",
    "\n",
    "En algunos contextos, tiene sentido trazar un círculo alrededor de cada observación y considerar como vecinas todas las demás observaciones que caen dentro del círculo. Si las observaciones están dentro, se les asigna un peso de uno en la matriz de pesos espaciales, si no, reciben un cero.\n",
    "\n",
    "* Booleano: Los elementos dentro del radio tienen el mismo peso.\n",
    "* Función de decaímiento: Se penaliza de acuerdo a la distancia.\n",
    "\n",
    "Esto crea pesos de distancia binarios donde todas las demás observaciones dentro una distancia de 1.5 se considera vecina."
   ]
  },
  {
   "cell_type": "code",
   "execution_count": null,
   "metadata": {},
   "outputs": [],
   "source": [
    "distance_bands_weights_binary = weights.distance.DistanceBand.from_dataframe(\n",
    "    neighbourhoods, 1.5, binary=True\n",
    ")"
   ]
  },
  {
   "cell_type": "code",
   "execution_count": null,
   "metadata": {},
   "outputs": [],
   "source": [
    "distance_bands_weights_non_binary = weights.distance.DistanceBand.from_dataframe(\n",
    "    neighbourhoods, 1.5, binary=False\n",
    ")"
   ]
  },
  {
   "cell_type": "markdown",
   "metadata": {},
   "source": [
    "#### Efectos exógenos: el modelo SLX\n",
    "\n",
    "Hasta ahora se ha planteado la hipótesis de que el precio de una propiedad alquilada en San Diego a través de Airbnb se puede explicar utilizando información tanto de sus propias características como de su ubicación como el barrio o la distancia al parque principal de la ciudad. Sin embargo, también es razonable pensar que los posibles inquilinos se preocupan por el conjunto de vecinos que tiene una casa, no sólo por la casa en sí, y estarían dispuestos a pagar más por una casa que estuviera rodeada de cierto tipo de casas, y menos si estaba ubicado en medio de otros tipos. ¿Cómo se podría probar esta idea?\n",
    "\n",
    "Cuando se trata de regresión, la forma más sencilla de introducir una dependencia espacial entre las observaciones de los datos es considerando no sólo una variable explicativa determinada, sino también su *spatial lag*.\n",
    "\n",
    "En este caso de ejemplo, además de incluir una variable ficticia para el tipo de alquiler, también se puede incluir el spatial lag de cada tipo de alquiler. Esta suma implica que también incluimos como factor explicativo del precio de una determinada casa la proporción de propiedades vecinas de cada tipo. Matemáticamente, esto implica estimar el siguiente modelo:\n",
    "\n",
    "$$\n",
    "\\log(P_i) = \\alpha + \\sum^{p}_{k=1}X_{ij}\\beta_j + \\sum^{p}_{k=1}\\left(\\sum^{N}_ {j=1}w_{ij}x_{jk}\\right)\\gamma_k + \\epsilon_i\n",
    "$$\n",
    "\n",
    "donde $\\sum_{j=1}^N w_{ij}x_{jk}$ representa el retraso espacial de la $k$ésima variable explicativa.\n",
    "\n",
    "Esto divide el modelo para centrarse en dos efectos principales: $\\beta$ y $\\gamma$. El efecto $\\beta$ describe el cambio en $y_i$ cuando $X_{ik}$ cambia en uno.\n",
    "\n",
    "El efecto $\\gamma$ representa la asociación *indirecta* de un cambio en $X_i$ con el precio de la vivienda. Esto se puede conceptualizar de dos maneras.\n",
    "\n",
    "En primer lugar, se podría pensar en $\\gamma$ simplemente como *la asociación entre el precio de una propiedad determinada y un cambio unitario en su entorno promedio.*\n",
    "Esto es útil y sencillo. Pero esta interpretación desdibuja *donde* este cambio\n",
    "puede ocurrir.\n",
    "\n",
    "En Python, se puede calcular el spatial lag de una variable usando la función `lag_spatial` de la librería `pysal`."
   ]
  },
  {
   "cell_type": "code",
   "execution_count": null,
   "metadata": {},
   "outputs": [],
   "source": [
    "spatial_weights = weights.KNN.from_dataframe(gdf, k=20)\n",
    "spatial_weights.transform = \"R\""
   ]
  },
  {
   "cell_type": "code",
   "execution_count": null,
   "metadata": {},
   "outputs": [],
   "source": [
    "price_lag = weights.spatial_lag.lag_spatial(spatial_weights, y.values)\n",
    "price_lag[0:10]"
   ]
  },
  {
   "cell_type": "code",
   "execution_count": null,
   "metadata": {},
   "outputs": [],
   "source": [
    "fig, (ax1, ax2) = plt.subplots(1, 2, figsize=(20, 15))\n",
    "gdf.plot(\"log_price\", marker=\".\", s=60, ax=ax1, legend=True, cmap=\"Blues\")\n",
    "gdf.plot(\n",
    "    column=price_lag.flatten(), marker=\".\", s=60, ax=ax2, legend=True, cmap=\"Blues\"\n",
    ")\n",
    "ax1.set_title(\"Log Price\")\n",
    "ax2.set_title(\"Log Price - Spatial Lag\")\n",
    "ax.set_axis_off()\n",
    "\n",
    "plt.show()"
   ]
  },
  {
   "cell_type": "code",
   "execution_count": null,
   "metadata": {},
   "outputs": [],
   "source": [
    "X[\"slx_is_entire_place\"] = weights.spatial_lag.lag_spatial(\n",
    "    spatial_weights, X[\"is_entire_place\"]\n",
    ")\n",
    "X[\"slx_bathrooms\"] = weights.spatial_lag.lag_spatial(spatial_weights, X[\"bathrooms\"])\n"
   ]
  },
  {
   "cell_type": "code",
   "execution_count": null,
   "metadata": {},
   "outputs": [],
   "source": [
    "X.head()"
   ]
  },
  {
   "cell_type": "code",
   "execution_count": null,
   "metadata": {},
   "outputs": [],
   "source": [
    "slx_model = spreg.OLS(\n",
    "    y=y.values,\n",
    "    x=X.values,\n",
    "    name_y=\"log_price\",\n",
    "    name_x=X.columns.tolist()\n",
    ")"
   ]
  },
  {
   "cell_type": "code",
   "execution_count": null,
   "metadata": {},
   "outputs": [],
   "source": [
    "print(slx_model.summary)"
   ]
  },
  {
   "cell_type": "markdown",
   "metadata": {},
   "source": [
    "##"
   ]
  },
  {
   "cell_type": "markdown",
   "metadata": {},
   "source": []
  }
 ],
 "metadata": {
  "kernelspec": {
   "display_name": "spatial-statistics-course-6R9uGqmC-py3.11",
   "language": "python",
   "name": "python3"
  },
  "language_info": {
   "codemirror_mode": {
    "name": "ipython",
    "version": 3
   },
   "file_extension": ".py",
   "mimetype": "text/x-python",
   "name": "python",
   "nbconvert_exporter": "python",
   "pygments_lexer": "ipython3",
   "version": "3.11.7"
  }
 },
 "nbformat": 4,
 "nbformat_minor": 2
}
